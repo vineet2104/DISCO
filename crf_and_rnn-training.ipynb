{
  "nbformat": 4,
  "nbformat_minor": 0,
  "metadata": {
    "colab": {
      "provenance": [],
      "machine_shape": "hm",
      "gpuType": "A100"
    },
    "kernelspec": {
      "name": "python3",
      "display_name": "Python 3"
    },
    "language_info": {
      "name": "python"
    },
    "accelerator": "GPU",
    "widgets": {
      "application/vnd.jupyter.widget-state+json": {
        "ab02a5647a0d4ee09daf8a9dcb90f1f8": {
          "model_module": "@jupyter-widgets/controls",
          "model_name": "HBoxModel",
          "model_module_version": "1.5.0",
          "state": {
            "_dom_classes": [],
            "_model_module": "@jupyter-widgets/controls",
            "_model_module_version": "1.5.0",
            "_model_name": "HBoxModel",
            "_view_count": null,
            "_view_module": "@jupyter-widgets/controls",
            "_view_module_version": "1.5.0",
            "_view_name": "HBoxView",
            "box_style": "",
            "children": [
              "IPY_MODEL_7698da75f3a241a5adb61e236378c4e5",
              "IPY_MODEL_cd3d10f713e4463585d3245f424f723a",
              "IPY_MODEL_35e5010048434c09b6658eed67b4257c"
            ],
            "layout": "IPY_MODEL_e1bc62ea901240e7b326e3eaeeaecf6c"
          }
        },
        "7698da75f3a241a5adb61e236378c4e5": {
          "model_module": "@jupyter-widgets/controls",
          "model_name": "HTMLModel",
          "model_module_version": "1.5.0",
          "state": {
            "_dom_classes": [],
            "_model_module": "@jupyter-widgets/controls",
            "_model_module_version": "1.5.0",
            "_model_name": "HTMLModel",
            "_view_count": null,
            "_view_module": "@jupyter-widgets/controls",
            "_view_module_version": "1.5.0",
            "_view_name": "HTMLView",
            "description": "",
            "description_tooltip": null,
            "layout": "IPY_MODEL_3bc364ae837c480385dc4a5084c9ac68",
            "placeholder": "​",
            "style": "IPY_MODEL_c0077c8ea3f64e83981c2b425c282b6a",
            "value": "Downloading (…)okenizer_config.json: 100%"
          }
        },
        "cd3d10f713e4463585d3245f424f723a": {
          "model_module": "@jupyter-widgets/controls",
          "model_name": "FloatProgressModel",
          "model_module_version": "1.5.0",
          "state": {
            "_dom_classes": [],
            "_model_module": "@jupyter-widgets/controls",
            "_model_module_version": "1.5.0",
            "_model_name": "FloatProgressModel",
            "_view_count": null,
            "_view_module": "@jupyter-widgets/controls",
            "_view_module_version": "1.5.0",
            "_view_name": "ProgressView",
            "bar_style": "success",
            "description": "",
            "description_tooltip": null,
            "layout": "IPY_MODEL_4752222b40ff450f9ee02c9330c2001c",
            "max": 206,
            "min": 0,
            "orientation": "horizontal",
            "style": "IPY_MODEL_cc080aa86d9744bab16d5d5ec7930895",
            "value": 206
          }
        },
        "35e5010048434c09b6658eed67b4257c": {
          "model_module": "@jupyter-widgets/controls",
          "model_name": "HTMLModel",
          "model_module_version": "1.5.0",
          "state": {
            "_dom_classes": [],
            "_model_module": "@jupyter-widgets/controls",
            "_model_module_version": "1.5.0",
            "_model_name": "HTMLModel",
            "_view_count": null,
            "_view_module": "@jupyter-widgets/controls",
            "_view_module_version": "1.5.0",
            "_view_name": "HTMLView",
            "description": "",
            "description_tooltip": null,
            "layout": "IPY_MODEL_71143cb309cc4c2b98f82ed22c79e715",
            "placeholder": "​",
            "style": "IPY_MODEL_e109304ba1d74b18bffa2b4c8aab7080",
            "value": " 206/206 [00:00&lt;00:00, 14.6kB/s]"
          }
        },
        "e1bc62ea901240e7b326e3eaeeaecf6c": {
          "model_module": "@jupyter-widgets/base",
          "model_name": "LayoutModel",
          "model_module_version": "1.2.0",
          "state": {
            "_model_module": "@jupyter-widgets/base",
            "_model_module_version": "1.2.0",
            "_model_name": "LayoutModel",
            "_view_count": null,
            "_view_module": "@jupyter-widgets/base",
            "_view_module_version": "1.2.0",
            "_view_name": "LayoutView",
            "align_content": null,
            "align_items": null,
            "align_self": null,
            "border": null,
            "bottom": null,
            "display": null,
            "flex": null,
            "flex_flow": null,
            "grid_area": null,
            "grid_auto_columns": null,
            "grid_auto_flow": null,
            "grid_auto_rows": null,
            "grid_column": null,
            "grid_gap": null,
            "grid_row": null,
            "grid_template_areas": null,
            "grid_template_columns": null,
            "grid_template_rows": null,
            "height": null,
            "justify_content": null,
            "justify_items": null,
            "left": null,
            "margin": null,
            "max_height": null,
            "max_width": null,
            "min_height": null,
            "min_width": null,
            "object_fit": null,
            "object_position": null,
            "order": null,
            "overflow": null,
            "overflow_x": null,
            "overflow_y": null,
            "padding": null,
            "right": null,
            "top": null,
            "visibility": null,
            "width": null
          }
        },
        "3bc364ae837c480385dc4a5084c9ac68": {
          "model_module": "@jupyter-widgets/base",
          "model_name": "LayoutModel",
          "model_module_version": "1.2.0",
          "state": {
            "_model_module": "@jupyter-widgets/base",
            "_model_module_version": "1.2.0",
            "_model_name": "LayoutModel",
            "_view_count": null,
            "_view_module": "@jupyter-widgets/base",
            "_view_module_version": "1.2.0",
            "_view_name": "LayoutView",
            "align_content": null,
            "align_items": null,
            "align_self": null,
            "border": null,
            "bottom": null,
            "display": null,
            "flex": null,
            "flex_flow": null,
            "grid_area": null,
            "grid_auto_columns": null,
            "grid_auto_flow": null,
            "grid_auto_rows": null,
            "grid_column": null,
            "grid_gap": null,
            "grid_row": null,
            "grid_template_areas": null,
            "grid_template_columns": null,
            "grid_template_rows": null,
            "height": null,
            "justify_content": null,
            "justify_items": null,
            "left": null,
            "margin": null,
            "max_height": null,
            "max_width": null,
            "min_height": null,
            "min_width": null,
            "object_fit": null,
            "object_position": null,
            "order": null,
            "overflow": null,
            "overflow_x": null,
            "overflow_y": null,
            "padding": null,
            "right": null,
            "top": null,
            "visibility": null,
            "width": null
          }
        },
        "c0077c8ea3f64e83981c2b425c282b6a": {
          "model_module": "@jupyter-widgets/controls",
          "model_name": "DescriptionStyleModel",
          "model_module_version": "1.5.0",
          "state": {
            "_model_module": "@jupyter-widgets/controls",
            "_model_module_version": "1.5.0",
            "_model_name": "DescriptionStyleModel",
            "_view_count": null,
            "_view_module": "@jupyter-widgets/base",
            "_view_module_version": "1.2.0",
            "_view_name": "StyleView",
            "description_width": ""
          }
        },
        "4752222b40ff450f9ee02c9330c2001c": {
          "model_module": "@jupyter-widgets/base",
          "model_name": "LayoutModel",
          "model_module_version": "1.2.0",
          "state": {
            "_model_module": "@jupyter-widgets/base",
            "_model_module_version": "1.2.0",
            "_model_name": "LayoutModel",
            "_view_count": null,
            "_view_module": "@jupyter-widgets/base",
            "_view_module_version": "1.2.0",
            "_view_name": "LayoutView",
            "align_content": null,
            "align_items": null,
            "align_self": null,
            "border": null,
            "bottom": null,
            "display": null,
            "flex": null,
            "flex_flow": null,
            "grid_area": null,
            "grid_auto_columns": null,
            "grid_auto_flow": null,
            "grid_auto_rows": null,
            "grid_column": null,
            "grid_gap": null,
            "grid_row": null,
            "grid_template_areas": null,
            "grid_template_columns": null,
            "grid_template_rows": null,
            "height": null,
            "justify_content": null,
            "justify_items": null,
            "left": null,
            "margin": null,
            "max_height": null,
            "max_width": null,
            "min_height": null,
            "min_width": null,
            "object_fit": null,
            "object_position": null,
            "order": null,
            "overflow": null,
            "overflow_x": null,
            "overflow_y": null,
            "padding": null,
            "right": null,
            "top": null,
            "visibility": null,
            "width": null
          }
        },
        "cc080aa86d9744bab16d5d5ec7930895": {
          "model_module": "@jupyter-widgets/controls",
          "model_name": "ProgressStyleModel",
          "model_module_version": "1.5.0",
          "state": {
            "_model_module": "@jupyter-widgets/controls",
            "_model_module_version": "1.5.0",
            "_model_name": "ProgressStyleModel",
            "_view_count": null,
            "_view_module": "@jupyter-widgets/base",
            "_view_module_version": "1.2.0",
            "_view_name": "StyleView",
            "bar_color": null,
            "description_width": ""
          }
        },
        "71143cb309cc4c2b98f82ed22c79e715": {
          "model_module": "@jupyter-widgets/base",
          "model_name": "LayoutModel",
          "model_module_version": "1.2.0",
          "state": {
            "_model_module": "@jupyter-widgets/base",
            "_model_module_version": "1.2.0",
            "_model_name": "LayoutModel",
            "_view_count": null,
            "_view_module": "@jupyter-widgets/base",
            "_view_module_version": "1.2.0",
            "_view_name": "LayoutView",
            "align_content": null,
            "align_items": null,
            "align_self": null,
            "border": null,
            "bottom": null,
            "display": null,
            "flex": null,
            "flex_flow": null,
            "grid_area": null,
            "grid_auto_columns": null,
            "grid_auto_flow": null,
            "grid_auto_rows": null,
            "grid_column": null,
            "grid_gap": null,
            "grid_row": null,
            "grid_template_areas": null,
            "grid_template_columns": null,
            "grid_template_rows": null,
            "height": null,
            "justify_content": null,
            "justify_items": null,
            "left": null,
            "margin": null,
            "max_height": null,
            "max_width": null,
            "min_height": null,
            "min_width": null,
            "object_fit": null,
            "object_position": null,
            "order": null,
            "overflow": null,
            "overflow_x": null,
            "overflow_y": null,
            "padding": null,
            "right": null,
            "top": null,
            "visibility": null,
            "width": null
          }
        },
        "e109304ba1d74b18bffa2b4c8aab7080": {
          "model_module": "@jupyter-widgets/controls",
          "model_name": "DescriptionStyleModel",
          "model_module_version": "1.5.0",
          "state": {
            "_model_module": "@jupyter-widgets/controls",
            "_model_module_version": "1.5.0",
            "_model_name": "DescriptionStyleModel",
            "_view_count": null,
            "_view_module": "@jupyter-widgets/base",
            "_view_module_version": "1.2.0",
            "_view_name": "StyleView",
            "description_width": ""
          }
        },
        "edeff722a35440bdb7570a7cf03e64e6": {
          "model_module": "@jupyter-widgets/controls",
          "model_name": "HBoxModel",
          "model_module_version": "1.5.0",
          "state": {
            "_dom_classes": [],
            "_model_module": "@jupyter-widgets/controls",
            "_model_module_version": "1.5.0",
            "_model_name": "HBoxModel",
            "_view_count": null,
            "_view_module": "@jupyter-widgets/controls",
            "_view_module_version": "1.5.0",
            "_view_name": "HBoxView",
            "box_style": "",
            "children": [
              "IPY_MODEL_fc4daf630d974645a9c83a55947f8634",
              "IPY_MODEL_de047ef362ba4fbba3bdb16db97a7b87",
              "IPY_MODEL_cdd1b8ce11ef4f6396a22228083b3a05"
            ],
            "layout": "IPY_MODEL_15cffd47bb0e49bab2ef2e09da36ba11"
          }
        },
        "fc4daf630d974645a9c83a55947f8634": {
          "model_module": "@jupyter-widgets/controls",
          "model_name": "HTMLModel",
          "model_module_version": "1.5.0",
          "state": {
            "_dom_classes": [],
            "_model_module": "@jupyter-widgets/controls",
            "_model_module_version": "1.5.0",
            "_model_name": "HTMLModel",
            "_view_count": null,
            "_view_module": "@jupyter-widgets/controls",
            "_view_module_version": "1.5.0",
            "_view_name": "HTMLView",
            "description": "",
            "description_tooltip": null,
            "layout": "IPY_MODEL_4cd9879d18db4d9380433f9281fd8f9b",
            "placeholder": "​",
            "style": "IPY_MODEL_127ce71ebf334367bfd3827be209bbb4",
            "value": "Downloading (…)lve/main/config.json: 100%"
          }
        },
        "de047ef362ba4fbba3bdb16db97a7b87": {
          "model_module": "@jupyter-widgets/controls",
          "model_name": "FloatProgressModel",
          "model_module_version": "1.5.0",
          "state": {
            "_dom_classes": [],
            "_model_module": "@jupyter-widgets/controls",
            "_model_module_version": "1.5.0",
            "_model_name": "FloatProgressModel",
            "_view_count": null,
            "_view_module": "@jupyter-widgets/controls",
            "_view_module_version": "1.5.0",
            "_view_name": "ProgressView",
            "bar_style": "success",
            "description": "",
            "description_tooltip": null,
            "layout": "IPY_MODEL_59da20435a38487b86769ff4e57ad630",
            "max": 411,
            "min": 0,
            "orientation": "horizontal",
            "style": "IPY_MODEL_fa8380632df44784b89da25d5fe0192d",
            "value": 411
          }
        },
        "cdd1b8ce11ef4f6396a22228083b3a05": {
          "model_module": "@jupyter-widgets/controls",
          "model_name": "HTMLModel",
          "model_module_version": "1.5.0",
          "state": {
            "_dom_classes": [],
            "_model_module": "@jupyter-widgets/controls",
            "_model_module_version": "1.5.0",
            "_model_name": "HTMLModel",
            "_view_count": null,
            "_view_module": "@jupyter-widgets/controls",
            "_view_module_version": "1.5.0",
            "_view_name": "HTMLView",
            "description": "",
            "description_tooltip": null,
            "layout": "IPY_MODEL_7510da1125554c9f98b2163885c6b28c",
            "placeholder": "​",
            "style": "IPY_MODEL_bf0ce349d6fd4e2ead1325b9d4749aab",
            "value": " 411/411 [00:00&lt;00:00, 26.8kB/s]"
          }
        },
        "15cffd47bb0e49bab2ef2e09da36ba11": {
          "model_module": "@jupyter-widgets/base",
          "model_name": "LayoutModel",
          "model_module_version": "1.2.0",
          "state": {
            "_model_module": "@jupyter-widgets/base",
            "_model_module_version": "1.2.0",
            "_model_name": "LayoutModel",
            "_view_count": null,
            "_view_module": "@jupyter-widgets/base",
            "_view_module_version": "1.2.0",
            "_view_name": "LayoutView",
            "align_content": null,
            "align_items": null,
            "align_self": null,
            "border": null,
            "bottom": null,
            "display": null,
            "flex": null,
            "flex_flow": null,
            "grid_area": null,
            "grid_auto_columns": null,
            "grid_auto_flow": null,
            "grid_auto_rows": null,
            "grid_column": null,
            "grid_gap": null,
            "grid_row": null,
            "grid_template_areas": null,
            "grid_template_columns": null,
            "grid_template_rows": null,
            "height": null,
            "justify_content": null,
            "justify_items": null,
            "left": null,
            "margin": null,
            "max_height": null,
            "max_width": null,
            "min_height": null,
            "min_width": null,
            "object_fit": null,
            "object_position": null,
            "order": null,
            "overflow": null,
            "overflow_x": null,
            "overflow_y": null,
            "padding": null,
            "right": null,
            "top": null,
            "visibility": null,
            "width": null
          }
        },
        "4cd9879d18db4d9380433f9281fd8f9b": {
          "model_module": "@jupyter-widgets/base",
          "model_name": "LayoutModel",
          "model_module_version": "1.2.0",
          "state": {
            "_model_module": "@jupyter-widgets/base",
            "_model_module_version": "1.2.0",
            "_model_name": "LayoutModel",
            "_view_count": null,
            "_view_module": "@jupyter-widgets/base",
            "_view_module_version": "1.2.0",
            "_view_name": "LayoutView",
            "align_content": null,
            "align_items": null,
            "align_self": null,
            "border": null,
            "bottom": null,
            "display": null,
            "flex": null,
            "flex_flow": null,
            "grid_area": null,
            "grid_auto_columns": null,
            "grid_auto_flow": null,
            "grid_auto_rows": null,
            "grid_column": null,
            "grid_gap": null,
            "grid_row": null,
            "grid_template_areas": null,
            "grid_template_columns": null,
            "grid_template_rows": null,
            "height": null,
            "justify_content": null,
            "justify_items": null,
            "left": null,
            "margin": null,
            "max_height": null,
            "max_width": null,
            "min_height": null,
            "min_width": null,
            "object_fit": null,
            "object_position": null,
            "order": null,
            "overflow": null,
            "overflow_x": null,
            "overflow_y": null,
            "padding": null,
            "right": null,
            "top": null,
            "visibility": null,
            "width": null
          }
        },
        "127ce71ebf334367bfd3827be209bbb4": {
          "model_module": "@jupyter-widgets/controls",
          "model_name": "DescriptionStyleModel",
          "model_module_version": "1.5.0",
          "state": {
            "_model_module": "@jupyter-widgets/controls",
            "_model_module_version": "1.5.0",
            "_model_name": "DescriptionStyleModel",
            "_view_count": null,
            "_view_module": "@jupyter-widgets/base",
            "_view_module_version": "1.2.0",
            "_view_name": "StyleView",
            "description_width": ""
          }
        },
        "59da20435a38487b86769ff4e57ad630": {
          "model_module": "@jupyter-widgets/base",
          "model_name": "LayoutModel",
          "model_module_version": "1.2.0",
          "state": {
            "_model_module": "@jupyter-widgets/base",
            "_model_module_version": "1.2.0",
            "_model_name": "LayoutModel",
            "_view_count": null,
            "_view_module": "@jupyter-widgets/base",
            "_view_module_version": "1.2.0",
            "_view_name": "LayoutView",
            "align_content": null,
            "align_items": null,
            "align_self": null,
            "border": null,
            "bottom": null,
            "display": null,
            "flex": null,
            "flex_flow": null,
            "grid_area": null,
            "grid_auto_columns": null,
            "grid_auto_flow": null,
            "grid_auto_rows": null,
            "grid_column": null,
            "grid_gap": null,
            "grid_row": null,
            "grid_template_areas": null,
            "grid_template_columns": null,
            "grid_template_rows": null,
            "height": null,
            "justify_content": null,
            "justify_items": null,
            "left": null,
            "margin": null,
            "max_height": null,
            "max_width": null,
            "min_height": null,
            "min_width": null,
            "object_fit": null,
            "object_position": null,
            "order": null,
            "overflow": null,
            "overflow_x": null,
            "overflow_y": null,
            "padding": null,
            "right": null,
            "top": null,
            "visibility": null,
            "width": null
          }
        },
        "fa8380632df44784b89da25d5fe0192d": {
          "model_module": "@jupyter-widgets/controls",
          "model_name": "ProgressStyleModel",
          "model_module_version": "1.5.0",
          "state": {
            "_model_module": "@jupyter-widgets/controls",
            "_model_module_version": "1.5.0",
            "_model_name": "ProgressStyleModel",
            "_view_count": null,
            "_view_module": "@jupyter-widgets/base",
            "_view_module_version": "1.2.0",
            "_view_name": "StyleView",
            "bar_color": null,
            "description_width": ""
          }
        },
        "7510da1125554c9f98b2163885c6b28c": {
          "model_module": "@jupyter-widgets/base",
          "model_name": "LayoutModel",
          "model_module_version": "1.2.0",
          "state": {
            "_model_module": "@jupyter-widgets/base",
            "_model_module_version": "1.2.0",
            "_model_name": "LayoutModel",
            "_view_count": null,
            "_view_module": "@jupyter-widgets/base",
            "_view_module_version": "1.2.0",
            "_view_name": "LayoutView",
            "align_content": null,
            "align_items": null,
            "align_self": null,
            "border": null,
            "bottom": null,
            "display": null,
            "flex": null,
            "flex_flow": null,
            "grid_area": null,
            "grid_auto_columns": null,
            "grid_auto_flow": null,
            "grid_auto_rows": null,
            "grid_column": null,
            "grid_gap": null,
            "grid_row": null,
            "grid_template_areas": null,
            "grid_template_columns": null,
            "grid_template_rows": null,
            "height": null,
            "justify_content": null,
            "justify_items": null,
            "left": null,
            "margin": null,
            "max_height": null,
            "max_width": null,
            "min_height": null,
            "min_width": null,
            "object_fit": null,
            "object_position": null,
            "order": null,
            "overflow": null,
            "overflow_x": null,
            "overflow_y": null,
            "padding": null,
            "right": null,
            "top": null,
            "visibility": null,
            "width": null
          }
        },
        "bf0ce349d6fd4e2ead1325b9d4749aab": {
          "model_module": "@jupyter-widgets/controls",
          "model_name": "DescriptionStyleModel",
          "model_module_version": "1.5.0",
          "state": {
            "_model_module": "@jupyter-widgets/controls",
            "_model_module_version": "1.5.0",
            "_model_name": "DescriptionStyleModel",
            "_view_count": null,
            "_view_module": "@jupyter-widgets/base",
            "_view_module_version": "1.2.0",
            "_view_name": "StyleView",
            "description_width": ""
          }
        },
        "d3c969a0274e4e0195d6d54588b50fa1": {
          "model_module": "@jupyter-widgets/controls",
          "model_name": "HBoxModel",
          "model_module_version": "1.5.0",
          "state": {
            "_dom_classes": [],
            "_model_module": "@jupyter-widgets/controls",
            "_model_module_version": "1.5.0",
            "_model_name": "HBoxModel",
            "_view_count": null,
            "_view_module": "@jupyter-widgets/controls",
            "_view_module_version": "1.5.0",
            "_view_name": "HBoxView",
            "box_style": "",
            "children": [
              "IPY_MODEL_a1a4813a5db84b77a1b3cc53f859f686",
              "IPY_MODEL_4ceabbef293e431f9e4eb2fdd2271e8e",
              "IPY_MODEL_cd0a4981f9e44ad08acab5c7531245c7"
            ],
            "layout": "IPY_MODEL_ccbaa9db513e4a11b1021b5c4fd34c21"
          }
        },
        "a1a4813a5db84b77a1b3cc53f859f686": {
          "model_module": "@jupyter-widgets/controls",
          "model_name": "HTMLModel",
          "model_module_version": "1.5.0",
          "state": {
            "_dom_classes": [],
            "_model_module": "@jupyter-widgets/controls",
            "_model_module_version": "1.5.0",
            "_model_name": "HTMLModel",
            "_view_count": null,
            "_view_module": "@jupyter-widgets/controls",
            "_view_module_version": "1.5.0",
            "_view_name": "HTMLView",
            "description": "",
            "description_tooltip": null,
            "layout": "IPY_MODEL_15b56fa8237d4f788f0a9f971a168581",
            "placeholder": "​",
            "style": "IPY_MODEL_2acfeabe41cc48fca5baaaac1b136032",
            "value": "Downloading (…)solve/main/vocab.txt: 100%"
          }
        },
        "4ceabbef293e431f9e4eb2fdd2271e8e": {
          "model_module": "@jupyter-widgets/controls",
          "model_name": "FloatProgressModel",
          "model_module_version": "1.5.0",
          "state": {
            "_dom_classes": [],
            "_model_module": "@jupyter-widgets/controls",
            "_model_module_version": "1.5.0",
            "_model_name": "FloatProgressModel",
            "_view_count": null,
            "_view_module": "@jupyter-widgets/controls",
            "_view_module_version": "1.5.0",
            "_view_name": "ProgressView",
            "bar_style": "success",
            "description": "",
            "description_tooltip": null,
            "layout": "IPY_MODEL_c28d65fa8eca49dba17bcb90c540a9d6",
            "max": 3162999,
            "min": 0,
            "orientation": "horizontal",
            "style": "IPY_MODEL_33e6cf492f3746e1b3c98ac27bac7a35",
            "value": 3162999
          }
        },
        "cd0a4981f9e44ad08acab5c7531245c7": {
          "model_module": "@jupyter-widgets/controls",
          "model_name": "HTMLModel",
          "model_module_version": "1.5.0",
          "state": {
            "_dom_classes": [],
            "_model_module": "@jupyter-widgets/controls",
            "_model_module_version": "1.5.0",
            "_model_name": "HTMLModel",
            "_view_count": null,
            "_view_module": "@jupyter-widgets/controls",
            "_view_module_version": "1.5.0",
            "_view_name": "HTMLView",
            "description": "",
            "description_tooltip": null,
            "layout": "IPY_MODEL_a8a7b3ee14e8433aa7a9420845416920",
            "placeholder": "​",
            "style": "IPY_MODEL_a2bf5be4e8e3448ab2b48086f44ec0b6",
            "value": " 3.16M/3.16M [00:01&lt;00:00, 2.48MB/s]"
          }
        },
        "ccbaa9db513e4a11b1021b5c4fd34c21": {
          "model_module": "@jupyter-widgets/base",
          "model_name": "LayoutModel",
          "model_module_version": "1.2.0",
          "state": {
            "_model_module": "@jupyter-widgets/base",
            "_model_module_version": "1.2.0",
            "_model_name": "LayoutModel",
            "_view_count": null,
            "_view_module": "@jupyter-widgets/base",
            "_view_module_version": "1.2.0",
            "_view_name": "LayoutView",
            "align_content": null,
            "align_items": null,
            "align_self": null,
            "border": null,
            "bottom": null,
            "display": null,
            "flex": null,
            "flex_flow": null,
            "grid_area": null,
            "grid_auto_columns": null,
            "grid_auto_flow": null,
            "grid_auto_rows": null,
            "grid_column": null,
            "grid_gap": null,
            "grid_row": null,
            "grid_template_areas": null,
            "grid_template_columns": null,
            "grid_template_rows": null,
            "height": null,
            "justify_content": null,
            "justify_items": null,
            "left": null,
            "margin": null,
            "max_height": null,
            "max_width": null,
            "min_height": null,
            "min_width": null,
            "object_fit": null,
            "object_position": null,
            "order": null,
            "overflow": null,
            "overflow_x": null,
            "overflow_y": null,
            "padding": null,
            "right": null,
            "top": null,
            "visibility": null,
            "width": null
          }
        },
        "15b56fa8237d4f788f0a9f971a168581": {
          "model_module": "@jupyter-widgets/base",
          "model_name": "LayoutModel",
          "model_module_version": "1.2.0",
          "state": {
            "_model_module": "@jupyter-widgets/base",
            "_model_module_version": "1.2.0",
            "_model_name": "LayoutModel",
            "_view_count": null,
            "_view_module": "@jupyter-widgets/base",
            "_view_module_version": "1.2.0",
            "_view_name": "LayoutView",
            "align_content": null,
            "align_items": null,
            "align_self": null,
            "border": null,
            "bottom": null,
            "display": null,
            "flex": null,
            "flex_flow": null,
            "grid_area": null,
            "grid_auto_columns": null,
            "grid_auto_flow": null,
            "grid_auto_rows": null,
            "grid_column": null,
            "grid_gap": null,
            "grid_row": null,
            "grid_template_areas": null,
            "grid_template_columns": null,
            "grid_template_rows": null,
            "height": null,
            "justify_content": null,
            "justify_items": null,
            "left": null,
            "margin": null,
            "max_height": null,
            "max_width": null,
            "min_height": null,
            "min_width": null,
            "object_fit": null,
            "object_position": null,
            "order": null,
            "overflow": null,
            "overflow_x": null,
            "overflow_y": null,
            "padding": null,
            "right": null,
            "top": null,
            "visibility": null,
            "width": null
          }
        },
        "2acfeabe41cc48fca5baaaac1b136032": {
          "model_module": "@jupyter-widgets/controls",
          "model_name": "DescriptionStyleModel",
          "model_module_version": "1.5.0",
          "state": {
            "_model_module": "@jupyter-widgets/controls",
            "_model_module_version": "1.5.0",
            "_model_name": "DescriptionStyleModel",
            "_view_count": null,
            "_view_module": "@jupyter-widgets/base",
            "_view_module_version": "1.2.0",
            "_view_name": "StyleView",
            "description_width": ""
          }
        },
        "c28d65fa8eca49dba17bcb90c540a9d6": {
          "model_module": "@jupyter-widgets/base",
          "model_name": "LayoutModel",
          "model_module_version": "1.2.0",
          "state": {
            "_model_module": "@jupyter-widgets/base",
            "_model_module_version": "1.2.0",
            "_model_name": "LayoutModel",
            "_view_count": null,
            "_view_module": "@jupyter-widgets/base",
            "_view_module_version": "1.2.0",
            "_view_name": "LayoutView",
            "align_content": null,
            "align_items": null,
            "align_self": null,
            "border": null,
            "bottom": null,
            "display": null,
            "flex": null,
            "flex_flow": null,
            "grid_area": null,
            "grid_auto_columns": null,
            "grid_auto_flow": null,
            "grid_auto_rows": null,
            "grid_column": null,
            "grid_gap": null,
            "grid_row": null,
            "grid_template_areas": null,
            "grid_template_columns": null,
            "grid_template_rows": null,
            "height": null,
            "justify_content": null,
            "justify_items": null,
            "left": null,
            "margin": null,
            "max_height": null,
            "max_width": null,
            "min_height": null,
            "min_width": null,
            "object_fit": null,
            "object_position": null,
            "order": null,
            "overflow": null,
            "overflow_x": null,
            "overflow_y": null,
            "padding": null,
            "right": null,
            "top": null,
            "visibility": null,
            "width": null
          }
        },
        "33e6cf492f3746e1b3c98ac27bac7a35": {
          "model_module": "@jupyter-widgets/controls",
          "model_name": "ProgressStyleModel",
          "model_module_version": "1.5.0",
          "state": {
            "_model_module": "@jupyter-widgets/controls",
            "_model_module_version": "1.5.0",
            "_model_name": "ProgressStyleModel",
            "_view_count": null,
            "_view_module": "@jupyter-widgets/base",
            "_view_module_version": "1.2.0",
            "_view_name": "StyleView",
            "bar_color": null,
            "description_width": ""
          }
        },
        "a8a7b3ee14e8433aa7a9420845416920": {
          "model_module": "@jupyter-widgets/base",
          "model_name": "LayoutModel",
          "model_module_version": "1.2.0",
          "state": {
            "_model_module": "@jupyter-widgets/base",
            "_model_module_version": "1.2.0",
            "_model_name": "LayoutModel",
            "_view_count": null,
            "_view_module": "@jupyter-widgets/base",
            "_view_module_version": "1.2.0",
            "_view_name": "LayoutView",
            "align_content": null,
            "align_items": null,
            "align_self": null,
            "border": null,
            "bottom": null,
            "display": null,
            "flex": null,
            "flex_flow": null,
            "grid_area": null,
            "grid_auto_columns": null,
            "grid_auto_flow": null,
            "grid_auto_rows": null,
            "grid_column": null,
            "grid_gap": null,
            "grid_row": null,
            "grid_template_areas": null,
            "grid_template_columns": null,
            "grid_template_rows": null,
            "height": null,
            "justify_content": null,
            "justify_items": null,
            "left": null,
            "margin": null,
            "max_height": null,
            "max_width": null,
            "min_height": null,
            "min_width": null,
            "object_fit": null,
            "object_position": null,
            "order": null,
            "overflow": null,
            "overflow_x": null,
            "overflow_y": null,
            "padding": null,
            "right": null,
            "top": null,
            "visibility": null,
            "width": null
          }
        },
        "a2bf5be4e8e3448ab2b48086f44ec0b6": {
          "model_module": "@jupyter-widgets/controls",
          "model_name": "DescriptionStyleModel",
          "model_module_version": "1.5.0",
          "state": {
            "_model_module": "@jupyter-widgets/controls",
            "_model_module_version": "1.5.0",
            "_model_name": "DescriptionStyleModel",
            "_view_count": null,
            "_view_module": "@jupyter-widgets/base",
            "_view_module_version": "1.2.0",
            "_view_name": "StyleView",
            "description_width": ""
          }
        },
        "ba190e5831214351ba1e7d158888bedc": {
          "model_module": "@jupyter-widgets/controls",
          "model_name": "HBoxModel",
          "model_module_version": "1.5.0",
          "state": {
            "_dom_classes": [],
            "_model_module": "@jupyter-widgets/controls",
            "_model_module_version": "1.5.0",
            "_model_name": "HBoxModel",
            "_view_count": null,
            "_view_module": "@jupyter-widgets/controls",
            "_view_module_version": "1.5.0",
            "_view_name": "HBoxView",
            "box_style": "",
            "children": [
              "IPY_MODEL_adebf14b896a4afe9c78d3e18bb01533",
              "IPY_MODEL_f180164cc0a641219bff0167d7efd241",
              "IPY_MODEL_3af070968ccd4245ad4baff94744f283"
            ],
            "layout": "IPY_MODEL_0c48fdebca7c4d5a99a7bc747c6579b5"
          }
        },
        "adebf14b896a4afe9c78d3e18bb01533": {
          "model_module": "@jupyter-widgets/controls",
          "model_name": "HTMLModel",
          "model_module_version": "1.5.0",
          "state": {
            "_dom_classes": [],
            "_model_module": "@jupyter-widgets/controls",
            "_model_module_version": "1.5.0",
            "_model_name": "HTMLModel",
            "_view_count": null,
            "_view_module": "@jupyter-widgets/controls",
            "_view_module_version": "1.5.0",
            "_view_name": "HTMLView",
            "description": "",
            "description_tooltip": null,
            "layout": "IPY_MODEL_cfe1d516a5764968976466a6ba5ce15d",
            "placeholder": "​",
            "style": "IPY_MODEL_85d487fb1ebc4789b9d8baa7e69f15bc",
            "value": "Downloading (…)cial_tokens_map.json: 100%"
          }
        },
        "f180164cc0a641219bff0167d7efd241": {
          "model_module": "@jupyter-widgets/controls",
          "model_name": "FloatProgressModel",
          "model_module_version": "1.5.0",
          "state": {
            "_dom_classes": [],
            "_model_module": "@jupyter-widgets/controls",
            "_model_module_version": "1.5.0",
            "_model_name": "FloatProgressModel",
            "_view_count": null,
            "_view_module": "@jupyter-widgets/controls",
            "_view_module_version": "1.5.0",
            "_view_name": "ProgressView",
            "bar_style": "success",
            "description": "",
            "description_tooltip": null,
            "layout": "IPY_MODEL_9fb7f1f840c349699608d6050f7042cd",
            "max": 113,
            "min": 0,
            "orientation": "horizontal",
            "style": "IPY_MODEL_658c29d9bcc848a485d0cf9f8481f577",
            "value": 113
          }
        },
        "3af070968ccd4245ad4baff94744f283": {
          "model_module": "@jupyter-widgets/controls",
          "model_name": "HTMLModel",
          "model_module_version": "1.5.0",
          "state": {
            "_dom_classes": [],
            "_model_module": "@jupyter-widgets/controls",
            "_model_module_version": "1.5.0",
            "_model_name": "HTMLModel",
            "_view_count": null,
            "_view_module": "@jupyter-widgets/controls",
            "_view_module_version": "1.5.0",
            "_view_name": "HTMLView",
            "description": "",
            "description_tooltip": null,
            "layout": "IPY_MODEL_48df8971850844eea2baa2b5b4355338",
            "placeholder": "​",
            "style": "IPY_MODEL_c6cb75f06b2f40789a6f8fdbeee5a570",
            "value": " 113/113 [00:00&lt;00:00, 7.20kB/s]"
          }
        },
        "0c48fdebca7c4d5a99a7bc747c6579b5": {
          "model_module": "@jupyter-widgets/base",
          "model_name": "LayoutModel",
          "model_module_version": "1.2.0",
          "state": {
            "_model_module": "@jupyter-widgets/base",
            "_model_module_version": "1.2.0",
            "_model_name": "LayoutModel",
            "_view_count": null,
            "_view_module": "@jupyter-widgets/base",
            "_view_module_version": "1.2.0",
            "_view_name": "LayoutView",
            "align_content": null,
            "align_items": null,
            "align_self": null,
            "border": null,
            "bottom": null,
            "display": null,
            "flex": null,
            "flex_flow": null,
            "grid_area": null,
            "grid_auto_columns": null,
            "grid_auto_flow": null,
            "grid_auto_rows": null,
            "grid_column": null,
            "grid_gap": null,
            "grid_row": null,
            "grid_template_areas": null,
            "grid_template_columns": null,
            "grid_template_rows": null,
            "height": null,
            "justify_content": null,
            "justify_items": null,
            "left": null,
            "margin": null,
            "max_height": null,
            "max_width": null,
            "min_height": null,
            "min_width": null,
            "object_fit": null,
            "object_position": null,
            "order": null,
            "overflow": null,
            "overflow_x": null,
            "overflow_y": null,
            "padding": null,
            "right": null,
            "top": null,
            "visibility": null,
            "width": null
          }
        },
        "cfe1d516a5764968976466a6ba5ce15d": {
          "model_module": "@jupyter-widgets/base",
          "model_name": "LayoutModel",
          "model_module_version": "1.2.0",
          "state": {
            "_model_module": "@jupyter-widgets/base",
            "_model_module_version": "1.2.0",
            "_model_name": "LayoutModel",
            "_view_count": null,
            "_view_module": "@jupyter-widgets/base",
            "_view_module_version": "1.2.0",
            "_view_name": "LayoutView",
            "align_content": null,
            "align_items": null,
            "align_self": null,
            "border": null,
            "bottom": null,
            "display": null,
            "flex": null,
            "flex_flow": null,
            "grid_area": null,
            "grid_auto_columns": null,
            "grid_auto_flow": null,
            "grid_auto_rows": null,
            "grid_column": null,
            "grid_gap": null,
            "grid_row": null,
            "grid_template_areas": null,
            "grid_template_columns": null,
            "grid_template_rows": null,
            "height": null,
            "justify_content": null,
            "justify_items": null,
            "left": null,
            "margin": null,
            "max_height": null,
            "max_width": null,
            "min_height": null,
            "min_width": null,
            "object_fit": null,
            "object_position": null,
            "order": null,
            "overflow": null,
            "overflow_x": null,
            "overflow_y": null,
            "padding": null,
            "right": null,
            "top": null,
            "visibility": null,
            "width": null
          }
        },
        "85d487fb1ebc4789b9d8baa7e69f15bc": {
          "model_module": "@jupyter-widgets/controls",
          "model_name": "DescriptionStyleModel",
          "model_module_version": "1.5.0",
          "state": {
            "_model_module": "@jupyter-widgets/controls",
            "_model_module_version": "1.5.0",
            "_model_name": "DescriptionStyleModel",
            "_view_count": null,
            "_view_module": "@jupyter-widgets/base",
            "_view_module_version": "1.2.0",
            "_view_name": "StyleView",
            "description_width": ""
          }
        },
        "9fb7f1f840c349699608d6050f7042cd": {
          "model_module": "@jupyter-widgets/base",
          "model_name": "LayoutModel",
          "model_module_version": "1.2.0",
          "state": {
            "_model_module": "@jupyter-widgets/base",
            "_model_module_version": "1.2.0",
            "_model_name": "LayoutModel",
            "_view_count": null,
            "_view_module": "@jupyter-widgets/base",
            "_view_module_version": "1.2.0",
            "_view_name": "LayoutView",
            "align_content": null,
            "align_items": null,
            "align_self": null,
            "border": null,
            "bottom": null,
            "display": null,
            "flex": null,
            "flex_flow": null,
            "grid_area": null,
            "grid_auto_columns": null,
            "grid_auto_flow": null,
            "grid_auto_rows": null,
            "grid_column": null,
            "grid_gap": null,
            "grid_row": null,
            "grid_template_areas": null,
            "grid_template_columns": null,
            "grid_template_rows": null,
            "height": null,
            "justify_content": null,
            "justify_items": null,
            "left": null,
            "margin": null,
            "max_height": null,
            "max_width": null,
            "min_height": null,
            "min_width": null,
            "object_fit": null,
            "object_position": null,
            "order": null,
            "overflow": null,
            "overflow_x": null,
            "overflow_y": null,
            "padding": null,
            "right": null,
            "top": null,
            "visibility": null,
            "width": null
          }
        },
        "658c29d9bcc848a485d0cf9f8481f577": {
          "model_module": "@jupyter-widgets/controls",
          "model_name": "ProgressStyleModel",
          "model_module_version": "1.5.0",
          "state": {
            "_model_module": "@jupyter-widgets/controls",
            "_model_module_version": "1.5.0",
            "_model_name": "ProgressStyleModel",
            "_view_count": null,
            "_view_module": "@jupyter-widgets/base",
            "_view_module_version": "1.2.0",
            "_view_name": "StyleView",
            "bar_color": null,
            "description_width": ""
          }
        },
        "48df8971850844eea2baa2b5b4355338": {
          "model_module": "@jupyter-widgets/base",
          "model_name": "LayoutModel",
          "model_module_version": "1.2.0",
          "state": {
            "_model_module": "@jupyter-widgets/base",
            "_model_module_version": "1.2.0",
            "_model_name": "LayoutModel",
            "_view_count": null,
            "_view_module": "@jupyter-widgets/base",
            "_view_module_version": "1.2.0",
            "_view_name": "LayoutView",
            "align_content": null,
            "align_items": null,
            "align_self": null,
            "border": null,
            "bottom": null,
            "display": null,
            "flex": null,
            "flex_flow": null,
            "grid_area": null,
            "grid_auto_columns": null,
            "grid_auto_flow": null,
            "grid_auto_rows": null,
            "grid_column": null,
            "grid_gap": null,
            "grid_row": null,
            "grid_template_areas": null,
            "grid_template_columns": null,
            "grid_template_rows": null,
            "height": null,
            "justify_content": null,
            "justify_items": null,
            "left": null,
            "margin": null,
            "max_height": null,
            "max_width": null,
            "min_height": null,
            "min_width": null,
            "object_fit": null,
            "object_position": null,
            "order": null,
            "overflow": null,
            "overflow_x": null,
            "overflow_y": null,
            "padding": null,
            "right": null,
            "top": null,
            "visibility": null,
            "width": null
          }
        },
        "c6cb75f06b2f40789a6f8fdbeee5a570": {
          "model_module": "@jupyter-widgets/controls",
          "model_name": "DescriptionStyleModel",
          "model_module_version": "1.5.0",
          "state": {
            "_model_module": "@jupyter-widgets/controls",
            "_model_module_version": "1.5.0",
            "_model_name": "DescriptionStyleModel",
            "_view_count": null,
            "_view_module": "@jupyter-widgets/base",
            "_view_module_version": "1.2.0",
            "_view_name": "StyleView",
            "description_width": ""
          }
        },
        "d28a65467fed4bf1803387e001037489": {
          "model_module": "@jupyter-widgets/controls",
          "model_name": "HBoxModel",
          "model_module_version": "1.5.0",
          "state": {
            "_dom_classes": [],
            "_model_module": "@jupyter-widgets/controls",
            "_model_module_version": "1.5.0",
            "_model_name": "HBoxModel",
            "_view_count": null,
            "_view_module": "@jupyter-widgets/controls",
            "_view_module_version": "1.5.0",
            "_view_name": "HBoxView",
            "box_style": "",
            "children": [
              "IPY_MODEL_06dd477a4c034cb1ae473e77ef7216ea",
              "IPY_MODEL_b76cb792e76643ba851baa5540ce600b",
              "IPY_MODEL_7bf0c2138b1248c6b3ef0fea28e703fb"
            ],
            "layout": "IPY_MODEL_e51c3cebde694f5f973053689cac044c"
          }
        },
        "06dd477a4c034cb1ae473e77ef7216ea": {
          "model_module": "@jupyter-widgets/controls",
          "model_name": "HTMLModel",
          "model_module_version": "1.5.0",
          "state": {
            "_dom_classes": [],
            "_model_module": "@jupyter-widgets/controls",
            "_model_module_version": "1.5.0",
            "_model_name": "HTMLModel",
            "_view_count": null,
            "_view_module": "@jupyter-widgets/controls",
            "_view_module_version": "1.5.0",
            "_view_name": "HTMLView",
            "description": "",
            "description_tooltip": null,
            "layout": "IPY_MODEL_32f5dc9751104f6083a87de2cd7149dd",
            "placeholder": "​",
            "style": "IPY_MODEL_187860def47c486e87c7216b98862731",
            "value": "Downloading pytorch_model.bin: 100%"
          }
        },
        "b76cb792e76643ba851baa5540ce600b": {
          "model_module": "@jupyter-widgets/controls",
          "model_name": "FloatProgressModel",
          "model_module_version": "1.5.0",
          "state": {
            "_dom_classes": [],
            "_model_module": "@jupyter-widgets/controls",
            "_model_module_version": "1.5.0",
            "_model_name": "FloatProgressModel",
            "_view_count": null,
            "_view_module": "@jupyter-widgets/controls",
            "_view_module_version": "1.5.0",
            "_view_name": "ProgressView",
            "bar_style": "success",
            "description": "",
            "description_tooltip": null,
            "layout": "IPY_MODEL_2dd37b1f059347cc808a0575356742ba",
            "max": 953477430,
            "min": 0,
            "orientation": "horizontal",
            "style": "IPY_MODEL_bc37dc9f25e248cebb276267d771ce1c",
            "value": 953477430
          }
        },
        "7bf0c2138b1248c6b3ef0fea28e703fb": {
          "model_module": "@jupyter-widgets/controls",
          "model_name": "HTMLModel",
          "model_module_version": "1.5.0",
          "state": {
            "_dom_classes": [],
            "_model_module": "@jupyter-widgets/controls",
            "_model_module_version": "1.5.0",
            "_model_name": "HTMLModel",
            "_view_count": null,
            "_view_module": "@jupyter-widgets/controls",
            "_view_module_version": "1.5.0",
            "_view_name": "HTMLView",
            "description": "",
            "description_tooltip": null,
            "layout": "IPY_MODEL_fa47a137bf084744add866684a0e0782",
            "placeholder": "​",
            "style": "IPY_MODEL_0262010c22b64bccb5bf605065e0ce0c",
            "value": " 953M/953M [00:02&lt;00:00, 413MB/s]"
          }
        },
        "e51c3cebde694f5f973053689cac044c": {
          "model_module": "@jupyter-widgets/base",
          "model_name": "LayoutModel",
          "model_module_version": "1.2.0",
          "state": {
            "_model_module": "@jupyter-widgets/base",
            "_model_module_version": "1.2.0",
            "_model_name": "LayoutModel",
            "_view_count": null,
            "_view_module": "@jupyter-widgets/base",
            "_view_module_version": "1.2.0",
            "_view_name": "LayoutView",
            "align_content": null,
            "align_items": null,
            "align_self": null,
            "border": null,
            "bottom": null,
            "display": null,
            "flex": null,
            "flex_flow": null,
            "grid_area": null,
            "grid_auto_columns": null,
            "grid_auto_flow": null,
            "grid_auto_rows": null,
            "grid_column": null,
            "grid_gap": null,
            "grid_row": null,
            "grid_template_areas": null,
            "grid_template_columns": null,
            "grid_template_rows": null,
            "height": null,
            "justify_content": null,
            "justify_items": null,
            "left": null,
            "margin": null,
            "max_height": null,
            "max_width": null,
            "min_height": null,
            "min_width": null,
            "object_fit": null,
            "object_position": null,
            "order": null,
            "overflow": null,
            "overflow_x": null,
            "overflow_y": null,
            "padding": null,
            "right": null,
            "top": null,
            "visibility": null,
            "width": null
          }
        },
        "32f5dc9751104f6083a87de2cd7149dd": {
          "model_module": "@jupyter-widgets/base",
          "model_name": "LayoutModel",
          "model_module_version": "1.2.0",
          "state": {
            "_model_module": "@jupyter-widgets/base",
            "_model_module_version": "1.2.0",
            "_model_name": "LayoutModel",
            "_view_count": null,
            "_view_module": "@jupyter-widgets/base",
            "_view_module_version": "1.2.0",
            "_view_name": "LayoutView",
            "align_content": null,
            "align_items": null,
            "align_self": null,
            "border": null,
            "bottom": null,
            "display": null,
            "flex": null,
            "flex_flow": null,
            "grid_area": null,
            "grid_auto_columns": null,
            "grid_auto_flow": null,
            "grid_auto_rows": null,
            "grid_column": null,
            "grid_gap": null,
            "grid_row": null,
            "grid_template_areas": null,
            "grid_template_columns": null,
            "grid_template_rows": null,
            "height": null,
            "justify_content": null,
            "justify_items": null,
            "left": null,
            "margin": null,
            "max_height": null,
            "max_width": null,
            "min_height": null,
            "min_width": null,
            "object_fit": null,
            "object_position": null,
            "order": null,
            "overflow": null,
            "overflow_x": null,
            "overflow_y": null,
            "padding": null,
            "right": null,
            "top": null,
            "visibility": null,
            "width": null
          }
        },
        "187860def47c486e87c7216b98862731": {
          "model_module": "@jupyter-widgets/controls",
          "model_name": "DescriptionStyleModel",
          "model_module_version": "1.5.0",
          "state": {
            "_model_module": "@jupyter-widgets/controls",
            "_model_module_version": "1.5.0",
            "_model_name": "DescriptionStyleModel",
            "_view_count": null,
            "_view_module": "@jupyter-widgets/base",
            "_view_module_version": "1.2.0",
            "_view_name": "StyleView",
            "description_width": ""
          }
        },
        "2dd37b1f059347cc808a0575356742ba": {
          "model_module": "@jupyter-widgets/base",
          "model_name": "LayoutModel",
          "model_module_version": "1.2.0",
          "state": {
            "_model_module": "@jupyter-widgets/base",
            "_model_module_version": "1.2.0",
            "_model_name": "LayoutModel",
            "_view_count": null,
            "_view_module": "@jupyter-widgets/base",
            "_view_module_version": "1.2.0",
            "_view_name": "LayoutView",
            "align_content": null,
            "align_items": null,
            "align_self": null,
            "border": null,
            "bottom": null,
            "display": null,
            "flex": null,
            "flex_flow": null,
            "grid_area": null,
            "grid_auto_columns": null,
            "grid_auto_flow": null,
            "grid_auto_rows": null,
            "grid_column": null,
            "grid_gap": null,
            "grid_row": null,
            "grid_template_areas": null,
            "grid_template_columns": null,
            "grid_template_rows": null,
            "height": null,
            "justify_content": null,
            "justify_items": null,
            "left": null,
            "margin": null,
            "max_height": null,
            "max_width": null,
            "min_height": null,
            "min_width": null,
            "object_fit": null,
            "object_position": null,
            "order": null,
            "overflow": null,
            "overflow_x": null,
            "overflow_y": null,
            "padding": null,
            "right": null,
            "top": null,
            "visibility": null,
            "width": null
          }
        },
        "bc37dc9f25e248cebb276267d771ce1c": {
          "model_module": "@jupyter-widgets/controls",
          "model_name": "ProgressStyleModel",
          "model_module_version": "1.5.0",
          "state": {
            "_model_module": "@jupyter-widgets/controls",
            "_model_module_version": "1.5.0",
            "_model_name": "ProgressStyleModel",
            "_view_count": null,
            "_view_module": "@jupyter-widgets/base",
            "_view_module_version": "1.2.0",
            "_view_name": "StyleView",
            "bar_color": null,
            "description_width": ""
          }
        },
        "fa47a137bf084744add866684a0e0782": {
          "model_module": "@jupyter-widgets/base",
          "model_name": "LayoutModel",
          "model_module_version": "1.2.0",
          "state": {
            "_model_module": "@jupyter-widgets/base",
            "_model_module_version": "1.2.0",
            "_model_name": "LayoutModel",
            "_view_count": null,
            "_view_module": "@jupyter-widgets/base",
            "_view_module_version": "1.2.0",
            "_view_name": "LayoutView",
            "align_content": null,
            "align_items": null,
            "align_self": null,
            "border": null,
            "bottom": null,
            "display": null,
            "flex": null,
            "flex_flow": null,
            "grid_area": null,
            "grid_auto_columns": null,
            "grid_auto_flow": null,
            "grid_auto_rows": null,
            "grid_column": null,
            "grid_gap": null,
            "grid_row": null,
            "grid_template_areas": null,
            "grid_template_columns": null,
            "grid_template_rows": null,
            "height": null,
            "justify_content": null,
            "justify_items": null,
            "left": null,
            "margin": null,
            "max_height": null,
            "max_width": null,
            "min_height": null,
            "min_width": null,
            "object_fit": null,
            "object_position": null,
            "order": null,
            "overflow": null,
            "overflow_x": null,
            "overflow_y": null,
            "padding": null,
            "right": null,
            "top": null,
            "visibility": null,
            "width": null
          }
        },
        "0262010c22b64bccb5bf605065e0ce0c": {
          "model_module": "@jupyter-widgets/controls",
          "model_name": "DescriptionStyleModel",
          "model_module_version": "1.5.0",
          "state": {
            "_model_module": "@jupyter-widgets/controls",
            "_model_module_version": "1.5.0",
            "_model_name": "DescriptionStyleModel",
            "_view_count": null,
            "_view_module": "@jupyter-widgets/base",
            "_view_module_version": "1.2.0",
            "_view_name": "StyleView",
            "description_width": ""
          }
        }
      }
    }
  },
  "cells": [
    {
      "cell_type": "markdown",
      "source": [
        "## Install necessary packages\n",
        "\n",
        "### For easy implementation, run this notebook on Google Colab"
      ],
      "metadata": {
        "id": "AJF9pdhjb7i8"
      }
    },
    {
      "cell_type": "code",
      "source": [
        "%%capture\n",
        "\n",
        "!pip install flair"
      ],
      "metadata": {
        "id": "cqip_afqGNGY"
      },
      "execution_count": null,
      "outputs": []
    },
    {
      "cell_type": "markdown",
      "source": [
        "## Mount Google Drive and load data"
      ],
      "metadata": {
        "id": "Sj3KF1seb_Oc"
      }
    },
    {
      "cell_type": "code",
      "source": [
        "from google.colab import drive\n",
        "drive.mount('/content/drive')"
      ],
      "metadata": {
        "id": "UBPCXocjMEsQ",
        "colab": {
          "base_uri": "https://localhost:8080/"
        },
        "outputId": "e8bf2926-4f65-44e5-bb15-6b42db0cce68"
      },
      "execution_count": null,
      "outputs": [
        {
          "output_type": "stream",
          "name": "stdout",
          "text": [
            "Mounted at /content/drive\n"
          ]
        }
      ]
    },
    {
      "cell_type": "code",
      "execution_count": null,
      "metadata": {
        "id": "HWbx3cnwLTnq"
      },
      "outputs": [],
      "source": [
        "# Prepare data\n",
        "data_path = \"/content/drive/MyDrive/\"\n",
        "exp_id = \"presto-german-160623-10\"\n",
        "save_dir = \"/content/drive/MyDrive/presto-exp-checkpoints/\"+exp_id\n",
        "model_name = 'xlm-roberta-base'\n",
        "model_name = 'google/muril-base-cased'\n",
        "\n",
        "lines = open(data_path+\"data_de.dis\",'r').readlines()\n",
        "labels = open(data_path+\"data_de.labels\",'r').readlines()"
      ]
    },
    {
      "cell_type": "code",
      "source": [
        "print(lines[:5])\n",
        "print(labels[:5])"
      ],
      "metadata": {
        "id": "JG40_J9XMa4c",
        "colab": {
          "base_uri": "https://localhost:8080/"
        },
        "outputId": "010dfc98-29e9-4869-b9d2-ff486007e853"
      },
      "execution_count": null,
      "outputs": [
        {
          "output_type": "stream",
          "name": "stdout",
          "text": [
            "['zeige mir angebote zeigen\\n', 'pausiere mein mein lauftraining\\n', 'meine meine mitfahrgelegenheit absagen\\n', 'pause pausiere das laufen\\n', 'beende beende meinen workout\\n']\n",
            "['1 0 0 0\\n', '0 1 0 0\\n', '1 0 0 0\\n', '1 0 0 0\\n', '1 0 0 0\\n']\n"
          ]
        }
      ]
    },
    {
      "cell_type": "code",
      "source": [
        "lines[0][:-1]"
      ],
      "metadata": {
        "id": "lOnYV7i0PQAg",
        "colab": {
          "base_uri": "https://localhost:8080/",
          "height": 36
        },
        "outputId": "6b432dc4-8b72-4030-b198-8d55c06171ac"
      },
      "execution_count": null,
      "outputs": [
        {
          "output_type": "execute_result",
          "data": {
            "text/plain": [
              "'zeige mir angebote zeigen'"
            ],
            "application/vnd.google.colaboratory.intrinsic+json": {
              "type": "string"
            }
          },
          "metadata": {},
          "execution_count": 5
        }
      ]
    },
    {
      "cell_type": "markdown",
      "source": [
        "## Prepare files for Train-Valid-Test Split"
      ],
      "metadata": {
        "id": "RR0SAIC8cDED"
      }
    },
    {
      "cell_type": "code",
      "source": [
        "import random\n",
        "temp = list(zip(lines, labels))\n",
        "random.shuffle(temp)\n",
        "res1, res2 = zip(*temp)\n",
        "# res1 and res2 come out as tuples, and so must be converted to lists.\n",
        "lines, labels = list(res1), list(res2)\n",
        "\n",
        "train_lines = lines[:int(0.8*len(lines))]\n",
        "train_labels = labels[:int(0.8*len(labels))]\n",
        "val_lines = lines[int(0.8*len(lines)):int(0.9*len(lines))]\n",
        "val_labels = labels[int(0.8*len(labels)):int(0.9*len(labels))]\n",
        "test_lines = lines[int(0.9*len(lines)):]\n",
        "test_labels = labels[int(0.9*len(labels)):]"
      ],
      "metadata": {
        "id": "H5r_tEXd1S8F"
      },
      "execution_count": null,
      "outputs": []
    },
    {
      "cell_type": "markdown",
      "source": [
        "## Data Processing for Token Classification"
      ],
      "metadata": {
        "id": "bwxzFUYIcOKi"
      }
    },
    {
      "cell_type": "code",
      "source": [
        "import pandas as pd\n",
        "sentence_col = []\n",
        "word_col = []\n",
        "tag_col = []\n",
        "for i in range(len(train_lines)):\n",
        "  sent = train_lines[i][:-1]\n",
        "  label = train_labels[i][:-1]\n",
        "  words = sent.split(\" \")\n",
        "  tags = label.split(\" \")\n",
        "  sent_temp = [\"Sentence: \"+str(i+1)]\n",
        "  for j in range(len(words)-1):\n",
        "    sent_temp.append(None)\n",
        "  sentence_col.extend(sent_temp)\n",
        "  word_col.extend(words)\n",
        "  tag_col.extend(tags)\n",
        "\n",
        "df_train = pd.DataFrame()\n",
        "df_train['Sentence #'] = sentence_col\n",
        "df_train['Word'] = word_col\n",
        "df_train['Tag'] = tag_col\n",
        "\n",
        "sentence_col = []\n",
        "word_col = []\n",
        "tag_col = []\n",
        "for i in range(len(val_lines)):\n",
        "  sent = val_lines[i][:-1]\n",
        "  label = val_labels[i][:-1]\n",
        "  words = sent.split(\" \")\n",
        "  tags = label.split(\" \")\n",
        "  sent_temp = [\"Sentence: \"+str(i+1)]\n",
        "  for j in range(len(words)-1):\n",
        "    sent_temp.append(None)\n",
        "  sentence_col.extend(sent_temp)\n",
        "  word_col.extend(words)\n",
        "  tag_col.extend(tags)\n",
        "\n",
        "df_val = pd.DataFrame()\n",
        "df_val['Sentence #'] = sentence_col\n",
        "df_val['Word'] = word_col\n",
        "df_val['Tag'] = tag_col\n",
        "\n",
        "sentence_col = []\n",
        "word_col = []\n",
        "tag_col = []\n",
        "for i in range(len(test_lines)):\n",
        "  sent = test_lines[i][:-1]\n",
        "  label = test_labels[i][:-1]\n",
        "  words = sent.split(\" \")\n",
        "  tags = label.split(\" \")\n",
        "  sent_temp = [\"Sentence: \"+str(i+1)]\n",
        "  for j in range(len(words)-1):\n",
        "    sent_temp.append(None)\n",
        "  sentence_col.extend(sent_temp)\n",
        "  word_col.extend(words)\n",
        "  tag_col.extend(tags)\n",
        "\n",
        "df_test = pd.DataFrame()\n",
        "df_test['Sentence #'] = sentence_col\n",
        "df_test['Word'] = word_col\n",
        "df_test['Tag'] = tag_col"
      ],
      "metadata": {
        "id": "eYFbxYFgMda6"
      },
      "execution_count": null,
      "outputs": []
    },
    {
      "cell_type": "code",
      "source": [
        "df_val[:10]"
      ],
      "metadata": {
        "id": "8Id1pFyyQcpW",
        "colab": {
          "base_uri": "https://localhost:8080/",
          "height": 363
        },
        "outputId": "cc6a2048-0376-416a-e9a4-21b53e86979b"
      },
      "execution_count": null,
      "outputs": [
        {
          "output_type": "execute_result",
          "data": {
            "text/plain": [
              "    Sentence #      Word Tag\n",
              "0  Sentence: 1      mhmm   1\n",
              "1         None       das   0\n",
              "2         None      taxi   0\n",
              "3         None      kann   0\n",
              "4         None       weg   0\n",
              "5  Sentence: 2     zahle   0\n",
              "6         None       die   0\n",
              "7         None  rechnung   0\n",
              "8         None       mit   1\n",
              "9         None        äh   1"
            ],
            "text/html": [
              "\n",
              "  <div id=\"df-2171e647-6e7c-4661-a076-98e5de83d7dd\">\n",
              "    <div class=\"colab-df-container\">\n",
              "      <div>\n",
              "<style scoped>\n",
              "    .dataframe tbody tr th:only-of-type {\n",
              "        vertical-align: middle;\n",
              "    }\n",
              "\n",
              "    .dataframe tbody tr th {\n",
              "        vertical-align: top;\n",
              "    }\n",
              "\n",
              "    .dataframe thead th {\n",
              "        text-align: right;\n",
              "    }\n",
              "</style>\n",
              "<table border=\"1\" class=\"dataframe\">\n",
              "  <thead>\n",
              "    <tr style=\"text-align: right;\">\n",
              "      <th></th>\n",
              "      <th>Sentence #</th>\n",
              "      <th>Word</th>\n",
              "      <th>Tag</th>\n",
              "    </tr>\n",
              "  </thead>\n",
              "  <tbody>\n",
              "    <tr>\n",
              "      <th>0</th>\n",
              "      <td>Sentence: 1</td>\n",
              "      <td>mhmm</td>\n",
              "      <td>1</td>\n",
              "    </tr>\n",
              "    <tr>\n",
              "      <th>1</th>\n",
              "      <td>None</td>\n",
              "      <td>das</td>\n",
              "      <td>0</td>\n",
              "    </tr>\n",
              "    <tr>\n",
              "      <th>2</th>\n",
              "      <td>None</td>\n",
              "      <td>taxi</td>\n",
              "      <td>0</td>\n",
              "    </tr>\n",
              "    <tr>\n",
              "      <th>3</th>\n",
              "      <td>None</td>\n",
              "      <td>kann</td>\n",
              "      <td>0</td>\n",
              "    </tr>\n",
              "    <tr>\n",
              "      <th>4</th>\n",
              "      <td>None</td>\n",
              "      <td>weg</td>\n",
              "      <td>0</td>\n",
              "    </tr>\n",
              "    <tr>\n",
              "      <th>5</th>\n",
              "      <td>Sentence: 2</td>\n",
              "      <td>zahle</td>\n",
              "      <td>0</td>\n",
              "    </tr>\n",
              "    <tr>\n",
              "      <th>6</th>\n",
              "      <td>None</td>\n",
              "      <td>die</td>\n",
              "      <td>0</td>\n",
              "    </tr>\n",
              "    <tr>\n",
              "      <th>7</th>\n",
              "      <td>None</td>\n",
              "      <td>rechnung</td>\n",
              "      <td>0</td>\n",
              "    </tr>\n",
              "    <tr>\n",
              "      <th>8</th>\n",
              "      <td>None</td>\n",
              "      <td>mit</td>\n",
              "      <td>1</td>\n",
              "    </tr>\n",
              "    <tr>\n",
              "      <th>9</th>\n",
              "      <td>None</td>\n",
              "      <td>äh</td>\n",
              "      <td>1</td>\n",
              "    </tr>\n",
              "  </tbody>\n",
              "</table>\n",
              "</div>\n",
              "      <button class=\"colab-df-convert\" onclick=\"convertToInteractive('df-2171e647-6e7c-4661-a076-98e5de83d7dd')\"\n",
              "              title=\"Convert this dataframe to an interactive table.\"\n",
              "              style=\"display:none;\">\n",
              "        \n",
              "  <svg xmlns=\"http://www.w3.org/2000/svg\" height=\"24px\"viewBox=\"0 0 24 24\"\n",
              "       width=\"24px\">\n",
              "    <path d=\"M0 0h24v24H0V0z\" fill=\"none\"/>\n",
              "    <path d=\"M18.56 5.44l.94 2.06.94-2.06 2.06-.94-2.06-.94-.94-2.06-.94 2.06-2.06.94zm-11 1L8.5 8.5l.94-2.06 2.06-.94-2.06-.94L8.5 2.5l-.94 2.06-2.06.94zm10 10l.94 2.06.94-2.06 2.06-.94-2.06-.94-.94-2.06-.94 2.06-2.06.94z\"/><path d=\"M17.41 7.96l-1.37-1.37c-.4-.4-.92-.59-1.43-.59-.52 0-1.04.2-1.43.59L10.3 9.45l-7.72 7.72c-.78.78-.78 2.05 0 2.83L4 21.41c.39.39.9.59 1.41.59.51 0 1.02-.2 1.41-.59l7.78-7.78 2.81-2.81c.8-.78.8-2.07 0-2.86zM5.41 20L4 18.59l7.72-7.72 1.47 1.35L5.41 20z\"/>\n",
              "  </svg>\n",
              "      </button>\n",
              "      \n",
              "  <style>\n",
              "    .colab-df-container {\n",
              "      display:flex;\n",
              "      flex-wrap:wrap;\n",
              "      gap: 12px;\n",
              "    }\n",
              "\n",
              "    .colab-df-convert {\n",
              "      background-color: #E8F0FE;\n",
              "      border: none;\n",
              "      border-radius: 50%;\n",
              "      cursor: pointer;\n",
              "      display: none;\n",
              "      fill: #1967D2;\n",
              "      height: 32px;\n",
              "      padding: 0 0 0 0;\n",
              "      width: 32px;\n",
              "    }\n",
              "\n",
              "    .colab-df-convert:hover {\n",
              "      background-color: #E2EBFA;\n",
              "      box-shadow: 0px 1px 2px rgba(60, 64, 67, 0.3), 0px 1px 3px 1px rgba(60, 64, 67, 0.15);\n",
              "      fill: #174EA6;\n",
              "    }\n",
              "\n",
              "    [theme=dark] .colab-df-convert {\n",
              "      background-color: #3B4455;\n",
              "      fill: #D2E3FC;\n",
              "    }\n",
              "\n",
              "    [theme=dark] .colab-df-convert:hover {\n",
              "      background-color: #434B5C;\n",
              "      box-shadow: 0px 1px 3px 1px rgba(0, 0, 0, 0.15);\n",
              "      filter: drop-shadow(0px 1px 2px rgba(0, 0, 0, 0.3));\n",
              "      fill: #FFFFFF;\n",
              "    }\n",
              "  </style>\n",
              "\n",
              "      <script>\n",
              "        const buttonEl =\n",
              "          document.querySelector('#df-2171e647-6e7c-4661-a076-98e5de83d7dd button.colab-df-convert');\n",
              "        buttonEl.style.display =\n",
              "          google.colab.kernel.accessAllowed ? 'block' : 'none';\n",
              "\n",
              "        async function convertToInteractive(key) {\n",
              "          const element = document.querySelector('#df-2171e647-6e7c-4661-a076-98e5de83d7dd');\n",
              "          const dataTable =\n",
              "            await google.colab.kernel.invokeFunction('convertToInteractive',\n",
              "                                                     [key], {});\n",
              "          if (!dataTable) return;\n",
              "\n",
              "          const docLinkHtml = 'Like what you see? Visit the ' +\n",
              "            '<a target=\"_blank\" href=https://colab.research.google.com/notebooks/data_table.ipynb>data table notebook</a>'\n",
              "            + ' to learn more about interactive tables.';\n",
              "          element.innerHTML = '';\n",
              "          dataTable['output_type'] = 'display_data';\n",
              "          await google.colab.output.renderOutput(dataTable, element);\n",
              "          const docLink = document.createElement('div');\n",
              "          docLink.innerHTML = docLinkHtml;\n",
              "          element.appendChild(docLink);\n",
              "        }\n",
              "      </script>\n",
              "    </div>\n",
              "  </div>\n",
              "  "
            ]
          },
          "metadata": {},
          "execution_count": 8
        }
      ]
    },
    {
      "cell_type": "code",
      "source": [
        "import os\n",
        "os.makedirs(\"data_dir\",exist_ok = True)"
      ],
      "metadata": {
        "id": "DzuMpVPw1MXZ"
      },
      "execution_count": null,
      "outputs": []
    },
    {
      "cell_type": "code",
      "source": [
        "with open(\"data_dir/train.txt\",'w') as write_file:\n",
        "  for i in range(len(df_train)):\n",
        "    if(df_train['Sentence #'][i]!=None and i!=0):\n",
        "      write_file.write(\"\\n\")\n",
        "    write_file.write(df_train['Word'][i]+\" \"+df_train['Tag'][i]+\"\\n\")\n",
        "\n",
        "\n",
        "with open(\"data_dir/val.txt\",'w') as write_file:\n",
        "  for i in range(len(df_val)):\n",
        "    if(df_val['Sentence #'][i]!=None and i!=0):\n",
        "      write_file.write(\"\\n\")\n",
        "    write_file.write(df_val['Word'][i]+\" \"+df_val['Tag'][i]+\"\\n\")\n",
        "\n",
        "\n",
        "with open(\"data_dir/test.txt\",'w') as write_file:\n",
        "  for i in range(len(df_test)):\n",
        "    if(df_test['Sentence #'][i]!=None and i!=0):\n",
        "      write_file.write(\"\\n\")\n",
        "    write_file.write(df_test['Word'][i]+\" \"+df_test['Tag'][i]+\"\\n\")\n"
      ],
      "metadata": {
        "id": "3oRb6RBg2tPt"
      },
      "execution_count": null,
      "outputs": []
    },
    {
      "cell_type": "code",
      "source": [
        "from flair.data import Corpus\n",
        "from flair.datasets import ColumnCorpus\n",
        "\n",
        "# define columns\n",
        "columns = {0 : 'text', 1 : 'dc'}\n",
        "# directory where the data resides\n",
        "data_folder = 'data_dir/'\n",
        "# initializing the corpus\n",
        "corpus: Corpus = ColumnCorpus(data_folder, columns,\n",
        "                              train_file = 'train.txt',\n",
        "                              test_file = 'test.txt',\n",
        "                              dev_file = 'val.txt')"
      ],
      "metadata": {
        "id": "jxfX1-FP0vKq",
        "colab": {
          "base_uri": "https://localhost:8080/"
        },
        "outputId": "dac0c75d-aaef-426d-f453-327bd0cceedb"
      },
      "execution_count": null,
      "outputs": [
        {
          "output_type": "stream",
          "name": "stdout",
          "text": [
            "2023-06-16 20:30:49,132 Reading data from data_dir\n",
            "2023-06-16 20:30:49,133 Train: data_dir/train.txt\n",
            "2023-06-16 20:30:49,134 Dev: data_dir/val.txt\n",
            "2023-06-16 20:30:49,136 Test: data_dir/test.txt\n"
          ]
        }
      ]
    },
    {
      "cell_type": "code",
      "source": [
        "print(len(corpus.train))"
      ],
      "metadata": {
        "id": "H_3V_JLR8lOj",
        "colab": {
          "base_uri": "https://localhost:8080/"
        },
        "outputId": "5e9d3a20-e74c-4844-c5b9-90392c2cc15c"
      },
      "execution_count": null,
      "outputs": [
        {
          "output_type": "stream",
          "name": "stdout",
          "text": [
            "2472\n"
          ]
        }
      ]
    },
    {
      "cell_type": "code",
      "source": [
        "# tag to predict\n",
        "label_type = 'dc'\n",
        "# make tag dictionary from the corpus\n",
        "#tag_dictionary = corpus.make_tag_dictionary(tag_type=tag_type)\n",
        "#print(tag_dictionary)\n",
        "\n",
        "label_dict = corpus.make_label_dictionary(label_type=label_type, add_unk=False)\n",
        "print(label_dict)"
      ],
      "metadata": {
        "id": "KYIsvR7M8ohm",
        "colab": {
          "base_uri": "https://localhost:8080/"
        },
        "outputId": "bd05c411-c3d6-4470-b2a8-c17ed303cd27"
      },
      "execution_count": null,
      "outputs": [
        {
          "output_type": "stream",
          "name": "stdout",
          "text": [
            "2023-06-16 20:30:49,667 Computing label dictionary. Progress:\n"
          ]
        },
        {
          "output_type": "stream",
          "name": "stderr",
          "text": [
            "2472it [00:00, 36168.14it/s]"
          ]
        },
        {
          "output_type": "stream",
          "name": "stdout",
          "text": [
            "2023-06-16 20:30:49,778 Dictionary created for label 'dc' with 2 values: 0 (seen 13943 times), 1 (seen 3861 times)\n",
            "Dictionary with 2 tags: 0, 1\n"
          ]
        },
        {
          "output_type": "stream",
          "name": "stderr",
          "text": [
            "\n"
          ]
        }
      ]
    },
    {
      "cell_type": "markdown",
      "source": [
        "## Define Model"
      ],
      "metadata": {
        "id": "ylROrxn1cUjM"
      }
    },
    {
      "cell_type": "code",
      "source": [
        "from flair.embeddings import TransformerWordEmbeddings\n",
        "from flair.models import SequenceTagger\n",
        "from flair.trainers import ModelTrainer\n",
        "\n",
        "embeddings = TransformerWordEmbeddings(model=model_name,\n",
        "                                       layers=\"-1\",\n",
        "                                       subtoken_pooling=\"first\",\n",
        "                                       fine_tune=False,\n",
        "                                       use_context=True,\n",
        "                                       )"
      ],
      "metadata": {
        "id": "OAdOKj5L8vfg",
        "colab": {
          "base_uri": "https://localhost:8080/",
          "height": 177,
          "referenced_widgets": [
            "ab02a5647a0d4ee09daf8a9dcb90f1f8",
            "7698da75f3a241a5adb61e236378c4e5",
            "cd3d10f713e4463585d3245f424f723a",
            "35e5010048434c09b6658eed67b4257c",
            "e1bc62ea901240e7b326e3eaeeaecf6c",
            "3bc364ae837c480385dc4a5084c9ac68",
            "c0077c8ea3f64e83981c2b425c282b6a",
            "4752222b40ff450f9ee02c9330c2001c",
            "cc080aa86d9744bab16d5d5ec7930895",
            "71143cb309cc4c2b98f82ed22c79e715",
            "e109304ba1d74b18bffa2b4c8aab7080",
            "edeff722a35440bdb7570a7cf03e64e6",
            "fc4daf630d974645a9c83a55947f8634",
            "de047ef362ba4fbba3bdb16db97a7b87",
            "cdd1b8ce11ef4f6396a22228083b3a05",
            "15cffd47bb0e49bab2ef2e09da36ba11",
            "4cd9879d18db4d9380433f9281fd8f9b",
            "127ce71ebf334367bfd3827be209bbb4",
            "59da20435a38487b86769ff4e57ad630",
            "fa8380632df44784b89da25d5fe0192d",
            "7510da1125554c9f98b2163885c6b28c",
            "bf0ce349d6fd4e2ead1325b9d4749aab",
            "d3c969a0274e4e0195d6d54588b50fa1",
            "a1a4813a5db84b77a1b3cc53f859f686",
            "4ceabbef293e431f9e4eb2fdd2271e8e",
            "cd0a4981f9e44ad08acab5c7531245c7",
            "ccbaa9db513e4a11b1021b5c4fd34c21",
            "15b56fa8237d4f788f0a9f971a168581",
            "2acfeabe41cc48fca5baaaac1b136032",
            "c28d65fa8eca49dba17bcb90c540a9d6",
            "33e6cf492f3746e1b3c98ac27bac7a35",
            "a8a7b3ee14e8433aa7a9420845416920",
            "a2bf5be4e8e3448ab2b48086f44ec0b6",
            "ba190e5831214351ba1e7d158888bedc",
            "adebf14b896a4afe9c78d3e18bb01533",
            "f180164cc0a641219bff0167d7efd241",
            "3af070968ccd4245ad4baff94744f283",
            "0c48fdebca7c4d5a99a7bc747c6579b5",
            "cfe1d516a5764968976466a6ba5ce15d",
            "85d487fb1ebc4789b9d8baa7e69f15bc",
            "9fb7f1f840c349699608d6050f7042cd",
            "658c29d9bcc848a485d0cf9f8481f577",
            "48df8971850844eea2baa2b5b4355338",
            "c6cb75f06b2f40789a6f8fdbeee5a570",
            "d28a65467fed4bf1803387e001037489",
            "06dd477a4c034cb1ae473e77ef7216ea",
            "b76cb792e76643ba851baa5540ce600b",
            "7bf0c2138b1248c6b3ef0fea28e703fb",
            "e51c3cebde694f5f973053689cac044c",
            "32f5dc9751104f6083a87de2cd7149dd",
            "187860def47c486e87c7216b98862731",
            "2dd37b1f059347cc808a0575356742ba",
            "bc37dc9f25e248cebb276267d771ce1c",
            "fa47a137bf084744add866684a0e0782",
            "0262010c22b64bccb5bf605065e0ce0c"
          ]
        },
        "outputId": "3aa82d43-86ca-450c-93e2-de196f626e33"
      },
      "execution_count": null,
      "outputs": [
        {
          "output_type": "display_data",
          "data": {
            "text/plain": [
              "Downloading (…)okenizer_config.json:   0%|          | 0.00/206 [00:00<?, ?B/s]"
            ],
            "application/vnd.jupyter.widget-view+json": {
              "version_major": 2,
              "version_minor": 0,
              "model_id": "ab02a5647a0d4ee09daf8a9dcb90f1f8"
            }
          },
          "metadata": {}
        },
        {
          "output_type": "display_data",
          "data": {
            "text/plain": [
              "Downloading (…)lve/main/config.json:   0%|          | 0.00/411 [00:00<?, ?B/s]"
            ],
            "application/vnd.jupyter.widget-view+json": {
              "version_major": 2,
              "version_minor": 0,
              "model_id": "edeff722a35440bdb7570a7cf03e64e6"
            }
          },
          "metadata": {}
        },
        {
          "output_type": "display_data",
          "data": {
            "text/plain": [
              "Downloading (…)solve/main/vocab.txt:   0%|          | 0.00/3.16M [00:00<?, ?B/s]"
            ],
            "application/vnd.jupyter.widget-view+json": {
              "version_major": 2,
              "version_minor": 0,
              "model_id": "d3c969a0274e4e0195d6d54588b50fa1"
            }
          },
          "metadata": {}
        },
        {
          "output_type": "display_data",
          "data": {
            "text/plain": [
              "Downloading (…)cial_tokens_map.json:   0%|          | 0.00/113 [00:00<?, ?B/s]"
            ],
            "application/vnd.jupyter.widget-view+json": {
              "version_major": 2,
              "version_minor": 0,
              "model_id": "ba190e5831214351ba1e7d158888bedc"
            }
          },
          "metadata": {}
        },
        {
          "output_type": "display_data",
          "data": {
            "text/plain": [
              "Downloading pytorch_model.bin:   0%|          | 0.00/953M [00:00<?, ?B/s]"
            ],
            "application/vnd.jupyter.widget-view+json": {
              "version_major": 2,
              "version_minor": 0,
              "model_id": "d28a65467fed4bf1803387e001037489"
            }
          },
          "metadata": {}
        }
      ]
    },
    {
      "cell_type": "code",
      "source": [
        "from flair.models import SequenceTagger\n",
        "tagger : SequenceTagger = SequenceTagger(hidden_size=256,\n",
        "                                       embeddings=embeddings,\n",
        "                                       tag_dictionary=label_dict,\n",
        "                                       tag_type=label_type,\n",
        "                                       use_crf=False,\n",
        "                                       use_rnn=True)\n",
        "print(tagger)\n",
        "\n",
        "def count_parameters(model):\n",
        "    return sum(p.numel() for p in model.parameters() if p.requires_grad)\n",
        "print(count_parameters(tagger))\n",
        "\n",
        "#238150676-238150660 = CRF\n",
        "#240250884 - 238150660 = RNN"
      ],
      "metadata": {
        "id": "pEwruWUs885m",
        "colab": {
          "base_uri": "https://localhost:8080/"
        },
        "outputId": "f27a12bd-bc5f-4c96-a1a0-4e2dbbec899a"
      },
      "execution_count": null,
      "outputs": [
        {
          "output_type": "stream",
          "name": "stdout",
          "text": [
            "2023-06-16 20:32:44,619 SequenceTagger predicts: Dictionary with 4 tags: 0, 1, <START>, <STOP>\n",
            "SequenceTagger(\n",
            "  (embeddings): TransformerWordEmbeddings(\n",
            "    (model): BertModel(\n",
            "      (embeddings): BertEmbeddings(\n",
            "        (word_embeddings): Embedding(197286, 768)\n",
            "        (position_embeddings): Embedding(512, 768)\n",
            "        (token_type_embeddings): Embedding(2, 768)\n",
            "        (LayerNorm): LayerNorm((768,), eps=1e-12, elementwise_affine=True)\n",
            "        (dropout): Dropout(p=0.1, inplace=False)\n",
            "      )\n",
            "      (encoder): BertEncoder(\n",
            "        (layer): ModuleList(\n",
            "          (0-11): 12 x BertLayer(\n",
            "            (attention): BertAttention(\n",
            "              (self): BertSelfAttention(\n",
            "                (query): Linear(in_features=768, out_features=768, bias=True)\n",
            "                (key): Linear(in_features=768, out_features=768, bias=True)\n",
            "                (value): Linear(in_features=768, out_features=768, bias=True)\n",
            "                (dropout): Dropout(p=0.1, inplace=False)\n",
            "              )\n",
            "              (output): BertSelfOutput(\n",
            "                (dense): Linear(in_features=768, out_features=768, bias=True)\n",
            "                (LayerNorm): LayerNorm((768,), eps=1e-12, elementwise_affine=True)\n",
            "                (dropout): Dropout(p=0.1, inplace=False)\n",
            "              )\n",
            "            )\n",
            "            (intermediate): BertIntermediate(\n",
            "              (dense): Linear(in_features=768, out_features=3072, bias=True)\n",
            "              (intermediate_act_fn): GELUActivation()\n",
            "            )\n",
            "            (output): BertOutput(\n",
            "              (dense): Linear(in_features=3072, out_features=768, bias=True)\n",
            "              (LayerNorm): LayerNorm((768,), eps=1e-12, elementwise_affine=True)\n",
            "              (dropout): Dropout(p=0.1, inplace=False)\n",
            "            )\n",
            "          )\n",
            "        )\n",
            "      )\n",
            "      (pooler): BertPooler(\n",
            "        (dense): Linear(in_features=768, out_features=768, bias=True)\n",
            "        (activation): Tanh()\n",
            "      )\n",
            "    )\n",
            "  )\n",
            "  (word_dropout): WordDropout(p=0.05)\n",
            "  (locked_dropout): LockedDropout(p=0.5)\n",
            "  (embedding2nn): Linear(in_features=768, out_features=768, bias=True)\n",
            "  (rnn): LSTM(768, 256, batch_first=True, bidirectional=True)\n",
            "  (linear): Linear(in_features=512, out_features=4, bias=True)\n",
            "  (loss_function): CrossEntropyLoss()\n",
            ")\n",
            "240250884\n"
          ]
        }
      ]
    },
    {
      "cell_type": "markdown",
      "source": [
        "## Start Training"
      ],
      "metadata": {
        "id": "8duiqGwYcW7T"
      }
    },
    {
      "cell_type": "code",
      "source": [
        "from flair.trainers import ModelTrainer\n",
        "trainer : ModelTrainer = ModelTrainer(tagger, corpus)\n",
        "trainer.train(save_dir,\n",
        "              learning_rate=0.1,\n",
        "              mini_batch_size=16,\n",
        "              max_epochs=150)"
      ],
      "metadata": {
        "id": "MuvxvhBS8_1g",
        "colab": {
          "base_uri": "https://localhost:8080/"
        },
        "outputId": "1d4523a1-2751-49f1-9fe5-4cdfd0e8b66c"
      },
      "execution_count": null,
      "outputs": [
        {
          "output_type": "stream",
          "name": "stdout",
          "text": [
            "2023-06-16 13:24:07,827 ----------------------------------------------------------------------------------------------------\n",
            "2023-06-16 13:24:07,833 Model: \"SequenceTagger(\n",
            "  (embeddings): TransformerWordEmbeddings(\n",
            "    (model): BertModel(\n",
            "      (embeddings): BertEmbeddings(\n",
            "        (word_embeddings): Embedding(197286, 768)\n",
            "        (position_embeddings): Embedding(512, 768)\n",
            "        (token_type_embeddings): Embedding(2, 768)\n",
            "        (LayerNorm): LayerNorm((768,), eps=1e-12, elementwise_affine=True)\n",
            "        (dropout): Dropout(p=0.1, inplace=False)\n",
            "      )\n",
            "      (encoder): BertEncoder(\n",
            "        (layer): ModuleList(\n",
            "          (0-11): 12 x BertLayer(\n",
            "            (attention): BertAttention(\n",
            "              (self): BertSelfAttention(\n",
            "                (query): Linear(in_features=768, out_features=768, bias=True)\n",
            "                (key): Linear(in_features=768, out_features=768, bias=True)\n",
            "                (value): Linear(in_features=768, out_features=768, bias=True)\n",
            "                (dropout): Dropout(p=0.1, inplace=False)\n",
            "              )\n",
            "              (output): BertSelfOutput(\n",
            "                (dense): Linear(in_features=768, out_features=768, bias=True)\n",
            "                (LayerNorm): LayerNorm((768,), eps=1e-12, elementwise_affine=True)\n",
            "                (dropout): Dropout(p=0.1, inplace=False)\n",
            "              )\n",
            "            )\n",
            "            (intermediate): BertIntermediate(\n",
            "              (dense): Linear(in_features=768, out_features=3072, bias=True)\n",
            "              (intermediate_act_fn): GELUActivation()\n",
            "            )\n",
            "            (output): BertOutput(\n",
            "              (dense): Linear(in_features=3072, out_features=768, bias=True)\n",
            "              (LayerNorm): LayerNorm((768,), eps=1e-12, elementwise_affine=True)\n",
            "              (dropout): Dropout(p=0.1, inplace=False)\n",
            "            )\n",
            "          )\n",
            "        )\n",
            "      )\n",
            "      (pooler): BertPooler(\n",
            "        (dense): Linear(in_features=768, out_features=768, bias=True)\n",
            "        (activation): Tanh()\n",
            "      )\n",
            "    )\n",
            "  )\n",
            "  (word_dropout): WordDropout(p=0.05)\n",
            "  (locked_dropout): LockedDropout(p=0.5)\n",
            "  (embedding2nn): Linear(in_features=768, out_features=768, bias=True)\n",
            "  (rnn): LSTM(768, 256, batch_first=True, bidirectional=True)\n",
            "  (linear): Linear(in_features=512, out_features=2, bias=True)\n",
            "  (loss_function): CrossEntropyLoss()\n",
            ")\"\n",
            "2023-06-16 13:24:07,838 ----------------------------------------------------------------------------------------------------\n",
            "2023-06-16 13:24:07,841 Corpus: \"Corpus: 2472 train + 309 dev + 309 test sentences\"\n",
            "2023-06-16 13:24:07,843 ----------------------------------------------------------------------------------------------------\n",
            "2023-06-16 13:24:07,846 Parameters:\n",
            "2023-06-16 13:24:07,848  - learning_rate: \"0.100000\"\n",
            "2023-06-16 13:24:07,849  - mini_batch_size: \"16\"\n",
            "2023-06-16 13:24:07,850  - patience: \"3\"\n",
            "2023-06-16 13:24:07,852  - anneal_factor: \"0.5\"\n",
            "2023-06-16 13:24:07,853  - max_epochs: \"150\"\n",
            "2023-06-16 13:24:07,854  - shuffle: \"True\"\n",
            "2023-06-16 13:24:07,855  - train_with_dev: \"False\"\n",
            "2023-06-16 13:24:07,856  - batch_growth_annealing: \"False\"\n",
            "2023-06-16 13:24:07,858 ----------------------------------------------------------------------------------------------------\n",
            "2023-06-16 13:24:07,859 Model training base path: \"/content/drive/MyDrive/presto-exp-checkpoints/presto-german-160623-10\"\n",
            "2023-06-16 13:24:07,860 ----------------------------------------------------------------------------------------------------\n",
            "2023-06-16 13:24:07,861 Device: cuda:0\n",
            "2023-06-16 13:24:07,862 ----------------------------------------------------------------------------------------------------\n",
            "2023-06-16 13:24:07,864 Embeddings storage mode: cpu\n",
            "2023-06-16 13:24:07,865 ----------------------------------------------------------------------------------------------------\n",
            "2023-06-16 13:24:10,120 epoch 1 - iter 15/155 - loss 0.54844057 - time (sec): 2.25 - samples/sec: 769.29 - lr: 0.100000\n",
            "2023-06-16 13:24:11,940 epoch 1 - iter 30/155 - loss 0.53871025 - time (sec): 4.07 - samples/sec: 875.28 - lr: 0.100000\n",
            "2023-06-16 13:24:13,731 epoch 1 - iter 45/155 - loss 0.53651345 - time (sec): 5.86 - samples/sec: 912.58 - lr: 0.100000\n",
            "2023-06-16 13:24:15,484 epoch 1 - iter 60/155 - loss 0.53652069 - time (sec): 7.62 - samples/sec: 926.98 - lr: 0.100000\n",
            "2023-06-16 13:24:17,269 epoch 1 - iter 75/155 - loss 0.53394676 - time (sec): 9.40 - samples/sec: 928.84 - lr: 0.100000\n",
            "2023-06-16 13:24:19,023 epoch 1 - iter 90/155 - loss 0.53169064 - time (sec): 11.16 - samples/sec: 939.52 - lr: 0.100000\n",
            "2023-06-16 13:24:20,721 epoch 1 - iter 105/155 - loss 0.53234052 - time (sec): 12.86 - samples/sec: 949.51 - lr: 0.100000\n",
            "2023-06-16 13:24:22,515 epoch 1 - iter 120/155 - loss 0.52898699 - time (sec): 14.65 - samples/sec: 955.26 - lr: 0.100000\n",
            "2023-06-16 13:24:24,272 epoch 1 - iter 135/155 - loss 0.52682057 - time (sec): 16.41 - samples/sec: 958.92 - lr: 0.100000\n",
            "2023-06-16 13:24:26,012 epoch 1 - iter 150/155 - loss 0.52576478 - time (sec): 18.15 - samples/sec: 961.13 - lr: 0.100000\n",
            "2023-06-16 13:24:26,539 ----------------------------------------------------------------------------------------------------\n",
            "2023-06-16 13:24:26,541 EPOCH 1 done: loss 0.5256 - lr 0.100000\n"
          ]
        },
        {
          "output_type": "stream",
          "name": "stderr",
          "text": [
            "100%|██████████| 20/20 [00:02<00:00,  8.42it/s]"
          ]
        },
        {
          "output_type": "stream",
          "name": "stdout",
          "text": [
            "2023-06-16 13:24:28,932 Evaluating as a multi-label problem: False\n"
          ]
        },
        {
          "output_type": "stream",
          "name": "stderr",
          "text": [
            "\n"
          ]
        },
        {
          "output_type": "stream",
          "name": "stdout",
          "text": [
            "2023-06-16 13:24:28,961 DEV : loss 0.513359546661377 - f1-score (micro avg)  0.7865\n",
            "2023-06-16 13:24:28,975 BAD EPOCHS (no improvement): 0\n",
            "2023-06-16 13:24:28,980 saving best model\n",
            "2023-06-16 13:24:32,524 ----------------------------------------------------------------------------------------------------\n",
            "2023-06-16 13:24:32,707 epoch 2 - iter 15/155 - loss 0.49744385 - time (sec): 0.18 - samples/sec: 9708.14 - lr: 0.100000\n",
            "2023-06-16 13:24:32,897 epoch 2 - iter 30/155 - loss 0.50454125 - time (sec): 0.37 - samples/sec: 9332.42 - lr: 0.100000\n",
            "2023-06-16 13:24:33,083 epoch 2 - iter 45/155 - loss 0.50654265 - time (sec): 0.56 - samples/sec: 9388.00 - lr: 0.100000\n",
            "2023-06-16 13:24:33,270 epoch 2 - iter 60/155 - loss 0.51345044 - time (sec): 0.74 - samples/sec: 9440.95 - lr: 0.100000\n",
            "2023-06-16 13:24:33,443 epoch 2 - iter 75/155 - loss 0.51694891 - time (sec): 0.92 - samples/sec: 9508.34 - lr: 0.100000\n",
            "2023-06-16 13:24:33,617 epoch 2 - iter 90/155 - loss 0.51892696 - time (sec): 1.09 - samples/sec: 9565.17 - lr: 0.100000\n",
            "2023-06-16 13:24:33,778 epoch 2 - iter 105/155 - loss 0.51537049 - time (sec): 1.25 - samples/sec: 9729.62 - lr: 0.100000\n",
            "2023-06-16 13:24:33,963 epoch 2 - iter 120/155 - loss 0.51589650 - time (sec): 1.44 - samples/sec: 9717.50 - lr: 0.100000\n",
            "2023-06-16 13:24:34,128 epoch 2 - iter 135/155 - loss 0.51783084 - time (sec): 1.60 - samples/sec: 9793.98 - lr: 0.100000\n",
            "2023-06-16 13:24:34,285 epoch 2 - iter 150/155 - loss 0.51804616 - time (sec): 1.76 - samples/sec: 9923.76 - lr: 0.100000\n",
            "2023-06-16 13:24:34,339 ----------------------------------------------------------------------------------------------------\n",
            "2023-06-16 13:24:34,341 EPOCH 2 done: loss 0.5189 - lr 0.100000\n"
          ]
        },
        {
          "output_type": "stream",
          "name": "stderr",
          "text": [
            "100%|██████████| 20/20 [00:00<00:00, 132.30it/s]"
          ]
        },
        {
          "output_type": "stream",
          "name": "stdout",
          "text": [
            "2023-06-16 13:24:34,506 Evaluating as a multi-label problem: False\n",
            "2023-06-16 13:24:34,537 DEV : loss 0.5047157406806946 - f1-score (micro avg)  0.7865\n"
          ]
        },
        {
          "output_type": "stream",
          "name": "stderr",
          "text": [
            "\n"
          ]
        },
        {
          "output_type": "stream",
          "name": "stdout",
          "text": [
            "2023-06-16 13:24:34,552 BAD EPOCHS (no improvement): 0\n",
            "2023-06-16 13:24:34,560 ----------------------------------------------------------------------------------------------------\n",
            "2023-06-16 13:24:34,734 epoch 3 - iter 15/155 - loss 0.51730011 - time (sec): 0.17 - samples/sec: 9870.88 - lr: 0.100000\n",
            "2023-06-16 13:24:34,895 epoch 3 - iter 30/155 - loss 0.52362231 - time (sec): 0.33 - samples/sec: 10422.43 - lr: 0.100000\n",
            "2023-06-16 13:24:35,051 epoch 3 - iter 45/155 - loss 0.52556077 - time (sec): 0.49 - samples/sec: 10677.96 - lr: 0.100000\n",
            "2023-06-16 13:24:35,219 epoch 3 - iter 60/155 - loss 0.52274327 - time (sec): 0.66 - samples/sec: 10664.87 - lr: 0.100000\n",
            "2023-06-16 13:24:35,378 epoch 3 - iter 75/155 - loss 0.51810688 - time (sec): 0.82 - samples/sec: 10686.36 - lr: 0.100000\n",
            "2023-06-16 13:24:35,531 epoch 3 - iter 90/155 - loss 0.51494782 - time (sec): 0.97 - samples/sec: 10765.46 - lr: 0.100000\n",
            "2023-06-16 13:24:35,690 epoch 3 - iter 105/155 - loss 0.51660641 - time (sec): 1.13 - samples/sec: 10791.71 - lr: 0.100000\n",
            "2023-06-16 13:24:35,853 epoch 3 - iter 120/155 - loss 0.51764449 - time (sec): 1.29 - samples/sec: 10832.82 - lr: 0.100000\n",
            "2023-06-16 13:24:36,012 epoch 3 - iter 135/155 - loss 0.51963779 - time (sec): 1.45 - samples/sec: 10767.45 - lr: 0.100000\n",
            "2023-06-16 13:24:36,174 epoch 3 - iter 150/155 - loss 0.52045677 - time (sec): 1.61 - samples/sec: 10781.30 - lr: 0.100000\n",
            "2023-06-16 13:24:36,231 ----------------------------------------------------------------------------------------------------\n",
            "2023-06-16 13:24:36,234 EPOCH 3 done: loss 0.5196 - lr 0.100000\n"
          ]
        },
        {
          "output_type": "stream",
          "name": "stderr",
          "text": [
            "100%|██████████| 20/20 [00:00<00:00, 118.91it/s]"
          ]
        },
        {
          "output_type": "stream",
          "name": "stdout",
          "text": [
            "2023-06-16 13:24:36,416 Evaluating as a multi-label problem: False\n"
          ]
        },
        {
          "output_type": "stream",
          "name": "stderr",
          "text": [
            "\n"
          ]
        },
        {
          "output_type": "stream",
          "name": "stdout",
          "text": [
            "2023-06-16 13:24:36,442 DEV : loss 0.510646402835846 - f1-score (micro avg)  0.7865\n",
            "2023-06-16 13:24:36,453 BAD EPOCHS (no improvement): 1\n",
            "2023-06-16 13:24:36,457 ----------------------------------------------------------------------------------------------------\n",
            "2023-06-16 13:24:36,626 epoch 4 - iter 15/155 - loss 0.51925576 - time (sec): 0.17 - samples/sec: 10422.32 - lr: 0.100000\n",
            "2023-06-16 13:24:36,793 epoch 4 - iter 30/155 - loss 0.52579217 - time (sec): 0.33 - samples/sec: 10379.99 - lr: 0.100000\n",
            "2023-06-16 13:24:36,964 epoch 4 - iter 45/155 - loss 0.52382372 - time (sec): 0.51 - samples/sec: 10378.68 - lr: 0.100000\n",
            "2023-06-16 13:24:37,136 epoch 4 - iter 60/155 - loss 0.52140164 - time (sec): 0.68 - samples/sec: 10376.00 - lr: 0.100000\n",
            "2023-06-16 13:24:37,296 epoch 4 - iter 75/155 - loss 0.51368034 - time (sec): 0.84 - samples/sec: 10565.29 - lr: 0.100000\n",
            "2023-06-16 13:24:37,454 epoch 4 - iter 90/155 - loss 0.51544110 - time (sec): 1.00 - samples/sec: 10558.34 - lr: 0.100000\n",
            "2023-06-16 13:24:37,613 epoch 4 - iter 105/155 - loss 0.51463501 - time (sec): 1.15 - samples/sec: 10581.97 - lr: 0.100000\n",
            "2023-06-16 13:24:37,772 epoch 4 - iter 120/155 - loss 0.51377383 - time (sec): 1.31 - samples/sec: 10593.96 - lr: 0.100000\n",
            "2023-06-16 13:24:37,932 epoch 4 - iter 135/155 - loss 0.51377524 - time (sec): 1.47 - samples/sec: 10659.09 - lr: 0.100000\n",
            "2023-06-16 13:24:38,096 epoch 4 - iter 150/155 - loss 0.51434374 - time (sec): 1.64 - samples/sec: 10629.86 - lr: 0.100000\n",
            "2023-06-16 13:24:38,156 ----------------------------------------------------------------------------------------------------\n",
            "2023-06-16 13:24:38,158 EPOCH 4 done: loss 0.5137 - lr 0.100000\n"
          ]
        },
        {
          "output_type": "stream",
          "name": "stderr",
          "text": [
            "100%|██████████| 20/20 [00:00<00:00, 36.03it/s]"
          ]
        },
        {
          "output_type": "stream",
          "name": "stdout",
          "text": [
            "2023-06-16 13:24:38,726 Evaluating as a multi-label problem: False\n",
            "2023-06-16 13:24:38,753 DEV : loss 0.49383673071861267 - f1-score (micro avg)  0.7865\n",
            "2023-06-16 13:24:38,766 BAD EPOCHS (no improvement): 0\n",
            "2023-06-16 13:24:38,770 ----------------------------------------------------------------------------------------------------\n"
          ]
        },
        {
          "output_type": "stream",
          "name": "stderr",
          "text": [
            "\n"
          ]
        },
        {
          "output_type": "stream",
          "name": "stdout",
          "text": [
            "2023-06-16 13:24:38,932 epoch 5 - iter 15/155 - loss 0.49239876 - time (sec): 0.16 - samples/sec: 11284.10 - lr: 0.100000\n",
            "2023-06-16 13:24:39,094 epoch 5 - iter 30/155 - loss 0.48992833 - time (sec): 0.32 - samples/sec: 10886.29 - lr: 0.100000\n",
            "2023-06-16 13:24:39,261 epoch 5 - iter 45/155 - loss 0.50019822 - time (sec): 0.49 - samples/sec: 10760.07 - lr: 0.100000\n",
            "2023-06-16 13:24:39,485 epoch 5 - iter 60/155 - loss 0.50273002 - time (sec): 0.71 - samples/sec: 9837.94 - lr: 0.100000\n",
            "2023-06-16 13:24:39,689 epoch 5 - iter 75/155 - loss 0.50553417 - time (sec): 0.92 - samples/sec: 9552.26 - lr: 0.100000\n",
            "2023-06-16 13:24:39,868 epoch 5 - iter 90/155 - loss 0.50851266 - time (sec): 1.10 - samples/sec: 9585.64 - lr: 0.100000\n",
            "2023-06-16 13:24:40,036 epoch 5 - iter 105/155 - loss 0.50776487 - time (sec): 1.26 - samples/sec: 9664.94 - lr: 0.100000\n",
            "2023-06-16 13:24:40,212 epoch 5 - iter 120/155 - loss 0.50806906 - time (sec): 1.44 - samples/sec: 9665.18 - lr: 0.100000\n",
            "2023-06-16 13:24:40,393 epoch 5 - iter 135/155 - loss 0.51025657 - time (sec): 1.62 - samples/sec: 9697.82 - lr: 0.100000\n",
            "2023-06-16 13:24:40,576 epoch 5 - iter 150/155 - loss 0.51141303 - time (sec): 1.80 - samples/sec: 9665.55 - lr: 0.100000\n",
            "2023-06-16 13:24:40,628 ----------------------------------------------------------------------------------------------------\n",
            "2023-06-16 13:24:40,631 EPOCH 5 done: loss 0.5111 - lr 0.100000\n"
          ]
        },
        {
          "output_type": "stream",
          "name": "stderr",
          "text": [
            "100%|██████████| 20/20 [00:00<00:00, 107.26it/s]"
          ]
        },
        {
          "output_type": "stream",
          "name": "stdout",
          "text": [
            "2023-06-16 13:24:40,833 Evaluating as a multi-label problem: False\n"
          ]
        },
        {
          "output_type": "stream",
          "name": "stderr",
          "text": [
            "\n"
          ]
        },
        {
          "output_type": "stream",
          "name": "stdout",
          "text": [
            "2023-06-16 13:24:40,862 DEV : loss 0.5003040432929993 - f1-score (micro avg)  0.7865\n",
            "2023-06-16 13:24:40,875 BAD EPOCHS (no improvement): 1\n",
            "2023-06-16 13:24:40,880 ----------------------------------------------------------------------------------------------------\n",
            "2023-06-16 13:24:41,072 epoch 6 - iter 15/155 - loss 0.50761403 - time (sec): 0.19 - samples/sec: 9196.39 - lr: 0.100000\n",
            "2023-06-16 13:24:41,261 epoch 6 - iter 30/155 - loss 0.49733251 - time (sec): 0.38 - samples/sec: 9169.35 - lr: 0.100000\n",
            "2023-06-16 13:24:41,433 epoch 6 - iter 45/155 - loss 0.50069290 - time (sec): 0.55 - samples/sec: 9562.75 - lr: 0.100000\n",
            "2023-06-16 13:24:41,631 epoch 6 - iter 60/155 - loss 0.50152963 - time (sec): 0.75 - samples/sec: 9390.53 - lr: 0.100000\n",
            "2023-06-16 13:24:41,812 epoch 6 - iter 75/155 - loss 0.50442001 - time (sec): 0.93 - samples/sec: 9407.28 - lr: 0.100000\n",
            "2023-06-16 13:24:41,986 epoch 6 - iter 90/155 - loss 0.50448300 - time (sec): 1.10 - samples/sec: 9499.04 - lr: 0.100000\n",
            "2023-06-16 13:24:42,156 epoch 6 - iter 105/155 - loss 0.50564156 - time (sec): 1.27 - samples/sec: 9586.81 - lr: 0.100000\n",
            "2023-06-16 13:24:42,341 epoch 6 - iter 120/155 - loss 0.50526046 - time (sec): 1.46 - samples/sec: 9576.14 - lr: 0.100000\n",
            "2023-06-16 13:24:42,521 epoch 6 - iter 135/155 - loss 0.50726231 - time (sec): 1.64 - samples/sec: 9591.97 - lr: 0.100000\n",
            "2023-06-16 13:24:42,698 epoch 6 - iter 150/155 - loss 0.50643610 - time (sec): 1.82 - samples/sec: 9596.02 - lr: 0.100000\n",
            "2023-06-16 13:24:42,768 ----------------------------------------------------------------------------------------------------\n",
            "2023-06-16 13:24:42,769 EPOCH 6 done: loss 0.5066 - lr 0.100000\n"
          ]
        },
        {
          "output_type": "stream",
          "name": "stderr",
          "text": [
            "100%|██████████| 20/20 [00:00<00:00, 112.56it/s]\n"
          ]
        },
        {
          "output_type": "stream",
          "name": "stdout",
          "text": [
            "2023-06-16 13:24:42,979 Evaluating as a multi-label problem: False\n",
            "2023-06-16 13:24:43,007 DEV : loss 0.49548476934432983 - f1-score (micro avg)  0.7865\n",
            "2023-06-16 13:24:43,018 BAD EPOCHS (no improvement): 2\n",
            "2023-06-16 13:24:43,023 ----------------------------------------------------------------------------------------------------\n",
            "2023-06-16 13:24:43,185 epoch 7 - iter 15/155 - loss 0.50355094 - time (sec): 0.16 - samples/sec: 10567.79 - lr: 0.100000\n",
            "2023-06-16 13:24:43,363 epoch 7 - iter 30/155 - loss 0.49064072 - time (sec): 0.34 - samples/sec: 10233.76 - lr: 0.100000\n",
            "2023-06-16 13:24:43,552 epoch 7 - iter 45/155 - loss 0.49530962 - time (sec): 0.53 - samples/sec: 9907.33 - lr: 0.100000\n",
            "2023-06-16 13:24:43,764 epoch 7 - iter 60/155 - loss 0.49956612 - time (sec): 0.74 - samples/sec: 9366.50 - lr: 0.100000\n",
            "2023-06-16 13:24:43,949 epoch 7 - iter 75/155 - loss 0.50024889 - time (sec): 0.92 - samples/sec: 9347.40 - lr: 0.100000\n",
            "2023-06-16 13:24:44,158 epoch 7 - iter 90/155 - loss 0.50648366 - time (sec): 1.13 - samples/sec: 9193.49 - lr: 0.100000\n",
            "2023-06-16 13:24:44,381 epoch 7 - iter 105/155 - loss 0.50971233 - time (sec): 1.36 - samples/sec: 8967.84 - lr: 0.100000\n",
            "2023-06-16 13:24:44,584 epoch 7 - iter 120/155 - loss 0.51050400 - time (sec): 1.56 - samples/sec: 8893.04 - lr: 0.100000\n",
            "2023-06-16 13:24:44,788 epoch 7 - iter 135/155 - loss 0.50856588 - time (sec): 1.76 - samples/sec: 8858.12 - lr: 0.100000\n",
            "2023-06-16 13:24:44,995 epoch 7 - iter 150/155 - loss 0.50726892 - time (sec): 1.97 - samples/sec: 8831.47 - lr: 0.100000\n",
            "2023-06-16 13:24:45,069 ----------------------------------------------------------------------------------------------------\n",
            "2023-06-16 13:24:45,072 EPOCH 7 done: loss 0.5062 - lr 0.100000\n"
          ]
        },
        {
          "output_type": "stream",
          "name": "stderr",
          "text": [
            "100%|██████████| 20/20 [00:00<00:00, 74.08it/s]"
          ]
        },
        {
          "output_type": "stream",
          "name": "stdout",
          "text": [
            "2023-06-16 13:24:45,362 Evaluating as a multi-label problem: False\n",
            "2023-06-16 13:24:45,388 DEV : loss 0.4903302788734436 - f1-score (micro avg)  0.7865\n"
          ]
        },
        {
          "output_type": "stream",
          "name": "stderr",
          "text": [
            "\n"
          ]
        },
        {
          "output_type": "stream",
          "name": "stdout",
          "text": [
            "2023-06-16 13:24:45,402 BAD EPOCHS (no improvement): 0\n",
            "2023-06-16 13:24:45,407 ----------------------------------------------------------------------------------------------------\n",
            "2023-06-16 13:24:45,637 epoch 8 - iter 15/155 - loss 0.50377273 - time (sec): 0.23 - samples/sec: 7692.11 - lr: 0.100000\n",
            "2023-06-16 13:24:45,841 epoch 8 - iter 30/155 - loss 0.50421239 - time (sec): 0.43 - samples/sec: 8176.63 - lr: 0.100000\n",
            "2023-06-16 13:24:46,055 epoch 8 - iter 45/155 - loss 0.50069103 - time (sec): 0.65 - samples/sec: 8218.07 - lr: 0.100000\n",
            "2023-06-16 13:24:46,262 epoch 8 - iter 60/155 - loss 0.50204351 - time (sec): 0.85 - samples/sec: 8279.86 - lr: 0.100000\n",
            "2023-06-16 13:24:46,493 epoch 8 - iter 75/155 - loss 0.50522178 - time (sec): 1.08 - samples/sec: 8143.54 - lr: 0.100000\n",
            "2023-06-16 13:24:46,688 epoch 8 - iter 90/155 - loss 0.50551322 - time (sec): 1.28 - samples/sec: 8197.09 - lr: 0.100000\n",
            "2023-06-16 13:24:46,892 epoch 8 - iter 105/155 - loss 0.50966345 - time (sec): 1.48 - samples/sec: 8245.84 - lr: 0.100000\n",
            "2023-06-16 13:24:47,109 epoch 8 - iter 120/155 - loss 0.50669046 - time (sec): 1.70 - samples/sec: 8258.26 - lr: 0.100000\n",
            "2023-06-16 13:24:47,318 epoch 8 - iter 135/155 - loss 0.50751412 - time (sec): 1.91 - samples/sec: 8223.97 - lr: 0.100000\n",
            "2023-06-16 13:24:47,508 epoch 8 - iter 150/155 - loss 0.50680833 - time (sec): 2.10 - samples/sec: 8304.29 - lr: 0.100000\n",
            "2023-06-16 13:24:47,576 ----------------------------------------------------------------------------------------------------\n",
            "2023-06-16 13:24:47,578 EPOCH 8 done: loss 0.5062 - lr 0.100000\n"
          ]
        },
        {
          "output_type": "stream",
          "name": "stderr",
          "text": [
            "100%|██████████| 20/20 [00:00<00:00, 83.01it/s]"
          ]
        },
        {
          "output_type": "stream",
          "name": "stdout",
          "text": [
            "2023-06-16 13:24:47,837 Evaluating as a multi-label problem: False\n",
            "2023-06-16 13:24:47,870 DEV : loss 0.4739281237125397 - f1-score (micro avg)  0.7865\n",
            "2023-06-16 13:24:47,882 BAD EPOCHS (no improvement): 0\n"
          ]
        },
        {
          "output_type": "stream",
          "name": "stderr",
          "text": [
            "\n"
          ]
        },
        {
          "output_type": "stream",
          "name": "stdout",
          "text": [
            "2023-06-16 13:24:47,890 ----------------------------------------------------------------------------------------------------\n",
            "2023-06-16 13:24:48,095 epoch 9 - iter 15/155 - loss 0.51106749 - time (sec): 0.20 - samples/sec: 8846.69 - lr: 0.100000\n",
            "2023-06-16 13:24:48,309 epoch 9 - iter 30/155 - loss 0.50853685 - time (sec): 0.42 - samples/sec: 8529.97 - lr: 0.100000\n",
            "2023-06-16 13:24:48,498 epoch 9 - iter 45/155 - loss 0.50785846 - time (sec): 0.60 - samples/sec: 8837.25 - lr: 0.100000\n",
            "2023-06-16 13:24:48,701 epoch 9 - iter 60/155 - loss 0.51367083 - time (sec): 0.81 - samples/sec: 8732.89 - lr: 0.100000\n",
            "2023-06-16 13:24:48,881 epoch 9 - iter 75/155 - loss 0.50905732 - time (sec): 0.99 - samples/sec: 8932.93 - lr: 0.100000\n",
            "2023-06-16 13:24:49,064 epoch 9 - iter 90/155 - loss 0.50747101 - time (sec): 1.17 - samples/sec: 9038.54 - lr: 0.100000\n",
            "2023-06-16 13:24:49,241 epoch 9 - iter 105/155 - loss 0.50560003 - time (sec): 1.35 - samples/sec: 9128.36 - lr: 0.100000\n",
            "2023-06-16 13:24:49,405 epoch 9 - iter 120/155 - loss 0.50722323 - time (sec): 1.51 - samples/sec: 9251.27 - lr: 0.100000\n",
            "2023-06-16 13:24:49,582 epoch 9 - iter 135/155 - loss 0.50701028 - time (sec): 1.69 - samples/sec: 9297.80 - lr: 0.100000\n",
            "2023-06-16 13:24:49,754 epoch 9 - iter 150/155 - loss 0.50622104 - time (sec): 1.86 - samples/sec: 9370.09 - lr: 0.100000\n",
            "2023-06-16 13:24:49,818 ----------------------------------------------------------------------------------------------------\n",
            "2023-06-16 13:24:49,821 EPOCH 9 done: loss 0.5059 - lr 0.100000\n"
          ]
        },
        {
          "output_type": "stream",
          "name": "stderr",
          "text": [
            "100%|██████████| 20/20 [00:00<00:00, 107.20it/s]"
          ]
        },
        {
          "output_type": "stream",
          "name": "stdout",
          "text": [
            "2023-06-16 13:24:50,023 Evaluating as a multi-label problem: False\n"
          ]
        },
        {
          "output_type": "stream",
          "name": "stderr",
          "text": [
            "\n"
          ]
        },
        {
          "output_type": "stream",
          "name": "stdout",
          "text": [
            "2023-06-16 13:24:50,049 DEV : loss 0.49135535955429077 - f1-score (micro avg)  0.7865\n",
            "2023-06-16 13:24:50,061 BAD EPOCHS (no improvement): 1\n",
            "2023-06-16 13:24:50,065 ----------------------------------------------------------------------------------------------------\n",
            "2023-06-16 13:24:50,244 epoch 10 - iter 15/155 - loss 0.48883617 - time (sec): 0.18 - samples/sec: 9013.88 - lr: 0.100000\n",
            "2023-06-16 13:24:50,413 epoch 10 - iter 30/155 - loss 0.50072200 - time (sec): 0.35 - samples/sec: 9797.55 - lr: 0.100000\n",
            "2023-06-16 13:24:50,580 epoch 10 - iter 45/155 - loss 0.50428575 - time (sec): 0.51 - samples/sec: 9926.71 - lr: 0.100000\n",
            "2023-06-16 13:24:50,757 epoch 10 - iter 60/155 - loss 0.51109671 - time (sec): 0.69 - samples/sec: 9875.90 - lr: 0.100000\n",
            "2023-06-16 13:24:50,918 epoch 10 - iter 75/155 - loss 0.50942307 - time (sec): 0.85 - samples/sec: 10103.43 - lr: 0.100000\n",
            "2023-06-16 13:24:51,098 epoch 10 - iter 90/155 - loss 0.50588723 - time (sec): 1.03 - samples/sec: 10073.12 - lr: 0.100000\n",
            "2023-06-16 13:24:51,269 epoch 10 - iter 105/155 - loss 0.50356220 - time (sec): 1.20 - samples/sec: 10089.34 - lr: 0.100000\n",
            "2023-06-16 13:24:51,438 epoch 10 - iter 120/155 - loss 0.50299668 - time (sec): 1.37 - samples/sec: 10140.40 - lr: 0.100000\n",
            "2023-06-16 13:24:51,616 epoch 10 - iter 135/155 - loss 0.50459134 - time (sec): 1.55 - samples/sec: 10097.28 - lr: 0.100000\n",
            "2023-06-16 13:24:51,790 epoch 10 - iter 150/155 - loss 0.50461633 - time (sec): 1.72 - samples/sec: 10136.44 - lr: 0.100000\n",
            "2023-06-16 13:24:51,853 ----------------------------------------------------------------------------------------------------\n",
            "2023-06-16 13:24:51,854 EPOCH 10 done: loss 0.5046 - lr 0.100000\n"
          ]
        },
        {
          "output_type": "stream",
          "name": "stderr",
          "text": [
            "100%|██████████| 20/20 [00:00<00:00, 120.85it/s]"
          ]
        },
        {
          "output_type": "stream",
          "name": "stdout",
          "text": [
            "2023-06-16 13:24:52,037 Evaluating as a multi-label problem: False\n"
          ]
        },
        {
          "output_type": "stream",
          "name": "stderr",
          "text": [
            "\n"
          ]
        },
        {
          "output_type": "stream",
          "name": "stdout",
          "text": [
            "2023-06-16 13:24:52,066 DEV : loss 0.4716068208217621 - f1-score (micro avg)  0.7865\n",
            "2023-06-16 13:24:52,079 BAD EPOCHS (no improvement): 0\n",
            "2023-06-16 13:24:52,084 ----------------------------------------------------------------------------------------------------\n",
            "2023-06-16 13:24:52,265 epoch 11 - iter 15/155 - loss 0.52641456 - time (sec): 0.18 - samples/sec: 9488.81 - lr: 0.100000\n",
            "2023-06-16 13:24:52,434 epoch 11 - iter 30/155 - loss 0.50564945 - time (sec): 0.35 - samples/sec: 10030.14 - lr: 0.100000\n",
            "2023-06-16 13:24:52,606 epoch 11 - iter 45/155 - loss 0.50178043 - time (sec): 0.52 - samples/sec: 10096.85 - lr: 0.100000\n",
            "2023-06-16 13:24:52,778 epoch 11 - iter 60/155 - loss 0.49972215 - time (sec): 0.69 - samples/sec: 10032.04 - lr: 0.100000\n",
            "2023-06-16 13:24:52,947 epoch 11 - iter 75/155 - loss 0.50054987 - time (sec): 0.86 - samples/sec: 10017.60 - lr: 0.100000\n",
            "2023-06-16 13:24:53,127 epoch 11 - iter 90/155 - loss 0.50155182 - time (sec): 1.04 - samples/sec: 9955.00 - lr: 0.100000\n",
            "2023-06-16 13:24:53,311 epoch 11 - iter 105/155 - loss 0.49837116 - time (sec): 1.23 - samples/sec: 9880.72 - lr: 0.100000\n",
            "2023-06-16 13:24:53,487 epoch 11 - iter 120/155 - loss 0.49960274 - time (sec): 1.40 - samples/sec: 9919.17 - lr: 0.100000\n",
            "2023-06-16 13:24:53,666 epoch 11 - iter 135/155 - loss 0.49945034 - time (sec): 1.58 - samples/sec: 9898.64 - lr: 0.100000\n",
            "2023-06-16 13:24:53,855 epoch 11 - iter 150/155 - loss 0.49731572 - time (sec): 1.77 - samples/sec: 9829.89 - lr: 0.100000\n",
            "2023-06-16 13:24:53,912 ----------------------------------------------------------------------------------------------------\n",
            "2023-06-16 13:24:53,913 EPOCH 11 done: loss 0.4978 - lr 0.100000\n"
          ]
        },
        {
          "output_type": "stream",
          "name": "stderr",
          "text": [
            "100%|██████████| 20/20 [00:00<00:00, 112.00it/s]"
          ]
        },
        {
          "output_type": "stream",
          "name": "stdout",
          "text": [
            "2023-06-16 13:24:54,112 Evaluating as a multi-label problem: False\n"
          ]
        },
        {
          "output_type": "stream",
          "name": "stderr",
          "text": [
            "\n"
          ]
        },
        {
          "output_type": "stream",
          "name": "stdout",
          "text": [
            "2023-06-16 13:24:54,143 DEV : loss 0.49658164381980896 - f1-score (micro avg)  0.7865\n",
            "2023-06-16 13:24:54,154 BAD EPOCHS (no improvement): 1\n",
            "2023-06-16 13:24:54,158 ----------------------------------------------------------------------------------------------------\n",
            "2023-06-16 13:24:54,336 epoch 12 - iter 15/155 - loss 0.49023994 - time (sec): 0.18 - samples/sec: 9826.45 - lr: 0.100000\n",
            "2023-06-16 13:24:54,515 epoch 12 - iter 30/155 - loss 0.49244009 - time (sec): 0.35 - samples/sec: 9821.38 - lr: 0.100000\n",
            "2023-06-16 13:24:54,698 epoch 12 - iter 45/155 - loss 0.49030275 - time (sec): 0.54 - samples/sec: 9637.21 - lr: 0.100000\n",
            "2023-06-16 13:24:54,875 epoch 12 - iter 60/155 - loss 0.49328226 - time (sec): 0.71 - samples/sec: 9714.73 - lr: 0.100000\n",
            "2023-06-16 13:24:55,040 epoch 12 - iter 75/155 - loss 0.49644765 - time (sec): 0.88 - samples/sec: 9850.29 - lr: 0.100000\n",
            "2023-06-16 13:24:55,230 epoch 12 - iter 90/155 - loss 0.49933559 - time (sec): 1.07 - samples/sec: 9763.61 - lr: 0.100000\n",
            "2023-06-16 13:24:55,416 epoch 12 - iter 105/155 - loss 0.49515900 - time (sec): 1.26 - samples/sec: 9753.01 - lr: 0.100000\n",
            "2023-06-16 13:24:55,599 epoch 12 - iter 120/155 - loss 0.49401861 - time (sec): 1.44 - samples/sec: 9718.10 - lr: 0.100000\n",
            "2023-06-16 13:24:55,780 epoch 12 - iter 135/155 - loss 0.49394012 - time (sec): 1.62 - samples/sec: 9691.26 - lr: 0.100000\n",
            "2023-06-16 13:24:55,952 epoch 12 - iter 150/155 - loss 0.49738176 - time (sec): 1.79 - samples/sec: 9719.71 - lr: 0.100000\n",
            "2023-06-16 13:24:56,005 ----------------------------------------------------------------------------------------------------\n",
            "2023-06-16 13:24:56,008 EPOCH 12 done: loss 0.4965 - lr 0.100000\n"
          ]
        },
        {
          "output_type": "stream",
          "name": "stderr",
          "text": [
            "100%|██████████| 20/20 [00:00<00:00, 115.24it/s]"
          ]
        },
        {
          "output_type": "stream",
          "name": "stdout",
          "text": [
            "2023-06-16 13:24:56,197 Evaluating as a multi-label problem: False\n"
          ]
        },
        {
          "output_type": "stream",
          "name": "stderr",
          "text": [
            "\n"
          ]
        },
        {
          "output_type": "stream",
          "name": "stdout",
          "text": [
            "2023-06-16 13:24:56,227 DEV : loss 0.47278791666030884 - f1-score (micro avg)  0.7919\n",
            "2023-06-16 13:24:56,242 BAD EPOCHS (no improvement): 0\n",
            "2023-06-16 13:24:56,247 saving best model\n",
            "2023-06-16 13:25:01,336 ----------------------------------------------------------------------------------------------------\n",
            "2023-06-16 13:25:01,518 epoch 13 - iter 15/155 - loss 0.50308164 - time (sec): 0.18 - samples/sec: 9598.58 - lr: 0.100000\n",
            "2023-06-16 13:25:01,709 epoch 13 - iter 30/155 - loss 0.49512118 - time (sec): 0.37 - samples/sec: 9468.34 - lr: 0.100000\n",
            "2023-06-16 13:25:01,895 epoch 13 - iter 45/155 - loss 0.49403323 - time (sec): 0.56 - samples/sec: 9487.15 - lr: 0.100000\n",
            "2023-06-16 13:25:02,074 epoch 13 - iter 60/155 - loss 0.48798580 - time (sec): 0.74 - samples/sec: 9531.24 - lr: 0.100000\n",
            "2023-06-16 13:25:02,250 epoch 13 - iter 75/155 - loss 0.49139645 - time (sec): 0.91 - samples/sec: 9554.15 - lr: 0.100000\n",
            "2023-06-16 13:25:02,445 epoch 13 - iter 90/155 - loss 0.49207309 - time (sec): 1.11 - samples/sec: 9432.81 - lr: 0.100000\n",
            "2023-06-16 13:25:02,652 epoch 13 - iter 105/155 - loss 0.49482761 - time (sec): 1.31 - samples/sec: 9278.50 - lr: 0.100000\n",
            "2023-06-16 13:25:02,834 epoch 13 - iter 120/155 - loss 0.49594716 - time (sec): 1.50 - samples/sec: 9304.65 - lr: 0.100000\n",
            "2023-06-16 13:25:03,006 epoch 13 - iter 135/155 - loss 0.49356008 - time (sec): 1.67 - samples/sec: 9413.46 - lr: 0.100000\n",
            "2023-06-16 13:25:03,191 epoch 13 - iter 150/155 - loss 0.49349009 - time (sec): 1.85 - samples/sec: 9402.31 - lr: 0.100000\n",
            "2023-06-16 13:25:03,246 ----------------------------------------------------------------------------------------------------\n",
            "2023-06-16 13:25:03,248 EPOCH 13 done: loss 0.4943 - lr 0.100000\n"
          ]
        },
        {
          "output_type": "stream",
          "name": "stderr",
          "text": [
            "100%|██████████| 20/20 [00:00<00:00, 121.74it/s]"
          ]
        },
        {
          "output_type": "stream",
          "name": "stdout",
          "text": [
            "2023-06-16 13:25:03,427 Evaluating as a multi-label problem: False\n",
            "2023-06-16 13:25:03,451 DEV : loss 0.47078296542167664 - f1-score (micro avg)  0.787\n"
          ]
        },
        {
          "output_type": "stream",
          "name": "stderr",
          "text": [
            "\n"
          ]
        },
        {
          "output_type": "stream",
          "name": "stdout",
          "text": [
            "2023-06-16 13:25:03,464 BAD EPOCHS (no improvement): 1\n",
            "2023-06-16 13:25:03,468 ----------------------------------------------------------------------------------------------------\n",
            "2023-06-16 13:25:03,636 epoch 14 - iter 15/155 - loss 0.48462971 - time (sec): 0.17 - samples/sec: 10484.49 - lr: 0.100000\n",
            "2023-06-16 13:25:03,800 epoch 14 - iter 30/155 - loss 0.48785928 - time (sec): 0.33 - samples/sec: 10290.95 - lr: 0.100000\n",
            "2023-06-16 13:25:03,955 epoch 14 - iter 45/155 - loss 0.48813463 - time (sec): 0.48 - samples/sec: 10702.96 - lr: 0.100000\n",
            "2023-06-16 13:25:04,117 epoch 14 - iter 60/155 - loss 0.48560962 - time (sec): 0.65 - samples/sec: 10701.65 - lr: 0.100000\n",
            "2023-06-16 13:25:04,276 epoch 14 - iter 75/155 - loss 0.48567965 - time (sec): 0.81 - samples/sec: 10648.21 - lr: 0.100000\n",
            "2023-06-16 13:25:04,444 epoch 14 - iter 90/155 - loss 0.48487186 - time (sec): 0.97 - samples/sec: 10648.95 - lr: 0.100000\n",
            "2023-06-16 13:25:04,602 epoch 14 - iter 105/155 - loss 0.48606164 - time (sec): 1.13 - samples/sec: 10695.82 - lr: 0.100000\n",
            "2023-06-16 13:25:04,763 epoch 14 - iter 120/155 - loss 0.48700071 - time (sec): 1.29 - samples/sec: 10732.73 - lr: 0.100000\n",
            "2023-06-16 13:25:04,924 epoch 14 - iter 135/155 - loss 0.48632205 - time (sec): 1.45 - samples/sec: 10750.44 - lr: 0.100000\n",
            "2023-06-16 13:25:05,085 epoch 14 - iter 150/155 - loss 0.48738915 - time (sec): 1.61 - samples/sec: 10771.20 - lr: 0.100000\n",
            "2023-06-16 13:25:05,143 ----------------------------------------------------------------------------------------------------\n",
            "2023-06-16 13:25:05,145 EPOCH 14 done: loss 0.4886 - lr 0.100000\n"
          ]
        },
        {
          "output_type": "stream",
          "name": "stderr",
          "text": [
            "100%|██████████| 20/20 [00:00<00:00, 124.81it/s]"
          ]
        },
        {
          "output_type": "stream",
          "name": "stdout",
          "text": [
            "2023-06-16 13:25:05,319 Evaluating as a multi-label problem: False\n",
            "2023-06-16 13:25:05,345 DEV : loss 0.4879070222377777 - f1-score (micro avg)  0.8168\n"
          ]
        },
        {
          "output_type": "stream",
          "name": "stderr",
          "text": [
            "\n"
          ]
        },
        {
          "output_type": "stream",
          "name": "stdout",
          "text": [
            "2023-06-16 13:25:05,357 BAD EPOCHS (no improvement): 0\n",
            "2023-06-16 13:25:05,361 saving best model\n",
            "2023-06-16 13:25:09,280 ----------------------------------------------------------------------------------------------------\n",
            "2023-06-16 13:25:09,448 epoch 15 - iter 15/155 - loss 0.48906838 - time (sec): 0.16 - samples/sec: 10825.73 - lr: 0.100000\n",
            "2023-06-16 13:25:09,613 epoch 15 - iter 30/155 - loss 0.48471497 - time (sec): 0.33 - samples/sec: 10814.23 - lr: 0.100000\n",
            "2023-06-16 13:25:09,774 epoch 15 - iter 45/155 - loss 0.48563484 - time (sec): 0.49 - samples/sec: 10651.29 - lr: 0.100000\n",
            "2023-06-16 13:25:09,943 epoch 15 - iter 60/155 - loss 0.48639349 - time (sec): 0.66 - samples/sec: 10595.72 - lr: 0.100000\n",
            "2023-06-16 13:25:10,132 epoch 15 - iter 75/155 - loss 0.48797503 - time (sec): 0.85 - samples/sec: 10265.89 - lr: 0.100000\n",
            "2023-06-16 13:25:10,440 epoch 15 - iter 90/155 - loss 0.49102832 - time (sec): 1.16 - samples/sec: 9032.35 - lr: 0.100000\n",
            "2023-06-16 13:25:10,644 epoch 15 - iter 105/155 - loss 0.49021662 - time (sec): 1.36 - samples/sec: 8947.79 - lr: 0.100000\n",
            "2023-06-16 13:25:10,812 epoch 15 - iter 120/155 - loss 0.48954745 - time (sec): 1.53 - samples/sec: 9151.00 - lr: 0.100000\n",
            "2023-06-16 13:25:10,964 epoch 15 - iter 135/155 - loss 0.48948515 - time (sec): 1.68 - samples/sec: 9371.15 - lr: 0.100000\n",
            "2023-06-16 13:25:11,312 epoch 15 - iter 150/155 - loss 0.48582023 - time (sec): 2.03 - samples/sec: 8605.92 - lr: 0.100000\n",
            "2023-06-16 13:25:11,405 ----------------------------------------------------------------------------------------------------\n",
            "2023-06-16 13:25:11,411 EPOCH 15 done: loss 0.4856 - lr 0.100000\n"
          ]
        },
        {
          "output_type": "stream",
          "name": "stderr",
          "text": [
            "100%|██████████| 20/20 [00:00<00:00, 117.69it/s]"
          ]
        },
        {
          "output_type": "stream",
          "name": "stdout",
          "text": [
            "2023-06-16 13:25:11,599 Evaluating as a multi-label problem: False\n"
          ]
        },
        {
          "output_type": "stream",
          "name": "stderr",
          "text": [
            "\n"
          ]
        },
        {
          "output_type": "stream",
          "name": "stdout",
          "text": [
            "2023-06-16 13:25:11,626 DEV : loss 0.44620633125305176 - f1-score (micro avg)  0.8091\n",
            "2023-06-16 13:25:11,638 BAD EPOCHS (no improvement): 1\n",
            "2023-06-16 13:25:11,642 ----------------------------------------------------------------------------------------------------\n",
            "2023-06-16 13:25:11,804 epoch 16 - iter 15/155 - loss 0.48610794 - time (sec): 0.16 - samples/sec: 10501.25 - lr: 0.100000\n",
            "2023-06-16 13:25:12,003 epoch 16 - iter 30/155 - loss 0.48493748 - time (sec): 0.36 - samples/sec: 9608.17 - lr: 0.100000\n",
            "2023-06-16 13:25:12,265 epoch 16 - iter 45/155 - loss 0.48390473 - time (sec): 0.62 - samples/sec: 8364.35 - lr: 0.100000\n",
            "2023-06-16 13:25:12,447 epoch 16 - iter 60/155 - loss 0.48425356 - time (sec): 0.80 - samples/sec: 8557.12 - lr: 0.100000\n",
            "2023-06-16 13:25:12,611 epoch 16 - iter 75/155 - loss 0.48620467 - time (sec): 0.97 - samples/sec: 8941.33 - lr: 0.100000\n",
            "2023-06-16 13:25:12,783 epoch 16 - iter 90/155 - loss 0.48448797 - time (sec): 1.14 - samples/sec: 9172.25 - lr: 0.100000\n",
            "2023-06-16 13:25:12,944 epoch 16 - iter 105/155 - loss 0.48504414 - time (sec): 1.30 - samples/sec: 9350.75 - lr: 0.100000\n",
            "2023-06-16 13:25:13,107 epoch 16 - iter 120/155 - loss 0.48312860 - time (sec): 1.46 - samples/sec: 9494.91 - lr: 0.100000\n",
            "2023-06-16 13:25:13,295 epoch 16 - iter 135/155 - loss 0.48111953 - time (sec): 1.65 - samples/sec: 9508.95 - lr: 0.100000\n",
            "2023-06-16 13:25:13,454 epoch 16 - iter 150/155 - loss 0.48079772 - time (sec): 1.81 - samples/sec: 9617.33 - lr: 0.100000\n",
            "2023-06-16 13:25:13,512 ----------------------------------------------------------------------------------------------------\n",
            "2023-06-16 13:25:13,515 EPOCH 16 done: loss 0.4802 - lr 0.100000\n"
          ]
        },
        {
          "output_type": "stream",
          "name": "stderr",
          "text": [
            "100%|██████████| 20/20 [00:00<00:00, 83.40it/s]"
          ]
        },
        {
          "output_type": "stream",
          "name": "stdout",
          "text": [
            "2023-06-16 13:25:13,775 Evaluating as a multi-label problem: False\n",
            "2023-06-16 13:25:13,810 DEV : loss 0.45766204595565796 - f1-score (micro avg)  0.8087\n",
            "2023-06-16 13:25:13,823 BAD EPOCHS (no improvement): 2\n"
          ]
        },
        {
          "output_type": "stream",
          "name": "stderr",
          "text": [
            "\n"
          ]
        },
        {
          "output_type": "stream",
          "name": "stdout",
          "text": [
            "2023-06-16 13:25:14,074 ----------------------------------------------------------------------------------------------------\n",
            "2023-06-16 13:25:14,251 epoch 17 - iter 15/155 - loss 0.48298177 - time (sec): 0.17 - samples/sec: 9944.89 - lr: 0.100000\n",
            "2023-06-16 13:25:14,430 epoch 17 - iter 30/155 - loss 0.49389443 - time (sec): 0.35 - samples/sec: 9772.21 - lr: 0.100000\n",
            "2023-06-16 13:25:14,598 epoch 17 - iter 45/155 - loss 0.48689371 - time (sec): 0.52 - samples/sec: 9936.17 - lr: 0.100000\n",
            "2023-06-16 13:25:14,780 epoch 17 - iter 60/155 - loss 0.48660849 - time (sec): 0.70 - samples/sec: 9742.71 - lr: 0.100000\n",
            "2023-06-16 13:25:14,962 epoch 17 - iter 75/155 - loss 0.48238775 - time (sec): 0.89 - samples/sec: 9725.28 - lr: 0.100000\n",
            "2023-06-16 13:25:15,142 epoch 17 - iter 90/155 - loss 0.48143143 - time (sec): 1.07 - samples/sec: 9689.69 - lr: 0.100000\n",
            "2023-06-16 13:25:15,330 epoch 17 - iter 105/155 - loss 0.47756465 - time (sec): 1.25 - samples/sec: 9672.92 - lr: 0.100000\n",
            "2023-06-16 13:25:15,504 epoch 17 - iter 120/155 - loss 0.47639740 - time (sec): 1.43 - samples/sec: 9746.72 - lr: 0.100000\n",
            "2023-06-16 13:25:15,688 epoch 17 - iter 135/155 - loss 0.47520220 - time (sec): 1.61 - samples/sec: 9725.14 - lr: 0.100000\n",
            "2023-06-16 13:25:15,868 epoch 17 - iter 150/155 - loss 0.47517150 - time (sec): 1.79 - samples/sec: 9714.68 - lr: 0.100000\n",
            "2023-06-16 13:25:15,926 ----------------------------------------------------------------------------------------------------\n",
            "2023-06-16 13:25:15,928 EPOCH 17 done: loss 0.4762 - lr 0.100000\n"
          ]
        },
        {
          "output_type": "stream",
          "name": "stderr",
          "text": [
            "100%|██████████| 20/20 [00:00<00:00, 106.72it/s]\n"
          ]
        },
        {
          "output_type": "stream",
          "name": "stdout",
          "text": [
            "2023-06-16 13:25:16,134 Evaluating as a multi-label problem: False\n",
            "2023-06-16 13:25:16,159 DEV : loss 0.44940853118896484 - f1-score (micro avg)  0.8014\n",
            "2023-06-16 13:25:16,173 BAD EPOCHS (no improvement): 3\n",
            "2023-06-16 13:25:16,178 ----------------------------------------------------------------------------------------------------\n",
            "2023-06-16 13:25:16,348 epoch 18 - iter 15/155 - loss 0.47511530 - time (sec): 0.17 - samples/sec: 10819.69 - lr: 0.100000\n",
            "2023-06-16 13:25:16,526 epoch 18 - iter 30/155 - loss 0.47812950 - time (sec): 0.35 - samples/sec: 10369.31 - lr: 0.100000\n",
            "2023-06-16 13:25:16,709 epoch 18 - iter 45/155 - loss 0.47148340 - time (sec): 0.53 - samples/sec: 10135.98 - lr: 0.100000\n",
            "2023-06-16 13:25:16,890 epoch 18 - iter 60/155 - loss 0.47144975 - time (sec): 0.71 - samples/sec: 9999.45 - lr: 0.100000\n",
            "2023-06-16 13:25:17,071 epoch 18 - iter 75/155 - loss 0.47091996 - time (sec): 0.89 - samples/sec: 9977.98 - lr: 0.100000\n",
            "2023-06-16 13:25:17,271 epoch 18 - iter 90/155 - loss 0.47363105 - time (sec): 1.09 - samples/sec: 9690.13 - lr: 0.100000\n",
            "2023-06-16 13:25:17,535 epoch 18 - iter 105/155 - loss 0.47280166 - time (sec): 1.35 - samples/sec: 9113.90 - lr: 0.100000\n",
            "2023-06-16 13:25:17,761 epoch 18 - iter 120/155 - loss 0.47213501 - time (sec): 1.58 - samples/sec: 8895.39 - lr: 0.100000\n",
            "2023-06-16 13:25:17,954 epoch 18 - iter 135/155 - loss 0.47158152 - time (sec): 1.77 - samples/sec: 8899.37 - lr: 0.100000\n",
            "2023-06-16 13:25:18,147 epoch 18 - iter 150/155 - loss 0.47334771 - time (sec): 1.97 - samples/sec: 8856.47 - lr: 0.100000\n",
            "2023-06-16 13:25:18,207 ----------------------------------------------------------------------------------------------------\n",
            "2023-06-16 13:25:18,209 EPOCH 18 done: loss 0.4727 - lr 0.100000\n"
          ]
        },
        {
          "output_type": "stream",
          "name": "stderr",
          "text": [
            "100%|██████████| 20/20 [00:00<00:00, 101.90it/s]\n"
          ]
        },
        {
          "output_type": "stream",
          "name": "stdout",
          "text": [
            "2023-06-16 13:25:18,424 Evaluating as a multi-label problem: False\n",
            "2023-06-16 13:25:18,448 DEV : loss 0.44978994131088257 - f1-score (micro avg)  0.8087\n",
            "2023-06-16 13:25:18,459 Epoch    18: reducing learning rate of group 0 to 5.0000e-02.\n",
            "2023-06-16 13:25:18,461 BAD EPOCHS (no improvement): 4\n",
            "2023-06-16 13:25:18,466 ----------------------------------------------------------------------------------------------------\n",
            "2023-06-16 13:25:18,643 epoch 19 - iter 15/155 - loss 0.45916860 - time (sec): 0.18 - samples/sec: 9315.56 - lr: 0.050000\n",
            "2023-06-16 13:25:18,841 epoch 19 - iter 30/155 - loss 0.46539803 - time (sec): 0.37 - samples/sec: 8996.67 - lr: 0.050000\n",
            "2023-06-16 13:25:19,000 epoch 19 - iter 45/155 - loss 0.45824786 - time (sec): 0.53 - samples/sec: 9589.86 - lr: 0.050000\n",
            "2023-06-16 13:25:19,194 epoch 19 - iter 60/155 - loss 0.46090010 - time (sec): 0.73 - samples/sec: 9490.13 - lr: 0.050000\n",
            "2023-06-16 13:25:19,374 epoch 19 - iter 75/155 - loss 0.45764462 - time (sec): 0.91 - samples/sec: 9632.11 - lr: 0.050000\n",
            "2023-06-16 13:25:19,576 epoch 19 - iter 90/155 - loss 0.45790874 - time (sec): 1.11 - samples/sec: 9414.57 - lr: 0.050000\n",
            "2023-06-16 13:25:19,757 epoch 19 - iter 105/155 - loss 0.45620193 - time (sec): 1.29 - samples/sec: 9444.60 - lr: 0.050000\n",
            "2023-06-16 13:25:19,940 epoch 19 - iter 120/155 - loss 0.45462191 - time (sec): 1.47 - samples/sec: 9438.78 - lr: 0.050000\n",
            "2023-06-16 13:25:20,128 epoch 19 - iter 135/155 - loss 0.45245699 - time (sec): 1.66 - samples/sec: 9448.10 - lr: 0.050000\n",
            "2023-06-16 13:25:20,296 epoch 19 - iter 150/155 - loss 0.45316195 - time (sec): 1.83 - samples/sec: 9547.46 - lr: 0.050000\n",
            "2023-06-16 13:25:20,363 ----------------------------------------------------------------------------------------------------\n",
            "2023-06-16 13:25:20,365 EPOCH 19 done: loss 0.4527 - lr 0.050000\n"
          ]
        },
        {
          "output_type": "stream",
          "name": "stderr",
          "text": [
            "100%|██████████| 20/20 [00:00<00:00, 107.29it/s]"
          ]
        },
        {
          "output_type": "stream",
          "name": "stdout",
          "text": [
            "2023-06-16 13:25:20,568 Evaluating as a multi-label problem: False\n"
          ]
        },
        {
          "output_type": "stream",
          "name": "stderr",
          "text": [
            "\n"
          ]
        },
        {
          "output_type": "stream",
          "name": "stdout",
          "text": [
            "2023-06-16 13:25:20,593 DEV : loss 0.4410528242588043 - f1-score (micro avg)  0.8082\n",
            "2023-06-16 13:25:20,606 BAD EPOCHS (no improvement): 1\n",
            "2023-06-16 13:25:20,612 ----------------------------------------------------------------------------------------------------\n",
            "2023-06-16 13:25:20,818 epoch 20 - iter 15/155 - loss 0.43872595 - time (sec): 0.20 - samples/sec: 8641.38 - lr: 0.050000\n",
            "2023-06-16 13:25:20,998 epoch 20 - iter 30/155 - loss 0.43950511 - time (sec): 0.38 - samples/sec: 8870.54 - lr: 0.050000\n",
            "2023-06-16 13:25:21,175 epoch 20 - iter 45/155 - loss 0.45175957 - time (sec): 0.56 - samples/sec: 9123.91 - lr: 0.050000\n",
            "2023-06-16 13:25:21,354 epoch 20 - iter 60/155 - loss 0.44508797 - time (sec): 0.74 - samples/sec: 9313.82 - lr: 0.050000\n",
            "2023-06-16 13:25:21,558 epoch 20 - iter 75/155 - loss 0.44686490 - time (sec): 0.95 - samples/sec: 9094.92 - lr: 0.050000\n",
            "2023-06-16 13:25:21,741 epoch 20 - iter 90/155 - loss 0.44653060 - time (sec): 1.13 - samples/sec: 9233.93 - lr: 0.050000\n",
            "2023-06-16 13:25:21,917 epoch 20 - iter 105/155 - loss 0.44701329 - time (sec): 1.30 - samples/sec: 9376.80 - lr: 0.050000\n",
            "2023-06-16 13:25:22,103 epoch 20 - iter 120/155 - loss 0.44726841 - time (sec): 1.49 - samples/sec: 9321.13 - lr: 0.050000\n",
            "2023-06-16 13:25:22,263 epoch 20 - iter 135/155 - loss 0.44935617 - time (sec): 1.65 - samples/sec: 9459.94 - lr: 0.050000\n",
            "2023-06-16 13:25:22,452 epoch 20 - iter 150/155 - loss 0.45008439 - time (sec): 1.84 - samples/sec: 9471.39 - lr: 0.050000\n",
            "2023-06-16 13:25:22,509 ----------------------------------------------------------------------------------------------------\n",
            "2023-06-16 13:25:22,511 EPOCH 20 done: loss 0.4502 - lr 0.050000\n"
          ]
        },
        {
          "output_type": "stream",
          "name": "stderr",
          "text": [
            "100%|██████████| 20/20 [00:00<00:00, 107.97it/s]"
          ]
        },
        {
          "output_type": "stream",
          "name": "stdout",
          "text": [
            "2023-06-16 13:25:22,716 Evaluating as a multi-label problem: False\n"
          ]
        },
        {
          "output_type": "stream",
          "name": "stderr",
          "text": [
            "\n"
          ]
        },
        {
          "output_type": "stream",
          "name": "stdout",
          "text": [
            "2023-06-16 13:25:22,745 DEV : loss 0.4361001253128052 - f1-score (micro avg)  0.8087\n",
            "2023-06-16 13:25:22,758 BAD EPOCHS (no improvement): 2\n",
            "2023-06-16 13:25:22,763 ----------------------------------------------------------------------------------------------------\n",
            "2023-06-16 13:25:22,971 epoch 21 - iter 15/155 - loss 0.45638763 - time (sec): 0.21 - samples/sec: 8386.36 - lr: 0.050000\n",
            "2023-06-16 13:25:23,150 epoch 21 - iter 30/155 - loss 0.44800068 - time (sec): 0.38 - samples/sec: 8953.66 - lr: 0.050000\n",
            "2023-06-16 13:25:23,350 epoch 21 - iter 45/155 - loss 0.45421196 - time (sec): 0.58 - samples/sec: 8976.54 - lr: 0.050000\n",
            "2023-06-16 13:25:23,536 epoch 21 - iter 60/155 - loss 0.45181776 - time (sec): 0.77 - samples/sec: 9085.93 - lr: 0.050000\n",
            "2023-06-16 13:25:23,707 epoch 21 - iter 75/155 - loss 0.45246469 - time (sec): 0.94 - samples/sec: 9281.09 - lr: 0.050000\n",
            "2023-06-16 13:25:23,903 epoch 21 - iter 90/155 - loss 0.45259829 - time (sec): 1.14 - samples/sec: 9192.14 - lr: 0.050000\n",
            "2023-06-16 13:25:24,068 epoch 21 - iter 105/155 - loss 0.45302154 - time (sec): 1.30 - samples/sec: 9308.83 - lr: 0.050000\n",
            "2023-06-16 13:25:24,251 epoch 21 - iter 120/155 - loss 0.45178601 - time (sec): 1.49 - samples/sec: 9316.00 - lr: 0.050000\n",
            "2023-06-16 13:25:24,449 epoch 21 - iter 135/155 - loss 0.44896880 - time (sec): 1.68 - samples/sec: 9248.59 - lr: 0.050000\n",
            "2023-06-16 13:25:24,620 epoch 21 - iter 150/155 - loss 0.44764601 - time (sec): 1.85 - samples/sec: 9385.71 - lr: 0.050000\n",
            "2023-06-16 13:25:24,686 ----------------------------------------------------------------------------------------------------\n",
            "2023-06-16 13:25:24,688 EPOCH 21 done: loss 0.4476 - lr 0.050000\n"
          ]
        },
        {
          "output_type": "stream",
          "name": "stderr",
          "text": [
            "100%|██████████| 20/20 [00:00<00:00, 112.29it/s]"
          ]
        },
        {
          "output_type": "stream",
          "name": "stdout",
          "text": [
            "2023-06-16 13:25:24,883 Evaluating as a multi-label problem: False\n"
          ]
        },
        {
          "output_type": "stream",
          "name": "stderr",
          "text": [
            "\n"
          ]
        },
        {
          "output_type": "stream",
          "name": "stdout",
          "text": [
            "2023-06-16 13:25:24,917 DEV : loss 0.44146642088890076 - f1-score (micro avg)  0.8195\n",
            "2023-06-16 13:25:24,931 BAD EPOCHS (no improvement): 0\n",
            "2023-06-16 13:25:24,936 saving best model\n",
            "2023-06-16 13:25:28,919 ----------------------------------------------------------------------------------------------------\n",
            "2023-06-16 13:25:29,118 epoch 22 - iter 15/155 - loss 0.45064410 - time (sec): 0.20 - samples/sec: 9057.70 - lr: 0.050000\n",
            "2023-06-16 13:25:29,301 epoch 22 - iter 30/155 - loss 0.45490216 - time (sec): 0.38 - samples/sec: 9290.03 - lr: 0.050000\n",
            "2023-06-16 13:25:29,479 epoch 22 - iter 45/155 - loss 0.45582674 - time (sec): 0.56 - samples/sec: 9384.78 - lr: 0.050000\n",
            "2023-06-16 13:25:29,647 epoch 22 - iter 60/155 - loss 0.45008536 - time (sec): 0.72 - samples/sec: 9623.98 - lr: 0.050000\n",
            "2023-06-16 13:25:29,827 epoch 22 - iter 75/155 - loss 0.44467467 - time (sec): 0.91 - samples/sec: 9669.98 - lr: 0.050000\n",
            "2023-06-16 13:25:30,000 epoch 22 - iter 90/155 - loss 0.44510824 - time (sec): 1.08 - samples/sec: 9707.92 - lr: 0.050000\n",
            "2023-06-16 13:25:30,167 epoch 22 - iter 105/155 - loss 0.44535550 - time (sec): 1.25 - samples/sec: 9801.62 - lr: 0.050000\n",
            "2023-06-16 13:25:30,340 epoch 22 - iter 120/155 - loss 0.44577909 - time (sec): 1.42 - samples/sec: 9832.89 - lr: 0.050000\n",
            "2023-06-16 13:25:30,532 epoch 22 - iter 135/155 - loss 0.44795092 - time (sec): 1.61 - samples/sec: 9747.09 - lr: 0.050000\n",
            "2023-06-16 13:25:30,698 epoch 22 - iter 150/155 - loss 0.44806802 - time (sec): 1.78 - samples/sec: 9815.17 - lr: 0.050000\n",
            "2023-06-16 13:25:30,757 ----------------------------------------------------------------------------------------------------\n",
            "2023-06-16 13:25:30,761 EPOCH 22 done: loss 0.4475 - lr 0.050000\n"
          ]
        },
        {
          "output_type": "stream",
          "name": "stderr",
          "text": [
            "100%|██████████| 20/20 [00:00<00:00, 32.64it/s] "
          ]
        },
        {
          "output_type": "stream",
          "name": "stdout",
          "text": [
            "2023-06-16 13:25:31,394 Evaluating as a multi-label problem: False\n",
            "2023-06-16 13:25:31,422 DEV : loss 0.4248441159725189 - f1-score (micro avg)  0.8132\n",
            "2023-06-16 13:25:31,437 BAD EPOCHS (no improvement): 1\n",
            "2023-06-16 13:25:31,443 ----------------------------------------------------------------------------------------------------\n"
          ]
        },
        {
          "output_type": "stream",
          "name": "stderr",
          "text": [
            "\n"
          ]
        },
        {
          "output_type": "stream",
          "name": "stdout",
          "text": [
            "2023-06-16 13:25:31,618 epoch 23 - iter 15/155 - loss 0.44175005 - time (sec): 0.17 - samples/sec: 10225.76 - lr: 0.050000\n",
            "2023-06-16 13:25:31,800 epoch 23 - iter 30/155 - loss 0.43491044 - time (sec): 0.35 - samples/sec: 9730.44 - lr: 0.050000\n",
            "2023-06-16 13:25:31,983 epoch 23 - iter 45/155 - loss 0.44561148 - time (sec): 0.54 - samples/sec: 9642.34 - lr: 0.050000\n",
            "2023-06-16 13:25:32,164 epoch 23 - iter 60/155 - loss 0.44293879 - time (sec): 0.72 - samples/sec: 9689.36 - lr: 0.050000\n",
            "2023-06-16 13:25:32,333 epoch 23 - iter 75/155 - loss 0.44366325 - time (sec): 0.89 - samples/sec: 9690.98 - lr: 0.050000\n",
            "2023-06-16 13:25:32,498 epoch 23 - iter 90/155 - loss 0.44562779 - time (sec): 1.05 - samples/sec: 9837.82 - lr: 0.050000\n",
            "2023-06-16 13:25:32,673 epoch 23 - iter 105/155 - loss 0.44452860 - time (sec): 1.23 - samples/sec: 9877.90 - lr: 0.050000\n",
            "2023-06-16 13:25:32,832 epoch 23 - iter 120/155 - loss 0.44484960 - time (sec): 1.39 - samples/sec: 10016.17 - lr: 0.050000\n",
            "2023-06-16 13:25:32,997 epoch 23 - iter 135/155 - loss 0.44603586 - time (sec): 1.55 - samples/sec: 10096.80 - lr: 0.050000\n",
            "2023-06-16 13:25:33,169 epoch 23 - iter 150/155 - loss 0.44512520 - time (sec): 1.72 - samples/sec: 10125.95 - lr: 0.050000\n",
            "2023-06-16 13:25:33,224 ----------------------------------------------------------------------------------------------------\n",
            "2023-06-16 13:25:33,226 EPOCH 23 done: loss 0.4456 - lr 0.050000\n"
          ]
        },
        {
          "output_type": "stream",
          "name": "stderr",
          "text": [
            "100%|██████████| 20/20 [00:00<00:00, 123.99it/s]"
          ]
        },
        {
          "output_type": "stream",
          "name": "stdout",
          "text": [
            "2023-06-16 13:25:33,401 Evaluating as a multi-label problem: False\n",
            "2023-06-16 13:25:33,424 DEV : loss 0.42817750573158264 - f1-score (micro avg)  0.8186\n"
          ]
        },
        {
          "output_type": "stream",
          "name": "stderr",
          "text": [
            "\n"
          ]
        },
        {
          "output_type": "stream",
          "name": "stdout",
          "text": [
            "2023-06-16 13:25:33,439 BAD EPOCHS (no improvement): 2\n",
            "2023-06-16 13:25:33,443 ----------------------------------------------------------------------------------------------------\n",
            "2023-06-16 13:25:33,608 epoch 24 - iter 15/155 - loss 0.48322641 - time (sec): 0.16 - samples/sec: 10499.23 - lr: 0.050000\n",
            "2023-06-16 13:25:33,764 epoch 24 - iter 30/155 - loss 0.46447297 - time (sec): 0.32 - samples/sec: 10623.65 - lr: 0.050000\n",
            "2023-06-16 13:25:33,924 epoch 24 - iter 45/155 - loss 0.45408086 - time (sec): 0.48 - samples/sec: 10769.17 - lr: 0.050000\n",
            "2023-06-16 13:25:34,101 epoch 24 - iter 60/155 - loss 0.45374426 - time (sec): 0.66 - samples/sec: 10468.34 - lr: 0.050000\n",
            "2023-06-16 13:25:34,268 epoch 24 - iter 75/155 - loss 0.45194083 - time (sec): 0.82 - samples/sec: 10523.86 - lr: 0.050000\n",
            "2023-06-16 13:25:34,435 epoch 24 - iter 90/155 - loss 0.45033464 - time (sec): 0.99 - samples/sec: 10480.40 - lr: 0.050000\n",
            "2023-06-16 13:25:34,600 epoch 24 - iter 105/155 - loss 0.45122831 - time (sec): 1.15 - samples/sec: 10441.84 - lr: 0.050000\n",
            "2023-06-16 13:25:34,760 epoch 24 - iter 120/155 - loss 0.44955435 - time (sec): 1.32 - samples/sec: 10474.16 - lr: 0.050000\n",
            "2023-06-16 13:25:34,927 epoch 24 - iter 135/155 - loss 0.44841362 - time (sec): 1.48 - samples/sec: 10531.17 - lr: 0.050000\n",
            "2023-06-16 13:25:35,096 epoch 24 - iter 150/155 - loss 0.44742376 - time (sec): 1.65 - samples/sec: 10544.67 - lr: 0.050000\n",
            "2023-06-16 13:25:35,153 ----------------------------------------------------------------------------------------------------\n",
            "2023-06-16 13:25:35,155 EPOCH 24 done: loss 0.4469 - lr 0.050000\n"
          ]
        },
        {
          "output_type": "stream",
          "name": "stderr",
          "text": [
            "100%|██████████| 20/20 [00:00<00:00, 120.12it/s]"
          ]
        },
        {
          "output_type": "stream",
          "name": "stdout",
          "text": [
            "2023-06-16 13:25:35,335 Evaluating as a multi-label problem: False\n"
          ]
        },
        {
          "output_type": "stream",
          "name": "stderr",
          "text": [
            "\n"
          ]
        },
        {
          "output_type": "stream",
          "name": "stdout",
          "text": [
            "2023-06-16 13:25:35,360 DEV : loss 0.4282483756542206 - f1-score (micro avg)  0.8128\n",
            "2023-06-16 13:25:35,373 BAD EPOCHS (no improvement): 3\n",
            "2023-06-16 13:25:35,377 ----------------------------------------------------------------------------------------------------\n",
            "2023-06-16 13:25:35,534 epoch 25 - iter 15/155 - loss 0.44941858 - time (sec): 0.16 - samples/sec: 11227.93 - lr: 0.050000\n",
            "2023-06-16 13:25:35,695 epoch 25 - iter 30/155 - loss 0.45533667 - time (sec): 0.32 - samples/sec: 11073.41 - lr: 0.050000\n",
            "2023-06-16 13:25:35,858 epoch 25 - iter 45/155 - loss 0.45592549 - time (sec): 0.48 - samples/sec: 11004.02 - lr: 0.050000\n",
            "2023-06-16 13:25:36,020 epoch 25 - iter 60/155 - loss 0.45177391 - time (sec): 0.64 - samples/sec: 10912.19 - lr: 0.050000\n",
            "2023-06-16 13:25:36,183 epoch 25 - iter 75/155 - loss 0.45021410 - time (sec): 0.80 - samples/sec: 10893.27 - lr: 0.050000\n",
            "2023-06-16 13:25:36,336 epoch 25 - iter 90/155 - loss 0.44904068 - time (sec): 0.96 - samples/sec: 10961.80 - lr: 0.050000\n",
            "2023-06-16 13:25:36,488 epoch 25 - iter 105/155 - loss 0.44918164 - time (sec): 1.11 - samples/sec: 11040.63 - lr: 0.050000\n",
            "2023-06-16 13:25:36,655 epoch 25 - iter 120/155 - loss 0.44685282 - time (sec): 1.28 - samples/sec: 10993.08 - lr: 0.050000\n",
            "2023-06-16 13:25:36,814 epoch 25 - iter 135/155 - loss 0.44568895 - time (sec): 1.43 - samples/sec: 10991.57 - lr: 0.050000\n",
            "2023-06-16 13:25:36,967 epoch 25 - iter 150/155 - loss 0.44686917 - time (sec): 1.59 - samples/sec: 10980.83 - lr: 0.050000\n",
            "2023-06-16 13:25:37,022 ----------------------------------------------------------------------------------------------------\n",
            "2023-06-16 13:25:37,024 EPOCH 25 done: loss 0.4464 - lr 0.050000\n"
          ]
        },
        {
          "output_type": "stream",
          "name": "stderr",
          "text": [
            "100%|██████████| 20/20 [00:00<00:00, 123.99it/s]"
          ]
        },
        {
          "output_type": "stream",
          "name": "stdout",
          "text": [
            "2023-06-16 13:25:37,199 Evaluating as a multi-label problem: False\n",
            "2023-06-16 13:25:37,225 DEV : loss 0.4312303960323334 - f1-score (micro avg)  0.8105\n"
          ]
        },
        {
          "output_type": "stream",
          "name": "stderr",
          "text": [
            "\n"
          ]
        },
        {
          "output_type": "stream",
          "name": "stdout",
          "text": [
            "2023-06-16 13:25:37,238 Epoch    25: reducing learning rate of group 0 to 2.5000e-02.\n",
            "2023-06-16 13:25:37,240 BAD EPOCHS (no improvement): 4\n",
            "2023-06-16 13:25:37,245 ----------------------------------------------------------------------------------------------------\n",
            "2023-06-16 13:25:37,414 epoch 26 - iter 15/155 - loss 0.45122316 - time (sec): 0.17 - samples/sec: 10717.40 - lr: 0.025000\n",
            "2023-06-16 13:25:37,570 epoch 26 - iter 30/155 - loss 0.44956237 - time (sec): 0.32 - samples/sec: 10944.48 - lr: 0.025000\n",
            "2023-06-16 13:25:37,724 epoch 26 - iter 45/155 - loss 0.44584382 - time (sec): 0.48 - samples/sec: 11008.42 - lr: 0.025000\n",
            "2023-06-16 13:25:37,887 epoch 26 - iter 60/155 - loss 0.45011655 - time (sec): 0.64 - samples/sec: 10945.57 - lr: 0.025000\n",
            "2023-06-16 13:25:38,047 epoch 26 - iter 75/155 - loss 0.44903242 - time (sec): 0.80 - samples/sec: 10922.84 - lr: 0.025000\n",
            "2023-06-16 13:25:38,204 epoch 26 - iter 90/155 - loss 0.44684485 - time (sec): 0.96 - samples/sec: 10892.12 - lr: 0.025000\n",
            "2023-06-16 13:25:38,361 epoch 26 - iter 105/155 - loss 0.44481200 - time (sec): 1.11 - samples/sec: 10903.28 - lr: 0.025000\n",
            "2023-06-16 13:25:38,513 epoch 26 - iter 120/155 - loss 0.44236768 - time (sec): 1.27 - samples/sec: 10949.89 - lr: 0.025000\n",
            "2023-06-16 13:25:38,671 epoch 26 - iter 135/155 - loss 0.43943819 - time (sec): 1.42 - samples/sec: 11013.68 - lr: 0.025000\n",
            "2023-06-16 13:25:38,829 epoch 26 - iter 150/155 - loss 0.44114315 - time (sec): 1.58 - samples/sec: 11003.49 - lr: 0.025000\n",
            "2023-06-16 13:25:38,881 ----------------------------------------------------------------------------------------------------\n",
            "2023-06-16 13:25:38,883 EPOCH 26 done: loss 0.4414 - lr 0.025000\n"
          ]
        },
        {
          "output_type": "stream",
          "name": "stderr",
          "text": [
            "100%|██████████| 20/20 [00:00<00:00, 122.84it/s]"
          ]
        },
        {
          "output_type": "stream",
          "name": "stdout",
          "text": [
            "2023-06-16 13:25:39,060 Evaluating as a multi-label problem: False\n",
            "2023-06-16 13:25:39,084 DEV : loss 0.42057371139526367 - f1-score (micro avg)  0.8155\n"
          ]
        },
        {
          "output_type": "stream",
          "name": "stderr",
          "text": [
            "\n"
          ]
        },
        {
          "output_type": "stream",
          "name": "stdout",
          "text": [
            "2023-06-16 13:25:39,097 BAD EPOCHS (no improvement): 1\n",
            "2023-06-16 13:25:39,101 ----------------------------------------------------------------------------------------------------\n",
            "2023-06-16 13:25:39,259 epoch 27 - iter 15/155 - loss 0.44041904 - time (sec): 0.16 - samples/sec: 10661.25 - lr: 0.025000\n",
            "2023-06-16 13:25:39,469 epoch 27 - iter 30/155 - loss 0.44493780 - time (sec): 0.37 - samples/sec: 9513.79 - lr: 0.025000\n",
            "2023-06-16 13:25:39,684 epoch 27 - iter 45/155 - loss 0.44480970 - time (sec): 0.58 - samples/sec: 9045.84 - lr: 0.025000\n",
            "2023-06-16 13:25:39,873 epoch 27 - iter 60/155 - loss 0.43755699 - time (sec): 0.77 - samples/sec: 9049.52 - lr: 0.025000\n",
            "2023-06-16 13:25:40,058 epoch 27 - iter 75/155 - loss 0.43886947 - time (sec): 0.95 - samples/sec: 9052.36 - lr: 0.025000\n",
            "2023-06-16 13:25:40,229 epoch 27 - iter 90/155 - loss 0.43795199 - time (sec): 1.13 - samples/sec: 9224.64 - lr: 0.025000\n",
            "2023-06-16 13:25:40,416 epoch 27 - iter 105/155 - loss 0.43816993 - time (sec): 1.31 - samples/sec: 9242.04 - lr: 0.025000\n",
            "2023-06-16 13:25:40,599 epoch 27 - iter 120/155 - loss 0.43672632 - time (sec): 1.50 - samples/sec: 9278.69 - lr: 0.025000\n",
            "2023-06-16 13:25:40,785 epoch 27 - iter 135/155 - loss 0.43800067 - time (sec): 1.68 - samples/sec: 9337.20 - lr: 0.025000\n",
            "2023-06-16 13:25:40,960 epoch 27 - iter 150/155 - loss 0.43811425 - time (sec): 1.86 - samples/sec: 9363.45 - lr: 0.025000\n",
            "2023-06-16 13:25:41,017 ----------------------------------------------------------------------------------------------------\n",
            "2023-06-16 13:25:41,019 EPOCH 27 done: loss 0.4377 - lr 0.025000\n"
          ]
        },
        {
          "output_type": "stream",
          "name": "stderr",
          "text": [
            "100%|██████████| 20/20 [00:00<00:00, 113.98it/s]"
          ]
        },
        {
          "output_type": "stream",
          "name": "stdout",
          "text": [
            "2023-06-16 13:25:41,215 Evaluating as a multi-label problem: False\n"
          ]
        },
        {
          "output_type": "stream",
          "name": "stderr",
          "text": [
            "\n"
          ]
        },
        {
          "output_type": "stream",
          "name": "stdout",
          "text": [
            "2023-06-16 13:25:41,247 DEV : loss 0.42626386880874634 - f1-score (micro avg)  0.8155\n",
            "2023-06-16 13:25:41,263 BAD EPOCHS (no improvement): 2\n",
            "2023-06-16 13:25:41,280 ----------------------------------------------------------------------------------------------------\n",
            "2023-06-16 13:25:41,462 epoch 28 - iter 15/155 - loss 0.44131598 - time (sec): 0.18 - samples/sec: 9900.04 - lr: 0.025000\n",
            "2023-06-16 13:25:41,664 epoch 28 - iter 30/155 - loss 0.44927543 - time (sec): 0.38 - samples/sec: 9293.28 - lr: 0.025000\n",
            "2023-06-16 13:25:41,822 epoch 28 - iter 45/155 - loss 0.45007433 - time (sec): 0.54 - samples/sec: 9754.89 - lr: 0.025000\n",
            "2023-06-16 13:25:41,990 epoch 28 - iter 60/155 - loss 0.44707305 - time (sec): 0.71 - samples/sec: 9944.00 - lr: 0.025000\n",
            "2023-06-16 13:25:42,175 epoch 28 - iter 75/155 - loss 0.44294861 - time (sec): 0.89 - samples/sec: 9829.91 - lr: 0.025000\n",
            "2023-06-16 13:25:42,335 epoch 28 - iter 90/155 - loss 0.44133677 - time (sec): 1.05 - samples/sec: 9956.02 - lr: 0.025000\n",
            "2023-06-16 13:25:42,494 epoch 28 - iter 105/155 - loss 0.44066527 - time (sec): 1.21 - samples/sec: 10049.60 - lr: 0.025000\n",
            "2023-06-16 13:25:42,710 epoch 28 - iter 120/155 - loss 0.44190300 - time (sec): 1.43 - samples/sec: 9790.49 - lr: 0.025000\n",
            "2023-06-16 13:25:42,914 epoch 28 - iter 135/155 - loss 0.44165173 - time (sec): 1.63 - samples/sec: 9612.99 - lr: 0.025000\n",
            "2023-06-16 13:25:43,123 epoch 28 - iter 150/155 - loss 0.44163534 - time (sec): 1.84 - samples/sec: 9458.45 - lr: 0.025000\n",
            "2023-06-16 13:25:43,198 ----------------------------------------------------------------------------------------------------\n",
            "2023-06-16 13:25:43,200 EPOCH 28 done: loss 0.4409 - lr 0.025000\n"
          ]
        },
        {
          "output_type": "stream",
          "name": "stderr",
          "text": [
            "100%|██████████| 20/20 [00:00<00:00, 88.58it/s] "
          ]
        },
        {
          "output_type": "stream",
          "name": "stdout",
          "text": [
            "2023-06-16 13:25:43,443 Evaluating as a multi-label problem: False\n",
            "2023-06-16 13:25:43,477 DEV : loss 0.42646095156669617 - f1-score (micro avg)  0.8132\n",
            "2023-06-16 13:25:43,493 BAD EPOCHS (no improvement): 3\n",
            "2023-06-16 13:25:43,500 ----------------------------------------------------------------------------------------------------\n"
          ]
        },
        {
          "output_type": "stream",
          "name": "stderr",
          "text": [
            "\n"
          ]
        },
        {
          "output_type": "stream",
          "name": "stdout",
          "text": [
            "2023-06-16 13:25:43,742 epoch 29 - iter 15/155 - loss 0.45397069 - time (sec): 0.24 - samples/sec: 7483.76 - lr: 0.025000\n",
            "2023-06-16 13:25:43,930 epoch 29 - iter 30/155 - loss 0.45534755 - time (sec): 0.43 - samples/sec: 8301.45 - lr: 0.025000\n",
            "2023-06-16 13:25:44,123 epoch 29 - iter 45/155 - loss 0.44355759 - time (sec): 0.62 - samples/sec: 8612.95 - lr: 0.025000\n",
            "2023-06-16 13:25:44,314 epoch 29 - iter 60/155 - loss 0.44203667 - time (sec): 0.81 - samples/sec: 8685.83 - lr: 0.025000\n",
            "2023-06-16 13:25:44,512 epoch 29 - iter 75/155 - loss 0.43663059 - time (sec): 1.01 - samples/sec: 8718.31 - lr: 0.025000\n",
            "2023-06-16 13:25:44,727 epoch 29 - iter 90/155 - loss 0.43515234 - time (sec): 1.22 - samples/sec: 8608.89 - lr: 0.025000\n",
            "2023-06-16 13:25:44,933 epoch 29 - iter 105/155 - loss 0.43672564 - time (sec): 1.43 - samples/sec: 8526.28 - lr: 0.025000\n",
            "2023-06-16 13:25:45,152 epoch 29 - iter 120/155 - loss 0.43701374 - time (sec): 1.65 - samples/sec: 8439.69 - lr: 0.025000\n",
            "2023-06-16 13:25:45,352 epoch 29 - iter 135/155 - loss 0.43812534 - time (sec): 1.85 - samples/sec: 8476.41 - lr: 0.025000\n",
            "2023-06-16 13:25:45,544 epoch 29 - iter 150/155 - loss 0.43833894 - time (sec): 2.04 - samples/sec: 8525.33 - lr: 0.025000\n",
            "2023-06-16 13:25:45,614 ----------------------------------------------------------------------------------------------------\n",
            "2023-06-16 13:25:45,617 EPOCH 29 done: loss 0.4378 - lr 0.025000\n"
          ]
        },
        {
          "output_type": "stream",
          "name": "stderr",
          "text": [
            "100%|██████████| 20/20 [00:00<00:00, 81.03it/s]"
          ]
        },
        {
          "output_type": "stream",
          "name": "stdout",
          "text": [
            "2023-06-16 13:25:45,892 Evaluating as a multi-label problem: False\n",
            "2023-06-16 13:25:45,935 DEV : loss 0.42079195380210876 - f1-score (micro avg)  0.8141\n"
          ]
        },
        {
          "output_type": "stream",
          "name": "stderr",
          "text": [
            "\n"
          ]
        },
        {
          "output_type": "stream",
          "name": "stdout",
          "text": [
            "2023-06-16 13:25:45,955 Epoch    29: reducing learning rate of group 0 to 1.2500e-02.\n",
            "2023-06-16 13:25:45,958 BAD EPOCHS (no improvement): 4\n",
            "2023-06-16 13:25:45,965 ----------------------------------------------------------------------------------------------------\n",
            "2023-06-16 13:25:46,181 epoch 30 - iter 15/155 - loss 0.43085497 - time (sec): 0.21 - samples/sec: 7921.13 - lr: 0.012500\n",
            "2023-06-16 13:25:46,377 epoch 30 - iter 30/155 - loss 0.43234986 - time (sec): 0.41 - samples/sec: 8433.76 - lr: 0.012500\n",
            "2023-06-16 13:25:46,597 epoch 30 - iter 45/155 - loss 0.43412229 - time (sec): 0.63 - samples/sec: 8363.14 - lr: 0.012500\n",
            "2023-06-16 13:25:46,802 epoch 30 - iter 60/155 - loss 0.43056084 - time (sec): 0.83 - samples/sec: 8408.22 - lr: 0.012500\n",
            "2023-06-16 13:25:47,011 epoch 30 - iter 75/155 - loss 0.43466206 - time (sec): 1.04 - samples/sec: 8413.60 - lr: 0.012500\n",
            "2023-06-16 13:25:47,216 epoch 30 - iter 90/155 - loss 0.43694451 - time (sec): 1.25 - samples/sec: 8423.29 - lr: 0.012500\n",
            "2023-06-16 13:25:47,418 epoch 30 - iter 105/155 - loss 0.43633970 - time (sec): 1.45 - samples/sec: 8447.61 - lr: 0.012500\n",
            "2023-06-16 13:25:47,620 epoch 30 - iter 120/155 - loss 0.43603712 - time (sec): 1.65 - samples/sec: 8454.17 - lr: 0.012500\n",
            "2023-06-16 13:25:47,802 epoch 30 - iter 135/155 - loss 0.43466399 - time (sec): 1.83 - samples/sec: 8539.41 - lr: 0.012500\n",
            "2023-06-16 13:25:47,982 epoch 30 - iter 150/155 - loss 0.43519775 - time (sec): 2.01 - samples/sec: 8653.58 - lr: 0.012500\n",
            "2023-06-16 13:25:48,050 ----------------------------------------------------------------------------------------------------\n",
            "2023-06-16 13:25:48,052 EPOCH 30 done: loss 0.4343 - lr 0.012500\n"
          ]
        },
        {
          "output_type": "stream",
          "name": "stderr",
          "text": [
            "100%|██████████| 20/20 [00:00<00:00, 107.09it/s]\n"
          ]
        },
        {
          "output_type": "stream",
          "name": "stdout",
          "text": [
            "2023-06-16 13:25:48,259 Evaluating as a multi-label problem: False\n",
            "2023-06-16 13:25:48,293 DEV : loss 0.424318790435791 - f1-score (micro avg)  0.8164\n",
            "2023-06-16 13:25:48,304 BAD EPOCHS (no improvement): 1\n",
            "2023-06-16 13:25:48,308 ----------------------------------------------------------------------------------------------------\n",
            "2023-06-16 13:25:48,481 epoch 31 - iter 15/155 - loss 0.43167264 - time (sec): 0.17 - samples/sec: 9885.44 - lr: 0.012500\n",
            "2023-06-16 13:25:48,669 epoch 31 - iter 30/155 - loss 0.44938866 - time (sec): 0.36 - samples/sec: 9681.04 - lr: 0.012500\n",
            "2023-06-16 13:25:48,863 epoch 31 - iter 45/155 - loss 0.44858374 - time (sec): 0.55 - samples/sec: 9437.22 - lr: 0.012500\n",
            "2023-06-16 13:25:49,034 epoch 31 - iter 60/155 - loss 0.44233112 - time (sec): 0.72 - samples/sec: 9461.51 - lr: 0.012500\n",
            "2023-06-16 13:25:49,230 epoch 31 - iter 75/155 - loss 0.44205064 - time (sec): 0.92 - samples/sec: 9379.92 - lr: 0.012500\n",
            "2023-06-16 13:25:49,402 epoch 31 - iter 90/155 - loss 0.44052439 - time (sec): 1.09 - samples/sec: 9503.81 - lr: 0.012500\n",
            "2023-06-16 13:25:49,590 epoch 31 - iter 105/155 - loss 0.44322192 - time (sec): 1.28 - samples/sec: 9508.45 - lr: 0.012500\n",
            "2023-06-16 13:25:49,779 epoch 31 - iter 120/155 - loss 0.43981830 - time (sec): 1.47 - samples/sec: 9523.04 - lr: 0.012500\n",
            "2023-06-16 13:25:49,951 epoch 31 - iter 135/155 - loss 0.43751258 - time (sec): 1.64 - samples/sec: 9584.00 - lr: 0.012500\n",
            "2023-06-16 13:25:50,126 epoch 31 - iter 150/155 - loss 0.43517002 - time (sec): 1.82 - samples/sec: 9616.76 - lr: 0.012500\n",
            "2023-06-16 13:25:50,183 ----------------------------------------------------------------------------------------------------\n",
            "2023-06-16 13:25:50,188 EPOCH 31 done: loss 0.4345 - lr 0.012500\n"
          ]
        },
        {
          "output_type": "stream",
          "name": "stderr",
          "text": [
            "100%|██████████| 20/20 [00:00<00:00, 110.93it/s]"
          ]
        },
        {
          "output_type": "stream",
          "name": "stdout",
          "text": [
            "2023-06-16 13:25:50,388 Evaluating as a multi-label problem: False\n"
          ]
        },
        {
          "output_type": "stream",
          "name": "stderr",
          "text": [
            "\n"
          ]
        },
        {
          "output_type": "stream",
          "name": "stdout",
          "text": [
            "2023-06-16 13:25:50,418 DEV : loss 0.42279312014579773 - f1-score (micro avg)  0.8146\n",
            "2023-06-16 13:25:50,430 BAD EPOCHS (no improvement): 2\n",
            "2023-06-16 13:25:50,435 ----------------------------------------------------------------------------------------------------\n",
            "2023-06-16 13:25:50,603 epoch 32 - iter 15/155 - loss 0.43797827 - time (sec): 0.17 - samples/sec: 10556.73 - lr: 0.012500\n",
            "2023-06-16 13:25:50,794 epoch 32 - iter 30/155 - loss 0.42376477 - time (sec): 0.36 - samples/sec: 9886.74 - lr: 0.012500\n",
            "2023-06-16 13:25:50,975 epoch 32 - iter 45/155 - loss 0.43187954 - time (sec): 0.54 - samples/sec: 9866.05 - lr: 0.012500\n",
            "2023-06-16 13:25:51,146 epoch 32 - iter 60/155 - loss 0.43239027 - time (sec): 0.71 - samples/sec: 9942.35 - lr: 0.012500\n",
            "2023-06-16 13:25:51,322 epoch 32 - iter 75/155 - loss 0.42706149 - time (sec): 0.88 - samples/sec: 9905.11 - lr: 0.012500\n",
            "2023-06-16 13:25:51,496 epoch 32 - iter 90/155 - loss 0.43219023 - time (sec): 1.06 - samples/sec: 9882.57 - lr: 0.012500\n",
            "2023-06-16 13:25:51,691 epoch 32 - iter 105/155 - loss 0.42955794 - time (sec): 1.25 - samples/sec: 9755.68 - lr: 0.012500\n",
            "2023-06-16 13:25:51,881 epoch 32 - iter 120/155 - loss 0.43152274 - time (sec): 1.44 - samples/sec: 9701.42 - lr: 0.012500\n",
            "2023-06-16 13:25:52,055 epoch 32 - iter 135/155 - loss 0.43207730 - time (sec): 1.62 - samples/sec: 9674.73 - lr: 0.012500\n",
            "2023-06-16 13:25:52,235 epoch 32 - iter 150/155 - loss 0.43192192 - time (sec): 1.80 - samples/sec: 9705.57 - lr: 0.012500\n",
            "2023-06-16 13:25:52,285 ----------------------------------------------------------------------------------------------------\n",
            "2023-06-16 13:25:52,287 EPOCH 32 done: loss 0.4326 - lr 0.012500\n"
          ]
        },
        {
          "output_type": "stream",
          "name": "stderr",
          "text": [
            "100%|██████████| 20/20 [00:00<00:00, 104.55it/s]\n"
          ]
        },
        {
          "output_type": "stream",
          "name": "stdout",
          "text": [
            "2023-06-16 13:25:52,497 Evaluating as a multi-label problem: False\n",
            "2023-06-16 13:25:52,524 DEV : loss 0.4188425838947296 - f1-score (micro avg)  0.8164\n",
            "2023-06-16 13:25:52,539 BAD EPOCHS (no improvement): 3\n",
            "2023-06-16 13:25:52,545 ----------------------------------------------------------------------------------------------------\n",
            "2023-06-16 13:25:52,740 epoch 33 - iter 15/155 - loss 0.44905547 - time (sec): 0.19 - samples/sec: 8953.35 - lr: 0.012500\n",
            "2023-06-16 13:25:52,936 epoch 33 - iter 30/155 - loss 0.45419117 - time (sec): 0.39 - samples/sec: 8954.00 - lr: 0.012500\n",
            "2023-06-16 13:25:53,103 epoch 33 - iter 45/155 - loss 0.43994802 - time (sec): 0.55 - samples/sec: 9262.34 - lr: 0.012500\n",
            "2023-06-16 13:25:53,298 epoch 33 - iter 60/155 - loss 0.43764514 - time (sec): 0.75 - samples/sec: 9192.72 - lr: 0.012500\n",
            "2023-06-16 13:25:53,484 epoch 33 - iter 75/155 - loss 0.43200314 - time (sec): 0.94 - samples/sec: 9202.86 - lr: 0.012500\n",
            "2023-06-16 13:25:53,670 epoch 33 - iter 90/155 - loss 0.42903078 - time (sec): 1.12 - samples/sec: 9279.64 - lr: 0.012500\n",
            "2023-06-16 13:25:53,847 epoch 33 - iter 105/155 - loss 0.43193156 - time (sec): 1.30 - samples/sec: 9317.43 - lr: 0.012500\n",
            "2023-06-16 13:25:54,034 epoch 33 - iter 120/155 - loss 0.43217892 - time (sec): 1.49 - samples/sec: 9379.17 - lr: 0.012500\n",
            "2023-06-16 13:25:54,223 epoch 33 - iter 135/155 - loss 0.43131779 - time (sec): 1.67 - samples/sec: 9368.05 - lr: 0.012500\n",
            "2023-06-16 13:25:54,413 epoch 33 - iter 150/155 - loss 0.43135902 - time (sec): 1.86 - samples/sec: 9342.30 - lr: 0.012500\n",
            "2023-06-16 13:25:54,484 ----------------------------------------------------------------------------------------------------\n",
            "2023-06-16 13:25:54,486 EPOCH 33 done: loss 0.4310 - lr 0.012500\n"
          ]
        },
        {
          "output_type": "stream",
          "name": "stderr",
          "text": [
            "100%|██████████| 20/20 [00:00<00:00, 101.37it/s]\n"
          ]
        },
        {
          "output_type": "stream",
          "name": "stdout",
          "text": [
            "2023-06-16 13:25:54,701 Evaluating as a multi-label problem: False\n",
            "2023-06-16 13:25:54,725 DEV : loss 0.41827893257141113 - f1-score (micro avg)  0.8186\n",
            "2023-06-16 13:25:54,738 Epoch    33: reducing learning rate of group 0 to 6.2500e-03.\n",
            "2023-06-16 13:25:54,739 BAD EPOCHS (no improvement): 4\n",
            "2023-06-16 13:25:54,745 ----------------------------------------------------------------------------------------------------\n",
            "2023-06-16 13:25:54,909 epoch 34 - iter 15/155 - loss 0.45021016 - time (sec): 0.16 - samples/sec: 10553.48 - lr: 0.006250\n",
            "2023-06-16 13:25:55,085 epoch 34 - iter 30/155 - loss 0.44011159 - time (sec): 0.34 - samples/sec: 10080.10 - lr: 0.006250\n",
            "2023-06-16 13:25:55,260 epoch 34 - iter 45/155 - loss 0.43782203 - time (sec): 0.51 - samples/sec: 10117.37 - lr: 0.006250\n",
            "2023-06-16 13:25:55,454 epoch 34 - iter 60/155 - loss 0.44027785 - time (sec): 0.71 - samples/sec: 9763.20 - lr: 0.006250\n",
            "2023-06-16 13:25:55,627 epoch 34 - iter 75/155 - loss 0.43335353 - time (sec): 0.88 - samples/sec: 9886.38 - lr: 0.006250\n",
            "2023-06-16 13:25:55,791 epoch 34 - iter 90/155 - loss 0.43142823 - time (sec): 1.04 - samples/sec: 9972.48 - lr: 0.006250\n",
            "2023-06-16 13:25:55,943 epoch 34 - iter 105/155 - loss 0.43136643 - time (sec): 1.20 - samples/sec: 10224.78 - lr: 0.006250\n",
            "2023-06-16 13:25:56,096 epoch 34 - iter 120/155 - loss 0.43037123 - time (sec): 1.35 - samples/sec: 10326.99 - lr: 0.006250\n",
            "2023-06-16 13:25:56,250 epoch 34 - iter 135/155 - loss 0.42983448 - time (sec): 1.50 - samples/sec: 10372.25 - lr: 0.006250\n",
            "2023-06-16 13:25:56,418 epoch 34 - iter 150/155 - loss 0.43003498 - time (sec): 1.67 - samples/sec: 10436.18 - lr: 0.006250\n",
            "2023-06-16 13:25:56,469 ----------------------------------------------------------------------------------------------------\n",
            "2023-06-16 13:25:56,470 EPOCH 34 done: loss 0.4302 - lr 0.006250\n"
          ]
        },
        {
          "output_type": "stream",
          "name": "stderr",
          "text": [
            "100%|██████████| 20/20 [00:00<00:00, 129.80it/s]"
          ]
        },
        {
          "output_type": "stream",
          "name": "stdout",
          "text": [
            "2023-06-16 13:25:56,639 Evaluating as a multi-label problem: False\n",
            "2023-06-16 13:25:56,662 DEV : loss 0.42004600167274475 - f1-score (micro avg)  0.8182\n",
            "2023-06-16 13:25:56,673 BAD EPOCHS (no improvement): 1\n"
          ]
        },
        {
          "output_type": "stream",
          "name": "stderr",
          "text": [
            "\n"
          ]
        },
        {
          "output_type": "stream",
          "name": "stdout",
          "text": [
            "2023-06-16 13:25:56,679 ----------------------------------------------------------------------------------------------------\n",
            "2023-06-16 13:25:56,841 epoch 35 - iter 15/155 - loss 0.44880619 - time (sec): 0.16 - samples/sec: 10585.60 - lr: 0.006250\n",
            "2023-06-16 13:25:57,000 epoch 35 - iter 30/155 - loss 0.44176804 - time (sec): 0.32 - samples/sec: 10881.01 - lr: 0.006250\n",
            "2023-06-16 13:25:57,168 epoch 35 - iter 45/155 - loss 0.43569555 - time (sec): 0.49 - samples/sec: 10715.18 - lr: 0.006250\n",
            "2023-06-16 13:25:57,329 epoch 35 - iter 60/155 - loss 0.43335595 - time (sec): 0.65 - samples/sec: 10672.12 - lr: 0.006250\n",
            "2023-06-16 13:25:57,490 epoch 35 - iter 75/155 - loss 0.43477800 - time (sec): 0.81 - samples/sec: 10732.03 - lr: 0.006250\n",
            "2023-06-16 13:25:57,647 epoch 35 - iter 90/155 - loss 0.43432790 - time (sec): 0.97 - samples/sec: 10825.75 - lr: 0.006250\n",
            "2023-06-16 13:25:57,827 epoch 35 - iter 105/155 - loss 0.43240507 - time (sec): 1.15 - samples/sec: 10616.08 - lr: 0.006250\n",
            "2023-06-16 13:25:58,005 epoch 35 - iter 120/155 - loss 0.43161442 - time (sec): 1.32 - samples/sec: 10515.75 - lr: 0.006250\n",
            "2023-06-16 13:25:58,185 epoch 35 - iter 135/155 - loss 0.42999928 - time (sec): 1.50 - samples/sec: 10415.71 - lr: 0.006250\n",
            "2023-06-16 13:25:58,355 epoch 35 - iter 150/155 - loss 0.42879475 - time (sec): 1.67 - samples/sec: 10409.67 - lr: 0.006250\n",
            "2023-06-16 13:25:58,416 ----------------------------------------------------------------------------------------------------\n",
            "2023-06-16 13:25:58,418 EPOCH 35 done: loss 0.4292 - lr 0.006250\n"
          ]
        },
        {
          "output_type": "stream",
          "name": "stderr",
          "text": [
            "100%|██████████| 20/20 [00:00<00:00, 86.95it/s]"
          ]
        },
        {
          "output_type": "stream",
          "name": "stdout",
          "text": [
            "2023-06-16 13:25:58,666 Evaluating as a multi-label problem: False\n",
            "2023-06-16 13:25:58,698 DEV : loss 0.41801196336746216 - f1-score (micro avg)  0.8186\n",
            "2023-06-16 13:25:58,712 BAD EPOCHS (no improvement): 2\n",
            "2023-06-16 13:25:58,717 ----------------------------------------------------------------------------------------------------\n"
          ]
        },
        {
          "output_type": "stream",
          "name": "stderr",
          "text": [
            "\n"
          ]
        },
        {
          "output_type": "stream",
          "name": "stdout",
          "text": [
            "2023-06-16 13:25:58,902 epoch 36 - iter 15/155 - loss 0.42992840 - time (sec): 0.18 - samples/sec: 9677.82 - lr: 0.006250\n",
            "2023-06-16 13:25:59,088 epoch 36 - iter 30/155 - loss 0.42437268 - time (sec): 0.37 - samples/sec: 9487.69 - lr: 0.006250\n",
            "2023-06-16 13:25:59,261 epoch 36 - iter 45/155 - loss 0.42986976 - time (sec): 0.54 - samples/sec: 9709.70 - lr: 0.006250\n",
            "2023-06-16 13:25:59,445 epoch 36 - iter 60/155 - loss 0.43546348 - time (sec): 0.73 - samples/sec: 9611.52 - lr: 0.006250\n",
            "2023-06-16 13:25:59,618 epoch 36 - iter 75/155 - loss 0.43046747 - time (sec): 0.90 - samples/sec: 9656.07 - lr: 0.006250\n",
            "2023-06-16 13:25:59,793 epoch 36 - iter 90/155 - loss 0.42995858 - time (sec): 1.07 - samples/sec: 9782.41 - lr: 0.006250\n",
            "2023-06-16 13:25:59,954 epoch 36 - iter 105/155 - loss 0.42820845 - time (sec): 1.23 - samples/sec: 9933.09 - lr: 0.006250\n",
            "2023-06-16 13:26:00,130 epoch 36 - iter 120/155 - loss 0.43065659 - time (sec): 1.41 - samples/sec: 9873.87 - lr: 0.006250\n",
            "2023-06-16 13:26:00,311 epoch 36 - iter 135/155 - loss 0.42940823 - time (sec): 1.59 - samples/sec: 9870.15 - lr: 0.006250\n",
            "2023-06-16 13:26:00,500 epoch 36 - iter 150/155 - loss 0.42932808 - time (sec): 1.78 - samples/sec: 9781.83 - lr: 0.006250\n",
            "2023-06-16 13:26:00,556 ----------------------------------------------------------------------------------------------------\n",
            "2023-06-16 13:26:00,558 EPOCH 36 done: loss 0.4300 - lr 0.006250\n"
          ]
        },
        {
          "output_type": "stream",
          "name": "stderr",
          "text": [
            "100%|██████████| 20/20 [00:00<00:00, 94.76it/s] "
          ]
        },
        {
          "output_type": "stream",
          "name": "stdout",
          "text": [
            "2023-06-16 13:26:00,789 Evaluating as a multi-label problem: False\n",
            "2023-06-16 13:26:00,817 DEV : loss 0.4195702075958252 - f1-score (micro avg)  0.8164\n",
            "2023-06-16 13:26:00,831 BAD EPOCHS (no improvement): 3\n",
            "2023-06-16 13:26:00,836 ----------------------------------------------------------------------------------------------------\n"
          ]
        },
        {
          "output_type": "stream",
          "name": "stderr",
          "text": [
            "\n"
          ]
        },
        {
          "output_type": "stream",
          "name": "stdout",
          "text": [
            "2023-06-16 13:26:01,020 epoch 37 - iter 15/155 - loss 0.42331132 - time (sec): 0.18 - samples/sec: 9544.20 - lr: 0.006250\n",
            "2023-06-16 13:26:01,189 epoch 37 - iter 30/155 - loss 0.42499073 - time (sec): 0.35 - samples/sec: 9927.00 - lr: 0.006250\n",
            "2023-06-16 13:26:01,366 epoch 37 - iter 45/155 - loss 0.42350593 - time (sec): 0.53 - samples/sec: 9967.40 - lr: 0.006250\n",
            "2023-06-16 13:26:01,525 epoch 37 - iter 60/155 - loss 0.43181808 - time (sec): 0.69 - samples/sec: 10140.68 - lr: 0.006250\n",
            "2023-06-16 13:26:01,689 epoch 37 - iter 75/155 - loss 0.43217665 - time (sec): 0.85 - samples/sec: 10182.08 - lr: 0.006250\n",
            "2023-06-16 13:26:01,884 epoch 37 - iter 90/155 - loss 0.42640409 - time (sec): 1.05 - samples/sec: 9994.79 - lr: 0.006250\n",
            "2023-06-16 13:26:02,064 epoch 37 - iter 105/155 - loss 0.42862929 - time (sec): 1.23 - samples/sec: 9906.35 - lr: 0.006250\n",
            "2023-06-16 13:26:02,239 epoch 37 - iter 120/155 - loss 0.42938726 - time (sec): 1.40 - samples/sec: 9956.92 - lr: 0.006250\n",
            "2023-06-16 13:26:02,418 epoch 37 - iter 135/155 - loss 0.43043174 - time (sec): 1.58 - samples/sec: 9905.70 - lr: 0.006250\n",
            "2023-06-16 13:26:02,595 epoch 37 - iter 150/155 - loss 0.42904749 - time (sec): 1.76 - samples/sec: 9903.64 - lr: 0.006250\n",
            "2023-06-16 13:26:02,652 ----------------------------------------------------------------------------------------------------\n",
            "2023-06-16 13:26:02,654 EPOCH 37 done: loss 0.4293 - lr 0.006250\n"
          ]
        },
        {
          "output_type": "stream",
          "name": "stderr",
          "text": [
            "100%|██████████| 20/20 [00:00<00:00, 119.38it/s]"
          ]
        },
        {
          "output_type": "stream",
          "name": "stdout",
          "text": [
            "2023-06-16 13:26:02,837 Evaluating as a multi-label problem: False\n"
          ]
        },
        {
          "output_type": "stream",
          "name": "stderr",
          "text": [
            "\n"
          ]
        },
        {
          "output_type": "stream",
          "name": "stdout",
          "text": [
            "2023-06-16 13:26:02,862 DEV : loss 0.41919171810150146 - f1-score (micro avg)  0.8182\n",
            "2023-06-16 13:26:02,874 Epoch    37: reducing learning rate of group 0 to 3.1250e-03.\n",
            "2023-06-16 13:26:02,876 BAD EPOCHS (no improvement): 4\n",
            "2023-06-16 13:26:02,881 ----------------------------------------------------------------------------------------------------\n",
            "2023-06-16 13:26:03,054 epoch 38 - iter 15/155 - loss 0.41664768 - time (sec): 0.17 - samples/sec: 11053.71 - lr: 0.003125\n",
            "2023-06-16 13:26:03,218 epoch 38 - iter 30/155 - loss 0.43045773 - time (sec): 0.34 - samples/sec: 11066.52 - lr: 0.003125\n",
            "2023-06-16 13:26:03,379 epoch 38 - iter 45/155 - loss 0.43042579 - time (sec): 0.50 - samples/sec: 10874.14 - lr: 0.003125\n",
            "2023-06-16 13:26:03,536 epoch 38 - iter 60/155 - loss 0.42314661 - time (sec): 0.65 - samples/sec: 10855.14 - lr: 0.003125\n",
            "2023-06-16 13:26:03,686 epoch 38 - iter 75/155 - loss 0.42471302 - time (sec): 0.80 - samples/sec: 10850.45 - lr: 0.003125\n",
            "2023-06-16 13:26:03,851 epoch 38 - iter 90/155 - loss 0.42684019 - time (sec): 0.97 - samples/sec: 10821.09 - lr: 0.003125\n",
            "2023-06-16 13:26:04,011 epoch 38 - iter 105/155 - loss 0.42951630 - time (sec): 1.13 - samples/sec: 10812.99 - lr: 0.003125\n",
            "2023-06-16 13:26:04,166 epoch 38 - iter 120/155 - loss 0.42841190 - time (sec): 1.28 - samples/sec: 10842.94 - lr: 0.003125\n",
            "2023-06-16 13:26:04,320 epoch 38 - iter 135/155 - loss 0.42782916 - time (sec): 1.44 - samples/sec: 10910.51 - lr: 0.003125\n",
            "2023-06-16 13:26:04,476 epoch 38 - iter 150/155 - loss 0.42886861 - time (sec): 1.59 - samples/sec: 10898.63 - lr: 0.003125\n",
            "2023-06-16 13:26:04,532 ----------------------------------------------------------------------------------------------------\n",
            "2023-06-16 13:26:04,534 EPOCH 38 done: loss 0.4294 - lr 0.003125\n"
          ]
        },
        {
          "output_type": "stream",
          "name": "stderr",
          "text": [
            "100%|██████████| 20/20 [00:00<00:00, 123.65it/s]"
          ]
        },
        {
          "output_type": "stream",
          "name": "stdout",
          "text": [
            "2023-06-16 13:26:04,711 Evaluating as a multi-label problem: False\n",
            "2023-06-16 13:26:04,736 DEV : loss 0.4179878234863281 - f1-score (micro avg)  0.8186\n"
          ]
        },
        {
          "output_type": "stream",
          "name": "stderr",
          "text": [
            "\n"
          ]
        },
        {
          "output_type": "stream",
          "name": "stdout",
          "text": [
            "2023-06-16 13:26:04,749 BAD EPOCHS (no improvement): 1\n",
            "2023-06-16 13:26:04,753 ----------------------------------------------------------------------------------------------------\n",
            "2023-06-16 13:26:04,911 epoch 39 - iter 15/155 - loss 0.44727905 - time (sec): 0.16 - samples/sec: 11123.52 - lr: 0.003125\n",
            "2023-06-16 13:26:05,068 epoch 39 - iter 30/155 - loss 0.43350613 - time (sec): 0.31 - samples/sec: 11204.59 - lr: 0.003125\n",
            "2023-06-16 13:26:05,226 epoch 39 - iter 45/155 - loss 0.43598311 - time (sec): 0.47 - samples/sec: 11156.98 - lr: 0.003125\n",
            "2023-06-16 13:26:05,382 epoch 39 - iter 60/155 - loss 0.43493672 - time (sec): 0.63 - samples/sec: 11067.93 - lr: 0.003125\n",
            "2023-06-16 13:26:05,546 epoch 39 - iter 75/155 - loss 0.43446607 - time (sec): 0.79 - samples/sec: 11021.99 - lr: 0.003125\n",
            "2023-06-16 13:26:05,706 epoch 39 - iter 90/155 - loss 0.42974611 - time (sec): 0.95 - samples/sec: 10974.75 - lr: 0.003125\n",
            "2023-06-16 13:26:05,865 epoch 39 - iter 105/155 - loss 0.43216929 - time (sec): 1.11 - samples/sec: 10989.12 - lr: 0.003125\n",
            "2023-06-16 13:26:06,024 epoch 39 - iter 120/155 - loss 0.42979145 - time (sec): 1.27 - samples/sec: 10978.31 - lr: 0.003125\n",
            "2023-06-16 13:26:06,182 epoch 39 - iter 135/155 - loss 0.42720897 - time (sec): 1.43 - samples/sec: 10958.32 - lr: 0.003125\n",
            "2023-06-16 13:26:06,342 epoch 39 - iter 150/155 - loss 0.42872260 - time (sec): 1.59 - samples/sec: 10975.11 - lr: 0.003125\n",
            "2023-06-16 13:26:06,395 ----------------------------------------------------------------------------------------------------\n",
            "2023-06-16 13:26:06,397 EPOCH 39 done: loss 0.4285 - lr 0.003125\n"
          ]
        },
        {
          "output_type": "stream",
          "name": "stderr",
          "text": [
            "100%|██████████| 20/20 [00:00<00:00, 35.41it/s]"
          ]
        },
        {
          "output_type": "stream",
          "name": "stdout",
          "text": [
            "2023-06-16 13:26:06,986 Evaluating as a multi-label problem: False\n",
            "2023-06-16 13:26:07,012 DEV : loss 0.41711634397506714 - f1-score (micro avg)  0.8182\n",
            "2023-06-16 13:26:07,024 BAD EPOCHS (no improvement): 2\n",
            "2023-06-16 13:26:07,028 ----------------------------------------------------------------------------------------------------\n"
          ]
        },
        {
          "output_type": "stream",
          "name": "stderr",
          "text": [
            "\n"
          ]
        },
        {
          "output_type": "stream",
          "name": "stdout",
          "text": [
            "2023-06-16 13:26:07,194 epoch 40 - iter 15/155 - loss 0.42757627 - time (sec): 0.16 - samples/sec: 10814.67 - lr: 0.003125\n",
            "2023-06-16 13:26:07,364 epoch 40 - iter 30/155 - loss 0.42979554 - time (sec): 0.33 - samples/sec: 10661.52 - lr: 0.003125\n",
            "2023-06-16 13:26:07,531 epoch 40 - iter 45/155 - loss 0.43051775 - time (sec): 0.50 - samples/sec: 10581.68 - lr: 0.003125\n",
            "2023-06-16 13:26:07,687 epoch 40 - iter 60/155 - loss 0.42866952 - time (sec): 0.66 - samples/sec: 10689.28 - lr: 0.003125\n",
            "2023-06-16 13:26:07,846 epoch 40 - iter 75/155 - loss 0.42665067 - time (sec): 0.82 - samples/sec: 10779.31 - lr: 0.003125\n",
            "2023-06-16 13:26:08,001 epoch 40 - iter 90/155 - loss 0.43282770 - time (sec): 0.97 - samples/sec: 10772.36 - lr: 0.003125\n",
            "2023-06-16 13:26:08,171 epoch 40 - iter 105/155 - loss 0.43377308 - time (sec): 1.14 - samples/sec: 10685.98 - lr: 0.003125\n",
            "2023-06-16 13:26:08,331 epoch 40 - iter 120/155 - loss 0.43275481 - time (sec): 1.30 - samples/sec: 10708.25 - lr: 0.003125\n",
            "2023-06-16 13:26:08,495 epoch 40 - iter 135/155 - loss 0.43141298 - time (sec): 1.46 - samples/sec: 10681.24 - lr: 0.003125\n",
            "2023-06-16 13:26:08,654 epoch 40 - iter 150/155 - loss 0.43168299 - time (sec): 1.62 - samples/sec: 10713.30 - lr: 0.003125\n",
            "2023-06-16 13:26:08,709 ----------------------------------------------------------------------------------------------------\n",
            "2023-06-16 13:26:08,711 EPOCH 40 done: loss 0.4319 - lr 0.003125\n"
          ]
        },
        {
          "output_type": "stream",
          "name": "stderr",
          "text": [
            "100%|██████████| 20/20 [00:00<00:00, 119.55it/s]"
          ]
        },
        {
          "output_type": "stream",
          "name": "stdout",
          "text": [
            "2023-06-16 13:26:08,895 Evaluating as a multi-label problem: False\n"
          ]
        },
        {
          "output_type": "stream",
          "name": "stderr",
          "text": [
            "\n"
          ]
        },
        {
          "output_type": "stream",
          "name": "stdout",
          "text": [
            "2023-06-16 13:26:08,923 DEV : loss 0.4162313938140869 - f1-score (micro avg)  0.8159\n",
            "2023-06-16 13:26:08,934 BAD EPOCHS (no improvement): 3\n",
            "2023-06-16 13:26:08,939 ----------------------------------------------------------------------------------------------------\n",
            "2023-06-16 13:26:09,109 epoch 41 - iter 15/155 - loss 0.44189781 - time (sec): 0.17 - samples/sec: 10567.61 - lr: 0.003125\n",
            "2023-06-16 13:26:09,270 epoch 41 - iter 30/155 - loss 0.43360735 - time (sec): 0.33 - samples/sec: 10622.41 - lr: 0.003125\n",
            "2023-06-16 13:26:09,428 epoch 41 - iter 45/155 - loss 0.43262650 - time (sec): 0.49 - samples/sec: 10690.12 - lr: 0.003125\n",
            "2023-06-16 13:26:09,589 epoch 41 - iter 60/155 - loss 0.42599046 - time (sec): 0.65 - samples/sec: 10681.59 - lr: 0.003125\n",
            "2023-06-16 13:26:09,752 epoch 41 - iter 75/155 - loss 0.42208635 - time (sec): 0.81 - samples/sec: 10740.18 - lr: 0.003125\n",
            "2023-06-16 13:26:09,908 epoch 41 - iter 90/155 - loss 0.42460761 - time (sec): 0.97 - samples/sec: 10784.36 - lr: 0.003125\n",
            "2023-06-16 13:26:10,071 epoch 41 - iter 105/155 - loss 0.42428209 - time (sec): 1.13 - samples/sec: 10814.51 - lr: 0.003125\n",
            "2023-06-16 13:26:10,234 epoch 41 - iter 120/155 - loss 0.42734833 - time (sec): 1.29 - samples/sec: 10822.63 - lr: 0.003125\n",
            "2023-06-16 13:26:10,387 epoch 41 - iter 135/155 - loss 0.42685811 - time (sec): 1.45 - samples/sec: 10872.83 - lr: 0.003125\n",
            "2023-06-16 13:26:10,544 epoch 41 - iter 150/155 - loss 0.43013814 - time (sec): 1.60 - samples/sec: 10862.92 - lr: 0.003125\n",
            "2023-06-16 13:26:10,599 ----------------------------------------------------------------------------------------------------\n",
            "2023-06-16 13:26:10,601 EPOCH 41 done: loss 0.4295 - lr 0.003125\n"
          ]
        },
        {
          "output_type": "stream",
          "name": "stderr",
          "text": [
            "100%|██████████| 20/20 [00:00<00:00, 124.32it/s]"
          ]
        },
        {
          "output_type": "stream",
          "name": "stdout",
          "text": [
            "2023-06-16 13:26:10,775 Evaluating as a multi-label problem: False\n",
            "2023-06-16 13:26:10,800 DEV : loss 0.4153900742530823 - f1-score (micro avg)  0.8159\n"
          ]
        },
        {
          "output_type": "stream",
          "name": "stderr",
          "text": [
            "\n"
          ]
        },
        {
          "output_type": "stream",
          "name": "stdout",
          "text": [
            "2023-06-16 13:26:10,815 Epoch    41: reducing learning rate of group 0 to 1.5625e-03.\n",
            "2023-06-16 13:26:10,817 BAD EPOCHS (no improvement): 4\n",
            "2023-06-16 13:26:10,823 ----------------------------------------------------------------------------------------------------\n",
            "2023-06-16 13:26:10,980 epoch 42 - iter 15/155 - loss 0.44115945 - time (sec): 0.16 - samples/sec: 11063.62 - lr: 0.001563\n",
            "2023-06-16 13:26:11,139 epoch 42 - iter 30/155 - loss 0.43187104 - time (sec): 0.31 - samples/sec: 10964.96 - lr: 0.001563\n",
            "2023-06-16 13:26:11,297 epoch 42 - iter 45/155 - loss 0.44268158 - time (sec): 0.47 - samples/sec: 10954.93 - lr: 0.001563\n",
            "2023-06-16 13:26:11,458 epoch 42 - iter 60/155 - loss 0.44120661 - time (sec): 0.63 - samples/sec: 10979.06 - lr: 0.001563\n",
            "2023-06-16 13:26:11,618 epoch 42 - iter 75/155 - loss 0.44151970 - time (sec): 0.79 - samples/sec: 10968.79 - lr: 0.001563\n",
            "2023-06-16 13:26:11,776 epoch 42 - iter 90/155 - loss 0.43750484 - time (sec): 0.95 - samples/sec: 10972.83 - lr: 0.001563\n",
            "2023-06-16 13:26:11,933 epoch 42 - iter 105/155 - loss 0.43586287 - time (sec): 1.11 - samples/sec: 11028.80 - lr: 0.001563\n",
            "2023-06-16 13:26:12,090 epoch 42 - iter 120/155 - loss 0.43398155 - time (sec): 1.27 - samples/sec: 10994.88 - lr: 0.001563\n",
            "2023-06-16 13:26:12,248 epoch 42 - iter 135/155 - loss 0.43134550 - time (sec): 1.42 - samples/sec: 11004.49 - lr: 0.001563\n",
            "2023-06-16 13:26:12,407 epoch 42 - iter 150/155 - loss 0.43030239 - time (sec): 1.58 - samples/sec: 10985.47 - lr: 0.001563\n",
            "2023-06-16 13:26:12,465 ----------------------------------------------------------------------------------------------------\n",
            "2023-06-16 13:26:12,467 EPOCH 42 done: loss 0.4294 - lr 0.001563\n"
          ]
        },
        {
          "output_type": "stream",
          "name": "stderr",
          "text": [
            "100%|██████████| 20/20 [00:00<00:00, 110.15it/s]"
          ]
        },
        {
          "output_type": "stream",
          "name": "stdout",
          "text": [
            "2023-06-16 13:26:12,665 Evaluating as a multi-label problem: False\n"
          ]
        },
        {
          "output_type": "stream",
          "name": "stderr",
          "text": [
            "\n"
          ]
        },
        {
          "output_type": "stream",
          "name": "stdout",
          "text": [
            "2023-06-16 13:26:12,695 DEV : loss 0.4193614721298218 - f1-score (micro avg)  0.8177\n",
            "2023-06-16 13:26:12,707 BAD EPOCHS (no improvement): 1\n",
            "2023-06-16 13:26:12,711 ----------------------------------------------------------------------------------------------------\n",
            "2023-06-16 13:26:12,894 epoch 43 - iter 15/155 - loss 0.42481953 - time (sec): 0.18 - samples/sec: 9801.98 - lr: 0.001563\n",
            "2023-06-16 13:26:13,056 epoch 43 - iter 30/155 - loss 0.44278079 - time (sec): 0.34 - samples/sec: 10233.93 - lr: 0.001563\n",
            "2023-06-16 13:26:13,223 epoch 43 - iter 45/155 - loss 0.44277903 - time (sec): 0.51 - samples/sec: 10280.17 - lr: 0.001563\n",
            "2023-06-16 13:26:13,390 epoch 43 - iter 60/155 - loss 0.43801993 - time (sec): 0.68 - samples/sec: 10319.72 - lr: 0.001563\n",
            "2023-06-16 13:26:13,561 epoch 43 - iter 75/155 - loss 0.43054693 - time (sec): 0.85 - samples/sec: 10304.57 - lr: 0.001563\n",
            "2023-06-16 13:26:13,727 epoch 43 - iter 90/155 - loss 0.43055741 - time (sec): 1.01 - samples/sec: 10344.75 - lr: 0.001563\n",
            "2023-06-16 13:26:13,916 epoch 43 - iter 105/155 - loss 0.43147492 - time (sec): 1.20 - samples/sec: 10148.71 - lr: 0.001563\n",
            "2023-06-16 13:26:14,075 epoch 43 - iter 120/155 - loss 0.42834419 - time (sec): 1.36 - samples/sec: 10219.02 - lr: 0.001563\n",
            "2023-06-16 13:26:14,249 epoch 43 - iter 135/155 - loss 0.42949768 - time (sec): 1.54 - samples/sec: 10243.35 - lr: 0.001563\n",
            "2023-06-16 13:26:14,413 epoch 43 - iter 150/155 - loss 0.43063264 - time (sec): 1.70 - samples/sec: 10268.08 - lr: 0.001563\n",
            "2023-06-16 13:26:14,474 ----------------------------------------------------------------------------------------------------\n",
            "2023-06-16 13:26:14,476 EPOCH 43 done: loss 0.4295 - lr 0.001563\n"
          ]
        },
        {
          "output_type": "stream",
          "name": "stderr",
          "text": [
            "100%|██████████| 20/20 [00:00<00:00, 119.85it/s]"
          ]
        },
        {
          "output_type": "stream",
          "name": "stdout",
          "text": [
            "2023-06-16 13:26:14,659 Evaluating as a multi-label problem: False\n"
          ]
        },
        {
          "output_type": "stream",
          "name": "stderr",
          "text": [
            "\n"
          ]
        },
        {
          "output_type": "stream",
          "name": "stdout",
          "text": [
            "2023-06-16 13:26:14,687 DEV : loss 0.41735711693763733 - f1-score (micro avg)  0.8182\n",
            "2023-06-16 13:26:14,700 BAD EPOCHS (no improvement): 2\n",
            "2023-06-16 13:26:14,705 ----------------------------------------------------------------------------------------------------\n",
            "2023-06-16 13:26:14,897 epoch 44 - iter 15/155 - loss 0.43090493 - time (sec): 0.19 - samples/sec: 9195.19 - lr: 0.001563\n",
            "2023-06-16 13:26:15,068 epoch 44 - iter 30/155 - loss 0.42134500 - time (sec): 0.36 - samples/sec: 9595.83 - lr: 0.001563\n",
            "2023-06-16 13:26:15,236 epoch 44 - iter 45/155 - loss 0.42577768 - time (sec): 0.53 - samples/sec: 9874.92 - lr: 0.001563\n",
            "2023-06-16 13:26:15,415 epoch 44 - iter 60/155 - loss 0.42245712 - time (sec): 0.71 - samples/sec: 9993.10 - lr: 0.001563\n",
            "2023-06-16 13:26:15,583 epoch 44 - iter 75/155 - loss 0.42326558 - time (sec): 0.87 - samples/sec: 10030.37 - lr: 0.001563\n",
            "2023-06-16 13:26:15,763 epoch 44 - iter 90/155 - loss 0.42561083 - time (sec): 1.05 - samples/sec: 9974.88 - lr: 0.001563\n",
            "2023-06-16 13:26:15,934 epoch 44 - iter 105/155 - loss 0.42592222 - time (sec): 1.23 - samples/sec: 9992.25 - lr: 0.001563\n",
            "2023-06-16 13:26:16,107 epoch 44 - iter 120/155 - loss 0.42360905 - time (sec): 1.40 - samples/sec: 9957.89 - lr: 0.001563\n",
            "2023-06-16 13:26:16,302 epoch 44 - iter 135/155 - loss 0.42416145 - time (sec): 1.59 - samples/sec: 9870.72 - lr: 0.001563\n",
            "2023-06-16 13:26:16,475 epoch 44 - iter 150/155 - loss 0.42662958 - time (sec): 1.77 - samples/sec: 9880.48 - lr: 0.001563\n",
            "2023-06-16 13:26:16,534 ----------------------------------------------------------------------------------------------------\n",
            "2023-06-16 13:26:16,537 EPOCH 44 done: loss 0.4284 - lr 0.001563\n"
          ]
        },
        {
          "output_type": "stream",
          "name": "stderr",
          "text": [
            "100%|██████████| 20/20 [00:00<00:00, 97.90it/s]"
          ]
        },
        {
          "output_type": "stream",
          "name": "stdout",
          "text": [
            "2023-06-16 13:26:16,765 Evaluating as a multi-label problem: False\n",
            "2023-06-16 13:26:16,799 DEV : loss 0.4193620979785919 - f1-score (micro avg)  0.8213\n",
            "2023-06-16 13:26:16,810 BAD EPOCHS (no improvement): 0\n",
            "2023-06-16 13:26:16,815 saving best model\n"
          ]
        },
        {
          "output_type": "stream",
          "name": "stderr",
          "text": [
            "\n"
          ]
        },
        {
          "output_type": "stream",
          "name": "stdout",
          "text": [
            "2023-06-16 13:26:20,984 ----------------------------------------------------------------------------------------------------\n",
            "2023-06-16 13:26:21,155 epoch 45 - iter 15/155 - loss 0.41023384 - time (sec): 0.17 - samples/sec: 10328.64 - lr: 0.001563\n",
            "2023-06-16 13:26:21,313 epoch 45 - iter 30/155 - loss 0.41508678 - time (sec): 0.32 - samples/sec: 10613.68 - lr: 0.001563\n",
            "2023-06-16 13:26:21,470 epoch 45 - iter 45/155 - loss 0.42153240 - time (sec): 0.48 - samples/sec: 10657.97 - lr: 0.001563\n",
            "2023-06-16 13:26:21,639 epoch 45 - iter 60/155 - loss 0.41868840 - time (sec): 0.65 - samples/sec: 10616.74 - lr: 0.001563\n",
            "2023-06-16 13:26:21,811 epoch 45 - iter 75/155 - loss 0.42662530 - time (sec): 0.82 - samples/sec: 10484.29 - lr: 0.001563\n",
            "2023-06-16 13:26:21,973 epoch 45 - iter 90/155 - loss 0.42567528 - time (sec): 0.98 - samples/sec: 10589.80 - lr: 0.001563\n",
            "2023-06-16 13:26:22,145 epoch 45 - iter 105/155 - loss 0.42720191 - time (sec): 1.16 - samples/sec: 10502.82 - lr: 0.001563\n",
            "2023-06-16 13:26:22,316 epoch 45 - iter 120/155 - loss 0.42713342 - time (sec): 1.33 - samples/sec: 10484.24 - lr: 0.001563\n",
            "2023-06-16 13:26:22,473 epoch 45 - iter 135/155 - loss 0.42883202 - time (sec): 1.48 - samples/sec: 10564.30 - lr: 0.001563\n",
            "2023-06-16 13:26:22,633 epoch 45 - iter 150/155 - loss 0.42934768 - time (sec): 1.64 - samples/sec: 10598.84 - lr: 0.001563\n",
            "2023-06-16 13:26:22,685 ----------------------------------------------------------------------------------------------------\n",
            "2023-06-16 13:26:22,687 EPOCH 45 done: loss 0.4286 - lr 0.001563\n"
          ]
        },
        {
          "output_type": "stream",
          "name": "stderr",
          "text": [
            "100%|██████████| 20/20 [00:00<00:00, 119.73it/s]"
          ]
        },
        {
          "output_type": "stream",
          "name": "stdout",
          "text": [
            "2023-06-16 13:26:22,868 Evaluating as a multi-label problem: False\n",
            "2023-06-16 13:26:22,891 DEV : loss 0.4170915186405182 - f1-score (micro avg)  0.8168\n"
          ]
        },
        {
          "output_type": "stream",
          "name": "stderr",
          "text": [
            "\n"
          ]
        },
        {
          "output_type": "stream",
          "name": "stdout",
          "text": [
            "2023-06-16 13:26:22,904 BAD EPOCHS (no improvement): 1\n",
            "2023-06-16 13:26:22,908 ----------------------------------------------------------------------------------------------------\n",
            "2023-06-16 13:26:23,066 epoch 46 - iter 15/155 - loss 0.44277177 - time (sec): 0.16 - samples/sec: 11031.76 - lr: 0.001563\n",
            "2023-06-16 13:26:23,221 epoch 46 - iter 30/155 - loss 0.43765221 - time (sec): 0.31 - samples/sec: 10997.27 - lr: 0.001563\n",
            "2023-06-16 13:26:23,382 epoch 46 - iter 45/155 - loss 0.43810996 - time (sec): 0.47 - samples/sec: 11168.93 - lr: 0.001563\n",
            "2023-06-16 13:26:23,543 epoch 46 - iter 60/155 - loss 0.43304985 - time (sec): 0.63 - samples/sec: 11057.98 - lr: 0.001563\n",
            "2023-06-16 13:26:23,697 epoch 46 - iter 75/155 - loss 0.43158261 - time (sec): 0.79 - samples/sec: 11134.29 - lr: 0.001563\n",
            "2023-06-16 13:26:23,856 epoch 46 - iter 90/155 - loss 0.43371977 - time (sec): 0.95 - samples/sec: 11114.04 - lr: 0.001563\n",
            "2023-06-16 13:26:24,012 epoch 46 - iter 105/155 - loss 0.43203639 - time (sec): 1.10 - samples/sec: 11191.97 - lr: 0.001563\n",
            "2023-06-16 13:26:24,172 epoch 46 - iter 120/155 - loss 0.42977211 - time (sec): 1.26 - samples/sec: 11152.06 - lr: 0.001563\n",
            "2023-06-16 13:26:24,330 epoch 46 - iter 135/155 - loss 0.42941384 - time (sec): 1.42 - samples/sec: 11114.95 - lr: 0.001563\n",
            "2023-06-16 13:26:24,481 epoch 46 - iter 150/155 - loss 0.43047737 - time (sec): 1.57 - samples/sec: 11106.41 - lr: 0.001563\n",
            "2023-06-16 13:26:24,533 ----------------------------------------------------------------------------------------------------\n",
            "2023-06-16 13:26:24,535 EPOCH 46 done: loss 0.4298 - lr 0.001563\n"
          ]
        },
        {
          "output_type": "stream",
          "name": "stderr",
          "text": [
            "100%|██████████| 20/20 [00:00<00:00, 124.26it/s]"
          ]
        },
        {
          "output_type": "stream",
          "name": "stdout",
          "text": [
            "2023-06-16 13:26:24,715 Evaluating as a multi-label problem: False\n"
          ]
        },
        {
          "output_type": "stream",
          "name": "stderr",
          "text": [
            "\n"
          ]
        },
        {
          "output_type": "stream",
          "name": "stdout",
          "text": [
            "2023-06-16 13:26:24,748 DEV : loss 0.4189716875553131 - f1-score (micro avg)  0.8173\n",
            "2023-06-16 13:26:24,760 BAD EPOCHS (no improvement): 2\n",
            "2023-06-16 13:26:24,766 ----------------------------------------------------------------------------------------------------\n",
            "2023-06-16 13:26:24,926 epoch 47 - iter 15/155 - loss 0.41877666 - time (sec): 0.16 - samples/sec: 11024.16 - lr: 0.001563\n",
            "2023-06-16 13:26:25,085 epoch 47 - iter 30/155 - loss 0.42003709 - time (sec): 0.32 - samples/sec: 10972.13 - lr: 0.001563\n",
            "2023-06-16 13:26:25,241 epoch 47 - iter 45/155 - loss 0.42694376 - time (sec): 0.47 - samples/sec: 11118.10 - lr: 0.001563\n",
            "2023-06-16 13:26:25,395 epoch 47 - iter 60/155 - loss 0.42523205 - time (sec): 0.63 - samples/sec: 11189.33 - lr: 0.001563\n",
            "2023-06-16 13:26:25,550 epoch 47 - iter 75/155 - loss 0.42796557 - time (sec): 0.78 - samples/sec: 11182.12 - lr: 0.001563\n",
            "2023-06-16 13:26:25,705 epoch 47 - iter 90/155 - loss 0.42781820 - time (sec): 0.94 - samples/sec: 11142.26 - lr: 0.001563\n",
            "2023-06-16 13:26:25,865 epoch 47 - iter 105/155 - loss 0.42999651 - time (sec): 1.10 - samples/sec: 11099.95 - lr: 0.001563\n",
            "2023-06-16 13:26:26,019 epoch 47 - iter 120/155 - loss 0.42641119 - time (sec): 1.25 - samples/sec: 11141.16 - lr: 0.001563\n",
            "2023-06-16 13:26:26,176 epoch 47 - iter 135/155 - loss 0.42911976 - time (sec): 1.41 - samples/sec: 11118.75 - lr: 0.001563\n",
            "2023-06-16 13:26:26,329 epoch 47 - iter 150/155 - loss 0.42945795 - time (sec): 1.56 - samples/sec: 11172.64 - lr: 0.001563\n",
            "2023-06-16 13:26:26,380 ----------------------------------------------------------------------------------------------------\n",
            "2023-06-16 13:26:26,383 EPOCH 47 done: loss 0.4296 - lr 0.001563\n"
          ]
        },
        {
          "output_type": "stream",
          "name": "stderr",
          "text": [
            "100%|██████████| 20/20 [00:00<00:00, 124.33it/s]"
          ]
        },
        {
          "output_type": "stream",
          "name": "stdout",
          "text": [
            "2023-06-16 13:26:26,561 Evaluating as a multi-label problem: False\n",
            "2023-06-16 13:26:26,585 DEV : loss 0.41747692227363586 - f1-score (micro avg)  0.8191\n"
          ]
        },
        {
          "output_type": "stream",
          "name": "stderr",
          "text": [
            "\n"
          ]
        },
        {
          "output_type": "stream",
          "name": "stdout",
          "text": [
            "2023-06-16 13:26:26,599 BAD EPOCHS (no improvement): 3\n",
            "2023-06-16 13:26:26,603 ----------------------------------------------------------------------------------------------------\n",
            "2023-06-16 13:26:26,769 epoch 48 - iter 15/155 - loss 0.43019733 - time (sec): 0.16 - samples/sec: 10349.14 - lr: 0.001563\n",
            "2023-06-16 13:26:26,929 epoch 48 - iter 30/155 - loss 0.42194904 - time (sec): 0.32 - samples/sec: 10629.66 - lr: 0.001563\n",
            "2023-06-16 13:26:27,081 epoch 48 - iter 45/155 - loss 0.42189137 - time (sec): 0.48 - samples/sec: 11041.64 - lr: 0.001563\n",
            "2023-06-16 13:26:27,268 epoch 48 - iter 60/155 - loss 0.42543317 - time (sec): 0.66 - samples/sec: 10624.35 - lr: 0.001563\n",
            "2023-06-16 13:26:27,436 epoch 48 - iter 75/155 - loss 0.42657622 - time (sec): 0.83 - samples/sec: 10602.63 - lr: 0.001563\n",
            "2023-06-16 13:26:27,602 epoch 48 - iter 90/155 - loss 0.42737797 - time (sec): 1.00 - samples/sec: 10639.94 - lr: 0.001563\n",
            "2023-06-16 13:26:27,767 epoch 48 - iter 105/155 - loss 0.42841880 - time (sec): 1.16 - samples/sec: 10605.48 - lr: 0.001563\n",
            "2023-06-16 13:26:27,938 epoch 48 - iter 120/155 - loss 0.42867765 - time (sec): 1.33 - samples/sec: 10533.02 - lr: 0.001563\n",
            "2023-06-16 13:26:28,119 epoch 48 - iter 135/155 - loss 0.42839352 - time (sec): 1.51 - samples/sec: 10431.26 - lr: 0.001563\n",
            "2023-06-16 13:26:28,289 epoch 48 - iter 150/155 - loss 0.42915188 - time (sec): 1.68 - samples/sec: 10353.39 - lr: 0.001563\n",
            "2023-06-16 13:26:28,346 ----------------------------------------------------------------------------------------------------\n",
            "2023-06-16 13:26:28,349 EPOCH 48 done: loss 0.4291 - lr 0.001563\n"
          ]
        },
        {
          "output_type": "stream",
          "name": "stderr",
          "text": [
            "100%|██████████| 20/20 [00:00<00:00, 87.67it/s]"
          ]
        },
        {
          "output_type": "stream",
          "name": "stdout",
          "text": [
            "2023-06-16 13:26:28,601 Evaluating as a multi-label problem: False\n",
            "2023-06-16 13:26:28,631 DEV : loss 0.4164004921913147 - f1-score (micro avg)  0.8182\n",
            "2023-06-16 13:26:28,652 Epoch    48: reducing learning rate of group 0 to 7.8125e-04.\n",
            "2023-06-16 13:26:28,653 BAD EPOCHS (no improvement): 4\n",
            "2023-06-16 13:26:28,660 ----------------------------------------------------------------------------------------------------\n"
          ]
        },
        {
          "output_type": "stream",
          "name": "stderr",
          "text": [
            "\n"
          ]
        },
        {
          "output_type": "stream",
          "name": "stdout",
          "text": [
            "2023-06-16 13:26:28,845 epoch 49 - iter 15/155 - loss 0.41519425 - time (sec): 0.18 - samples/sec: 9638.27 - lr: 0.000781\n",
            "2023-06-16 13:26:29,028 epoch 49 - iter 30/155 - loss 0.42699255 - time (sec): 0.37 - samples/sec: 9719.69 - lr: 0.000781\n",
            "2023-06-16 13:26:29,193 epoch 49 - iter 45/155 - loss 0.42259614 - time (sec): 0.53 - samples/sec: 9858.75 - lr: 0.000781\n",
            "2023-06-16 13:26:29,383 epoch 49 - iter 60/155 - loss 0.43036907 - time (sec): 0.72 - samples/sec: 9707.81 - lr: 0.000781\n",
            "2023-06-16 13:26:29,634 epoch 49 - iter 75/155 - loss 0.43067053 - time (sec): 0.97 - samples/sec: 8967.22 - lr: 0.000781\n",
            "2023-06-16 13:26:29,827 epoch 49 - iter 90/155 - loss 0.43054722 - time (sec): 1.17 - samples/sec: 8919.75 - lr: 0.000781\n",
            "2023-06-16 13:26:30,019 epoch 49 - iter 105/155 - loss 0.42802733 - time (sec): 1.36 - samples/sec: 8935.13 - lr: 0.000781\n",
            "2023-06-16 13:26:30,223 epoch 49 - iter 120/155 - loss 0.42924653 - time (sec): 1.56 - samples/sec: 8867.94 - lr: 0.000781\n",
            "2023-06-16 13:26:30,446 epoch 49 - iter 135/155 - loss 0.42956655 - time (sec): 1.78 - samples/sec: 8743.60 - lr: 0.000781\n",
            "2023-06-16 13:26:30,654 epoch 49 - iter 150/155 - loss 0.42960585 - time (sec): 1.99 - samples/sec: 8740.26 - lr: 0.000781\n",
            "2023-06-16 13:26:30,712 ----------------------------------------------------------------------------------------------------\n",
            "2023-06-16 13:26:30,714 EPOCH 49 done: loss 0.4288 - lr 0.000781\n"
          ]
        },
        {
          "output_type": "stream",
          "name": "stderr",
          "text": [
            "100%|██████████| 20/20 [00:00<00:00, 99.42it/s]"
          ]
        },
        {
          "output_type": "stream",
          "name": "stdout",
          "text": [
            "2023-06-16 13:26:30,936 Evaluating as a multi-label problem: False\n",
            "2023-06-16 13:26:30,959 DEV : loss 0.41703277826309204 - f1-score (micro avg)  0.8195\n",
            "2023-06-16 13:26:30,972 BAD EPOCHS (no improvement): 1\n",
            "2023-06-16 13:26:30,978 ----------------------------------------------------------------------------------------------------\n"
          ]
        },
        {
          "output_type": "stream",
          "name": "stderr",
          "text": [
            "\n"
          ]
        },
        {
          "output_type": "stream",
          "name": "stdout",
          "text": [
            "2023-06-16 13:26:31,213 epoch 50 - iter 15/155 - loss 0.42447261 - time (sec): 0.23 - samples/sec: 7523.53 - lr: 0.000781\n",
            "2023-06-16 13:26:31,428 epoch 50 - iter 30/155 - loss 0.42957916 - time (sec): 0.45 - samples/sec: 7774.75 - lr: 0.000781\n",
            "2023-06-16 13:26:31,620 epoch 50 - iter 45/155 - loss 0.42392828 - time (sec): 0.64 - samples/sec: 8162.00 - lr: 0.000781\n",
            "2023-06-16 13:26:31,850 epoch 50 - iter 60/155 - loss 0.42252752 - time (sec): 0.87 - samples/sec: 7993.88 - lr: 0.000781\n",
            "2023-06-16 13:26:32,049 epoch 50 - iter 75/155 - loss 0.42437278 - time (sec): 1.07 - samples/sec: 8157.07 - lr: 0.000781\n",
            "2023-06-16 13:26:32,271 epoch 50 - iter 90/155 - loss 0.42391005 - time (sec): 1.29 - samples/sec: 8167.28 - lr: 0.000781\n",
            "2023-06-16 13:26:32,467 epoch 50 - iter 105/155 - loss 0.42681982 - time (sec): 1.49 - samples/sec: 8254.00 - lr: 0.000781\n",
            "2023-06-16 13:26:32,654 epoch 50 - iter 120/155 - loss 0.42694770 - time (sec): 1.67 - samples/sec: 8351.10 - lr: 0.000781\n",
            "2023-06-16 13:26:32,838 epoch 50 - iter 135/155 - loss 0.42655779 - time (sec): 1.86 - samples/sec: 8452.35 - lr: 0.000781\n",
            "2023-06-16 13:26:33,019 epoch 50 - iter 150/155 - loss 0.42872813 - time (sec): 2.04 - samples/sec: 8552.92 - lr: 0.000781\n",
            "2023-06-16 13:26:33,093 ----------------------------------------------------------------------------------------------------\n",
            "2023-06-16 13:26:33,095 EPOCH 50 done: loss 0.4288 - lr 0.000781\n"
          ]
        },
        {
          "output_type": "stream",
          "name": "stderr",
          "text": [
            "100%|██████████| 20/20 [00:00<00:00, 111.04it/s]\n"
          ]
        },
        {
          "output_type": "stream",
          "name": "stdout",
          "text": [
            "2023-06-16 13:26:33,302 Evaluating as a multi-label problem: False\n",
            "2023-06-16 13:26:33,339 DEV : loss 0.41687554121017456 - f1-score (micro avg)  0.8191\n",
            "2023-06-16 13:26:33,361 BAD EPOCHS (no improvement): 2\n",
            "2023-06-16 13:26:33,366 ----------------------------------------------------------------------------------------------------\n",
            "2023-06-16 13:26:33,559 epoch 51 - iter 15/155 - loss 0.41583811 - time (sec): 0.19 - samples/sec: 9495.10 - lr: 0.000781\n",
            "2023-06-16 13:26:33,750 epoch 51 - iter 30/155 - loss 0.43158965 - time (sec): 0.38 - samples/sec: 9512.39 - lr: 0.000781\n",
            "2023-06-16 13:26:33,950 epoch 51 - iter 45/155 - loss 0.42917761 - time (sec): 0.58 - samples/sec: 9185.48 - lr: 0.000781\n",
            "2023-06-16 13:26:34,139 epoch 51 - iter 60/155 - loss 0.43075334 - time (sec): 0.77 - samples/sec: 9064.74 - lr: 0.000781\n",
            "2023-06-16 13:26:34,337 epoch 51 - iter 75/155 - loss 0.42881905 - time (sec): 0.97 - samples/sec: 8996.10 - lr: 0.000781\n",
            "2023-06-16 13:26:34,518 epoch 51 - iter 90/155 - loss 0.42611925 - time (sec): 1.15 - samples/sec: 9114.87 - lr: 0.000781\n",
            "2023-06-16 13:26:34,727 epoch 51 - iter 105/155 - loss 0.42538023 - time (sec): 1.36 - samples/sec: 9003.50 - lr: 0.000781\n",
            "2023-06-16 13:26:34,919 epoch 51 - iter 120/155 - loss 0.42547135 - time (sec): 1.55 - samples/sec: 9008.26 - lr: 0.000781\n",
            "2023-06-16 13:26:35,113 epoch 51 - iter 135/155 - loss 0.42575337 - time (sec): 1.74 - samples/sec: 9056.15 - lr: 0.000781\n",
            "2023-06-16 13:26:35,315 epoch 51 - iter 150/155 - loss 0.42694736 - time (sec): 1.95 - samples/sec: 8980.57 - lr: 0.000781\n",
            "2023-06-16 13:26:35,367 ----------------------------------------------------------------------------------------------------\n",
            "2023-06-16 13:26:35,370 EPOCH 51 done: loss 0.4269 - lr 0.000781\n"
          ]
        },
        {
          "output_type": "stream",
          "name": "stderr",
          "text": [
            "100%|██████████| 20/20 [00:00<00:00, 103.55it/s]\n"
          ]
        },
        {
          "output_type": "stream",
          "name": "stdout",
          "text": [
            "2023-06-16 13:26:35,579 Evaluating as a multi-label problem: False\n",
            "2023-06-16 13:26:35,604 DEV : loss 0.4169236421585083 - f1-score (micro avg)  0.8191\n",
            "2023-06-16 13:26:35,618 BAD EPOCHS (no improvement): 3\n",
            "2023-06-16 13:26:35,624 ----------------------------------------------------------------------------------------------------\n",
            "2023-06-16 13:26:35,813 epoch 52 - iter 15/155 - loss 0.42625000 - time (sec): 0.19 - samples/sec: 9944.06 - lr: 0.000781\n",
            "2023-06-16 13:26:36,010 epoch 52 - iter 30/155 - loss 0.41724887 - time (sec): 0.38 - samples/sec: 9383.60 - lr: 0.000781\n",
            "2023-06-16 13:26:36,214 epoch 52 - iter 45/155 - loss 0.43095185 - time (sec): 0.59 - samples/sec: 9051.96 - lr: 0.000781\n",
            "2023-06-16 13:26:36,397 epoch 52 - iter 60/155 - loss 0.43401574 - time (sec): 0.77 - samples/sec: 9144.18 - lr: 0.000781\n",
            "2023-06-16 13:26:36,598 epoch 52 - iter 75/155 - loss 0.43441752 - time (sec): 0.97 - samples/sec: 8992.68 - lr: 0.000781\n",
            "2023-06-16 13:26:36,788 epoch 52 - iter 90/155 - loss 0.43698001 - time (sec): 1.16 - samples/sec: 9064.03 - lr: 0.000781\n",
            "2023-06-16 13:26:36,975 epoch 52 - iter 105/155 - loss 0.43660709 - time (sec): 1.35 - samples/sec: 9092.66 - lr: 0.000781\n",
            "2023-06-16 13:26:37,183 epoch 52 - iter 120/155 - loss 0.43681937 - time (sec): 1.56 - samples/sec: 9012.48 - lr: 0.000781\n",
            "2023-06-16 13:26:37,360 epoch 52 - iter 135/155 - loss 0.43463866 - time (sec): 1.73 - samples/sec: 9083.61 - lr: 0.000781\n",
            "2023-06-16 13:26:37,579 epoch 52 - iter 150/155 - loss 0.43223500 - time (sec): 1.95 - samples/sec: 8947.73 - lr: 0.000781\n",
            "2023-06-16 13:26:37,654 ----------------------------------------------------------------------------------------------------\n",
            "2023-06-16 13:26:37,657 EPOCH 52 done: loss 0.4318 - lr 0.000781\n"
          ]
        },
        {
          "output_type": "stream",
          "name": "stderr",
          "text": [
            "100%|██████████| 20/20 [00:00<00:00, 93.21it/s]"
          ]
        },
        {
          "output_type": "stream",
          "name": "stdout",
          "text": [
            "2023-06-16 13:26:37,892 Evaluating as a multi-label problem: False\n",
            "2023-06-16 13:26:37,919 DEV : loss 0.4176273047924042 - f1-score (micro avg)  0.8173\n",
            "2023-06-16 13:26:37,933 Epoch    52: reducing learning rate of group 0 to 3.9063e-04.\n",
            "2023-06-16 13:26:37,939 BAD EPOCHS (no improvement): 4\n",
            "2023-06-16 13:26:37,945 ----------------------------------------------------------------------------------------------------\n"
          ]
        },
        {
          "output_type": "stream",
          "name": "stderr",
          "text": [
            "\n"
          ]
        },
        {
          "output_type": "stream",
          "name": "stdout",
          "text": [
            "2023-06-16 13:26:38,160 epoch 53 - iter 15/155 - loss 0.42908133 - time (sec): 0.21 - samples/sec: 8423.63 - lr: 0.000391\n",
            "2023-06-16 13:26:38,342 epoch 53 - iter 30/155 - loss 0.43570036 - time (sec): 0.39 - samples/sec: 8968.93 - lr: 0.000391\n",
            "2023-06-16 13:26:38,531 epoch 53 - iter 45/155 - loss 0.43551611 - time (sec): 0.58 - samples/sec: 8925.26 - lr: 0.000391\n",
            "2023-06-16 13:26:38,720 epoch 53 - iter 60/155 - loss 0.43538783 - time (sec): 0.77 - samples/sec: 9001.03 - lr: 0.000391\n",
            "2023-06-16 13:26:38,908 epoch 53 - iter 75/155 - loss 0.43009953 - time (sec): 0.96 - samples/sec: 9093.65 - lr: 0.000391\n",
            "2023-06-16 13:26:39,094 epoch 53 - iter 90/155 - loss 0.42898265 - time (sec): 1.15 - samples/sec: 9158.08 - lr: 0.000391\n",
            "2023-06-16 13:26:39,274 epoch 53 - iter 105/155 - loss 0.42738379 - time (sec): 1.33 - samples/sec: 9222.42 - lr: 0.000391\n",
            "2023-06-16 13:26:39,448 epoch 53 - iter 120/155 - loss 0.42703209 - time (sec): 1.50 - samples/sec: 9216.44 - lr: 0.000391\n",
            "2023-06-16 13:26:39,623 epoch 53 - iter 135/155 - loss 0.42671693 - time (sec): 1.68 - samples/sec: 9344.28 - lr: 0.000391\n",
            "2023-06-16 13:26:39,819 epoch 53 - iter 150/155 - loss 0.42432121 - time (sec): 1.87 - samples/sec: 9299.74 - lr: 0.000391\n",
            "2023-06-16 13:26:39,888 ----------------------------------------------------------------------------------------------------\n",
            "2023-06-16 13:26:39,889 EPOCH 53 done: loss 0.4251 - lr 0.000391\n"
          ]
        },
        {
          "output_type": "stream",
          "name": "stderr",
          "text": [
            "100%|██████████| 20/20 [00:00<00:00, 94.13it/s]"
          ]
        },
        {
          "output_type": "stream",
          "name": "stdout",
          "text": [
            "2023-06-16 13:26:40,124 Evaluating as a multi-label problem: False\n",
            "2023-06-16 13:26:40,161 DEV : loss 0.4172888994216919 - f1-score (micro avg)  0.8173\n",
            "2023-06-16 13:26:40,179 BAD EPOCHS (no improvement): 1\n",
            "2023-06-16 13:26:40,184 ----------------------------------------------------------------------------------------------------\n"
          ]
        },
        {
          "output_type": "stream",
          "name": "stderr",
          "text": [
            "\n"
          ]
        },
        {
          "output_type": "stream",
          "name": "stdout",
          "text": [
            "2023-06-16 13:26:40,371 epoch 54 - iter 15/155 - loss 0.41761842 - time (sec): 0.19 - samples/sec: 9196.32 - lr: 0.000391\n",
            "2023-06-16 13:26:40,563 epoch 54 - iter 30/155 - loss 0.41631636 - time (sec): 0.38 - samples/sec: 9098.69 - lr: 0.000391\n",
            "2023-06-16 13:26:40,745 epoch 54 - iter 45/155 - loss 0.41883790 - time (sec): 0.56 - samples/sec: 9304.74 - lr: 0.000391\n",
            "2023-06-16 13:26:40,936 epoch 54 - iter 60/155 - loss 0.42068450 - time (sec): 0.75 - samples/sec: 9316.99 - lr: 0.000391\n",
            "2023-06-16 13:26:41,136 epoch 54 - iter 75/155 - loss 0.42144654 - time (sec): 0.95 - samples/sec: 9220.89 - lr: 0.000391\n",
            "2023-06-16 13:26:41,315 epoch 54 - iter 90/155 - loss 0.42488822 - time (sec): 1.13 - samples/sec: 9261.72 - lr: 0.000391\n",
            "2023-06-16 13:26:41,513 epoch 54 - iter 105/155 - loss 0.42486647 - time (sec): 1.33 - samples/sec: 9198.07 - lr: 0.000391\n",
            "2023-06-16 13:26:41,714 epoch 54 - iter 120/155 - loss 0.42632782 - time (sec): 1.53 - samples/sec: 9156.47 - lr: 0.000391\n",
            "2023-06-16 13:26:41,900 epoch 54 - iter 135/155 - loss 0.42703314 - time (sec): 1.71 - samples/sec: 9148.78 - lr: 0.000391\n",
            "2023-06-16 13:26:42,076 epoch 54 - iter 150/155 - loss 0.42739287 - time (sec): 1.89 - samples/sec: 9192.50 - lr: 0.000391\n",
            "2023-06-16 13:26:42,134 ----------------------------------------------------------------------------------------------------\n",
            "2023-06-16 13:26:42,136 EPOCH 54 done: loss 0.4277 - lr 0.000391\n"
          ]
        },
        {
          "output_type": "stream",
          "name": "stderr",
          "text": [
            "100%|██████████| 20/20 [00:00<00:00, 100.75it/s]"
          ]
        },
        {
          "output_type": "stream",
          "name": "stdout",
          "text": [
            "2023-06-16 13:26:42,355 Evaluating as a multi-label problem: False\n",
            "2023-06-16 13:26:42,400 DEV : loss 0.41732069849967957 - f1-score (micro avg)  0.8186\n",
            "2023-06-16 13:26:42,418 BAD EPOCHS (no improvement): 2\n",
            "2023-06-16 13:26:42,426 ----------------------------------------------------------------------------------------------------\n"
          ]
        },
        {
          "output_type": "stream",
          "name": "stderr",
          "text": [
            "\n"
          ]
        },
        {
          "output_type": "stream",
          "name": "stdout",
          "text": [
            "2023-06-16 13:26:42,599 epoch 55 - iter 15/155 - loss 0.43185741 - time (sec): 0.17 - samples/sec: 10273.45 - lr: 0.000391\n",
            "2023-06-16 13:26:42,771 epoch 55 - iter 30/155 - loss 0.42187186 - time (sec): 0.34 - samples/sec: 10358.14 - lr: 0.000391\n",
            "2023-06-16 13:26:42,961 epoch 55 - iter 45/155 - loss 0.41813371 - time (sec): 0.53 - samples/sec: 9802.66 - lr: 0.000391\n",
            "2023-06-16 13:26:43,139 epoch 55 - iter 60/155 - loss 0.41813045 - time (sec): 0.71 - samples/sec: 9765.41 - lr: 0.000391\n",
            "2023-06-16 13:26:43,321 epoch 55 - iter 75/155 - loss 0.42258676 - time (sec): 0.89 - samples/sec: 9703.57 - lr: 0.000391\n",
            "2023-06-16 13:26:43,496 epoch 55 - iter 90/155 - loss 0.42519999 - time (sec): 1.07 - samples/sec: 9749.82 - lr: 0.000391\n",
            "2023-06-16 13:26:43,677 epoch 55 - iter 105/155 - loss 0.43026171 - time (sec): 1.25 - samples/sec: 9727.22 - lr: 0.000391\n",
            "2023-06-16 13:26:43,886 epoch 55 - iter 120/155 - loss 0.43192794 - time (sec): 1.46 - samples/sec: 9496.44 - lr: 0.000391\n",
            "2023-06-16 13:26:44,064 epoch 55 - iter 135/155 - loss 0.43232172 - time (sec): 1.64 - samples/sec: 9571.49 - lr: 0.000391\n",
            "2023-06-16 13:26:44,240 epoch 55 - iter 150/155 - loss 0.43137525 - time (sec): 1.81 - samples/sec: 9607.05 - lr: 0.000391\n",
            "2023-06-16 13:26:44,312 ----------------------------------------------------------------------------------------------------\n",
            "2023-06-16 13:26:44,314 EPOCH 55 done: loss 0.4312 - lr 0.000391\n"
          ]
        },
        {
          "output_type": "stream",
          "name": "stderr",
          "text": [
            "100%|██████████| 20/20 [00:00<00:00, 32.03it/s] "
          ]
        },
        {
          "output_type": "stream",
          "name": "stdout",
          "text": [
            "2023-06-16 13:26:44,959 Evaluating as a multi-label problem: False\n",
            "2023-06-16 13:26:44,986 DEV : loss 0.4170987010002136 - f1-score (micro avg)  0.8186\n",
            "2023-06-16 13:26:45,001 BAD EPOCHS (no improvement): 3\n",
            "2023-06-16 13:26:45,009 ----------------------------------------------------------------------------------------------------\n"
          ]
        },
        {
          "output_type": "stream",
          "name": "stderr",
          "text": [
            "\n"
          ]
        },
        {
          "output_type": "stream",
          "name": "stdout",
          "text": [
            "2023-06-16 13:26:45,195 epoch 56 - iter 15/155 - loss 0.40786237 - time (sec): 0.18 - samples/sec: 9794.65 - lr: 0.000391\n",
            "2023-06-16 13:26:45,372 epoch 56 - iter 30/155 - loss 0.41972578 - time (sec): 0.36 - samples/sec: 9856.81 - lr: 0.000391\n",
            "2023-06-16 13:26:45,543 epoch 56 - iter 45/155 - loss 0.42426651 - time (sec): 0.53 - samples/sec: 9968.38 - lr: 0.000391\n",
            "2023-06-16 13:26:45,724 epoch 56 - iter 60/155 - loss 0.42728643 - time (sec): 0.71 - samples/sec: 9833.29 - lr: 0.000391\n",
            "2023-06-16 13:26:45,903 epoch 56 - iter 75/155 - loss 0.42888941 - time (sec): 0.89 - samples/sec: 9816.29 - lr: 0.000391\n",
            "2023-06-16 13:26:46,084 epoch 56 - iter 90/155 - loss 0.42905012 - time (sec): 1.07 - samples/sec: 9795.28 - lr: 0.000391\n",
            "2023-06-16 13:26:46,284 epoch 56 - iter 105/155 - loss 0.42972786 - time (sec): 1.27 - samples/sec: 9631.15 - lr: 0.000391\n",
            "2023-06-16 13:26:46,457 epoch 56 - iter 120/155 - loss 0.43005415 - time (sec): 1.45 - samples/sec: 9650.50 - lr: 0.000391\n",
            "2023-06-16 13:26:46,626 epoch 56 - iter 135/155 - loss 0.42904938 - time (sec): 1.61 - samples/sec: 9700.79 - lr: 0.000391\n",
            "2023-06-16 13:26:46,800 epoch 56 - iter 150/155 - loss 0.42872221 - time (sec): 1.79 - samples/sec: 9747.39 - lr: 0.000391\n",
            "2023-06-16 13:26:46,858 ----------------------------------------------------------------------------------------------------\n",
            "2023-06-16 13:26:46,861 EPOCH 56 done: loss 0.4286 - lr 0.000391\n"
          ]
        },
        {
          "output_type": "stream",
          "name": "stderr",
          "text": [
            "100%|██████████| 20/20 [00:00<00:00, 110.44it/s]"
          ]
        },
        {
          "output_type": "stream",
          "name": "stdout",
          "text": [
            "2023-06-16 13:26:47,058 Evaluating as a multi-label problem: False\n"
          ]
        },
        {
          "output_type": "stream",
          "name": "stderr",
          "text": [
            "\n"
          ]
        },
        {
          "output_type": "stream",
          "name": "stdout",
          "text": [
            "2023-06-16 13:26:47,086 DEV : loss 0.41708436608314514 - f1-score (micro avg)  0.8186\n",
            "2023-06-16 13:26:47,098 Epoch    56: reducing learning rate of group 0 to 1.9531e-04.\n",
            "2023-06-16 13:26:47,099 BAD EPOCHS (no improvement): 4\n",
            "2023-06-16 13:26:47,104 ----------------------------------------------------------------------------------------------------\n",
            "2023-06-16 13:26:47,273 epoch 57 - iter 15/155 - loss 0.42779814 - time (sec): 0.17 - samples/sec: 10520.06 - lr: 0.000195\n",
            "2023-06-16 13:26:47,428 epoch 57 - iter 30/155 - loss 0.42308348 - time (sec): 0.32 - samples/sec: 10831.97 - lr: 0.000195\n",
            "2023-06-16 13:26:47,590 epoch 57 - iter 45/155 - loss 0.43021778 - time (sec): 0.48 - samples/sec: 10807.49 - lr: 0.000195\n",
            "2023-06-16 13:26:47,757 epoch 57 - iter 60/155 - loss 0.43306949 - time (sec): 0.65 - samples/sec: 10793.18 - lr: 0.000195\n",
            "2023-06-16 13:26:47,920 epoch 57 - iter 75/155 - loss 0.43437328 - time (sec): 0.82 - samples/sec: 10745.31 - lr: 0.000195\n",
            "2023-06-16 13:26:48,080 epoch 57 - iter 90/155 - loss 0.43306234 - time (sec): 0.97 - samples/sec: 10748.77 - lr: 0.000195\n",
            "2023-06-16 13:26:48,245 epoch 57 - iter 105/155 - loss 0.43327084 - time (sec): 1.14 - samples/sec: 10665.20 - lr: 0.000195\n",
            "2023-06-16 13:26:48,403 epoch 57 - iter 120/155 - loss 0.43229540 - time (sec): 1.30 - samples/sec: 10724.35 - lr: 0.000195\n",
            "2023-06-16 13:26:48,561 epoch 57 - iter 135/155 - loss 0.42994474 - time (sec): 1.46 - samples/sec: 10769.94 - lr: 0.000195\n",
            "2023-06-16 13:26:48,723 epoch 57 - iter 150/155 - loss 0.42929001 - time (sec): 1.62 - samples/sec: 10771.25 - lr: 0.000195\n",
            "2023-06-16 13:26:48,780 ----------------------------------------------------------------------------------------------------\n",
            "2023-06-16 13:26:48,782 EPOCH 57 done: loss 0.4288 - lr 0.000195\n"
          ]
        },
        {
          "output_type": "stream",
          "name": "stderr",
          "text": [
            "100%|██████████| 20/20 [00:00<00:00, 118.08it/s]"
          ]
        },
        {
          "output_type": "stream",
          "name": "stdout",
          "text": [
            "2023-06-16 13:26:48,968 Evaluating as a multi-label problem: False\n"
          ]
        },
        {
          "output_type": "stream",
          "name": "stderr",
          "text": [
            "\n"
          ]
        },
        {
          "output_type": "stream",
          "name": "stdout",
          "text": [
            "2023-06-16 13:26:48,998 DEV : loss 0.4167451560497284 - f1-score (micro avg)  0.8191\n",
            "2023-06-16 13:26:49,010 BAD EPOCHS (no improvement): 1\n",
            "2023-06-16 13:26:49,015 ----------------------------------------------------------------------------------------------------\n",
            "2023-06-16 13:26:49,199 epoch 58 - iter 15/155 - loss 0.43125271 - time (sec): 0.18 - samples/sec: 9639.93 - lr: 0.000195\n",
            "2023-06-16 13:26:49,370 epoch 58 - iter 30/155 - loss 0.42873174 - time (sec): 0.35 - samples/sec: 9993.30 - lr: 0.000195\n",
            "2023-06-16 13:26:49,536 epoch 58 - iter 45/155 - loss 0.43386158 - time (sec): 0.52 - samples/sec: 10243.31 - lr: 0.000195\n",
            "2023-06-16 13:26:49,704 epoch 58 - iter 60/155 - loss 0.43617289 - time (sec): 0.69 - samples/sec: 10264.15 - lr: 0.000195\n",
            "2023-06-16 13:26:49,874 epoch 58 - iter 75/155 - loss 0.43408101 - time (sec): 0.86 - samples/sec: 10199.21 - lr: 0.000195\n",
            "2023-06-16 13:26:50,038 epoch 58 - iter 90/155 - loss 0.43553812 - time (sec): 1.02 - samples/sec: 10268.15 - lr: 0.000195\n",
            "2023-06-16 13:26:50,212 epoch 58 - iter 105/155 - loss 0.43329938 - time (sec): 1.20 - samples/sec: 10220.38 - lr: 0.000195\n",
            "2023-06-16 13:26:50,385 epoch 58 - iter 120/155 - loss 0.43096601 - time (sec): 1.37 - samples/sec: 10206.58 - lr: 0.000195\n",
            "2023-06-16 13:26:50,541 epoch 58 - iter 135/155 - loss 0.43146685 - time (sec): 1.52 - samples/sec: 10285.75 - lr: 0.000195\n",
            "2023-06-16 13:26:50,702 epoch 58 - iter 150/155 - loss 0.43007825 - time (sec): 1.68 - samples/sec: 10347.34 - lr: 0.000195\n",
            "2023-06-16 13:26:50,757 ----------------------------------------------------------------------------------------------------\n",
            "2023-06-16 13:26:50,759 EPOCH 58 done: loss 0.4290 - lr 0.000195\n"
          ]
        },
        {
          "output_type": "stream",
          "name": "stderr",
          "text": [
            "100%|██████████| 20/20 [00:00<00:00, 121.34it/s]"
          ]
        },
        {
          "output_type": "stream",
          "name": "stdout",
          "text": [
            "2023-06-16 13:26:50,941 Evaluating as a multi-label problem: False\n"
          ]
        },
        {
          "output_type": "stream",
          "name": "stderr",
          "text": [
            "\n"
          ]
        },
        {
          "output_type": "stream",
          "name": "stdout",
          "text": [
            "2023-06-16 13:26:50,971 DEV : loss 0.41684049367904663 - f1-score (micro avg)  0.8177\n",
            "2023-06-16 13:26:50,984 BAD EPOCHS (no improvement): 2\n",
            "2023-06-16 13:26:50,989 ----------------------------------------------------------------------------------------------------\n",
            "2023-06-16 13:26:51,165 epoch 59 - iter 15/155 - loss 0.41941303 - time (sec): 0.17 - samples/sec: 9846.93 - lr: 0.000195\n",
            "2023-06-16 13:26:51,347 epoch 59 - iter 30/155 - loss 0.42755748 - time (sec): 0.36 - samples/sec: 9603.12 - lr: 0.000195\n",
            "2023-06-16 13:26:51,516 epoch 59 - iter 45/155 - loss 0.42735622 - time (sec): 0.52 - samples/sec: 9847.96 - lr: 0.000195\n",
            "2023-06-16 13:26:51,682 epoch 59 - iter 60/155 - loss 0.43175936 - time (sec): 0.69 - samples/sec: 10041.25 - lr: 0.000195\n",
            "2023-06-16 13:26:51,849 epoch 59 - iter 75/155 - loss 0.43373202 - time (sec): 0.86 - samples/sec: 10029.64 - lr: 0.000195\n",
            "2023-06-16 13:26:52,014 epoch 59 - iter 90/155 - loss 0.43182194 - time (sec): 1.02 - samples/sec: 10146.85 - lr: 0.000195\n",
            "2023-06-16 13:26:52,177 epoch 59 - iter 105/155 - loss 0.43181599 - time (sec): 1.19 - samples/sec: 10259.92 - lr: 0.000195\n",
            "2023-06-16 13:26:52,338 epoch 59 - iter 120/155 - loss 0.42911023 - time (sec): 1.35 - samples/sec: 10313.38 - lr: 0.000195\n",
            "2023-06-16 13:26:52,504 epoch 59 - iter 135/155 - loss 0.42908533 - time (sec): 1.51 - samples/sec: 10398.30 - lr: 0.000195\n",
            "2023-06-16 13:26:52,667 epoch 59 - iter 150/155 - loss 0.43028204 - time (sec): 1.68 - samples/sec: 10416.31 - lr: 0.000195\n",
            "2023-06-16 13:26:52,720 ----------------------------------------------------------------------------------------------------\n",
            "2023-06-16 13:26:52,722 EPOCH 59 done: loss 0.4302 - lr 0.000195\n"
          ]
        },
        {
          "output_type": "stream",
          "name": "stderr",
          "text": [
            "100%|██████████| 20/20 [00:00<00:00, 121.28it/s]"
          ]
        },
        {
          "output_type": "stream",
          "name": "stdout",
          "text": [
            "2023-06-16 13:26:52,902 Evaluating as a multi-label problem: False\n"
          ]
        },
        {
          "output_type": "stream",
          "name": "stderr",
          "text": [
            "\n"
          ]
        },
        {
          "output_type": "stream",
          "name": "stdout",
          "text": [
            "2023-06-16 13:26:52,929 DEV : loss 0.4168710708618164 - f1-score (micro avg)  0.8186\n",
            "2023-06-16 13:26:52,944 BAD EPOCHS (no improvement): 3\n",
            "2023-06-16 13:26:52,947 ----------------------------------------------------------------------------------------------------\n",
            "2023-06-16 13:26:53,115 epoch 60 - iter 15/155 - loss 0.46650109 - time (sec): 0.17 - samples/sec: 10089.70 - lr: 0.000195\n",
            "2023-06-16 13:26:53,286 epoch 60 - iter 30/155 - loss 0.44300178 - time (sec): 0.34 - samples/sec: 10091.79 - lr: 0.000195\n",
            "2023-06-16 13:26:53,452 epoch 60 - iter 45/155 - loss 0.42585516 - time (sec): 0.50 - samples/sec: 10167.59 - lr: 0.000195\n",
            "2023-06-16 13:26:53,614 epoch 60 - iter 60/155 - loss 0.42573132 - time (sec): 0.66 - samples/sec: 10236.85 - lr: 0.000195\n",
            "2023-06-16 13:26:53,780 epoch 60 - iter 75/155 - loss 0.42352285 - time (sec): 0.83 - samples/sec: 10367.60 - lr: 0.000195\n",
            "2023-06-16 13:26:53,946 epoch 60 - iter 90/155 - loss 0.42053850 - time (sec): 1.00 - samples/sec: 10434.98 - lr: 0.000195\n",
            "2023-06-16 13:26:54,107 epoch 60 - iter 105/155 - loss 0.42229353 - time (sec): 1.16 - samples/sec: 10531.07 - lr: 0.000195\n",
            "2023-06-16 13:26:54,279 epoch 60 - iter 120/155 - loss 0.42638954 - time (sec): 1.33 - samples/sec: 10496.41 - lr: 0.000195\n",
            "2023-06-16 13:26:54,432 epoch 60 - iter 135/155 - loss 0.42656225 - time (sec): 1.48 - samples/sec: 10569.07 - lr: 0.000195\n",
            "2023-06-16 13:26:54,608 epoch 60 - iter 150/155 - loss 0.42709702 - time (sec): 1.66 - samples/sec: 10520.06 - lr: 0.000195\n",
            "2023-06-16 13:26:54,669 ----------------------------------------------------------------------------------------------------\n",
            "2023-06-16 13:26:54,671 EPOCH 60 done: loss 0.4271 - lr 0.000195\n"
          ]
        },
        {
          "output_type": "stream",
          "name": "stderr",
          "text": [
            "100%|██████████| 20/20 [00:00<00:00, 118.81it/s]"
          ]
        },
        {
          "output_type": "stream",
          "name": "stdout",
          "text": [
            "2023-06-16 13:26:54,854 Evaluating as a multi-label problem: False\n"
          ]
        },
        {
          "output_type": "stream",
          "name": "stderr",
          "text": [
            "\n"
          ]
        },
        {
          "output_type": "stream",
          "name": "stdout",
          "text": [
            "2023-06-16 13:26:54,883 DEV : loss 0.4168577492237091 - f1-score (micro avg)  0.8191\n",
            "2023-06-16 13:26:54,901 Epoch    60: reducing learning rate of group 0 to 9.7656e-05.\n",
            "2023-06-16 13:26:54,903 BAD EPOCHS (no improvement): 4\n",
            "2023-06-16 13:26:54,909 ----------------------------------------------------------------------------------------------------\n",
            "2023-06-16 13:26:54,910 ----------------------------------------------------------------------------------------------------\n",
            "2023-06-16 13:26:54,913 learning rate too small - quitting training!\n",
            "2023-06-16 13:26:54,915 ----------------------------------------------------------------------------------------------------\n",
            "2023-06-16 13:26:58,735 ----------------------------------------------------------------------------------------------------\n",
            "2023-06-16 13:27:06,331 SequenceTagger predicts: Dictionary with 2 tags: 0, 1\n"
          ]
        },
        {
          "output_type": "stream",
          "name": "stderr",
          "text": [
            "100%|██████████| 20/20 [00:02<00:00,  8.00it/s]"
          ]
        },
        {
          "output_type": "stream",
          "name": "stdout",
          "text": [
            "2023-06-16 13:27:09,223 Evaluating as a multi-label problem: False\n"
          ]
        },
        {
          "output_type": "stream",
          "name": "stderr",
          "text": [
            "\n"
          ]
        },
        {
          "output_type": "stream",
          "name": "stdout",
          "text": [
            "2023-06-16 13:27:09,254 0.8107\t0.8107\t0.8107\t0.8107\n",
            "2023-06-16 13:27:09,257 \n",
            "Results:\n",
            "- F-score (micro) 0.8107\n",
            "- F-score (macro) 0.5482\n",
            "- Accuracy 0.8107\n",
            "\n",
            "By class:\n",
            "              precision    recall  f1-score   support\n",
            "\n",
            "           0     0.8093    0.9949    0.8926      1762\n",
            "           1     0.8571    0.1156    0.2038       467\n",
            "\n",
            "    accuracy                         0.8107      2229\n",
            "   macro avg     0.8332    0.5553    0.5482      2229\n",
            "weighted avg     0.8193    0.8107    0.7483      2229\n",
            "\n",
            "2023-06-16 13:27:09,260 ----------------------------------------------------------------------------------------------------\n"
          ]
        },
        {
          "output_type": "execute_result",
          "data": {
            "text/plain": [
              "{'test_score': 0.8106774338268282,\n",
              " 'dev_score_history': [0.7865219357756671,\n",
              "  0.7865219357756671,\n",
              "  0.7865219357756671,\n",
              "  0.7865219357756671,\n",
              "  0.7865219357756671,\n",
              "  0.7865219357756671,\n",
              "  0.7865219357756671,\n",
              "  0.7865219357756671,\n",
              "  0.7865219357756671,\n",
              "  0.7865219357756671,\n",
              "  0.7865219357756671,\n",
              "  0.7919493441881501,\n",
              "  0.7869742198100407,\n",
              "  0.8168249660786974,\n",
              "  0.8091361374943464,\n",
              "  0.8086838534599728,\n",
              "  0.8014473089099955,\n",
              "  0.8086838534599728,\n",
              "  0.8082315694255993,\n",
              "  0.8086838534599728,\n",
              "  0.819538670284939,\n",
              "  0.8132066938037087,\n",
              "  0.8186341022161918,\n",
              "  0.8127544097693351,\n",
              "  0.8104929895974672,\n",
              "  0.8154681139755766,\n",
              "  0.8154681139755766,\n",
              "  0.8132066938037087,\n",
              "  0.8141112618724559,\n",
              "  0.8163726820443238,\n",
              "  0.8145635459068294,\n",
              "  0.8163726820443238,\n",
              "  0.8186341022161918,\n",
              "  0.8181818181818182,\n",
              "  0.8186341022161918,\n",
              "  0.8163726820443238,\n",
              "  0.8181818181818182,\n",
              "  0.8186341022161918,\n",
              "  0.8181818181818182,\n",
              "  0.8159203980099502,\n",
              "  0.8159203980099502,\n",
              "  0.8177295341474446,\n",
              "  0.8181818181818182,\n",
              "  0.8213478064224333,\n",
              "  0.8168249660786974,\n",
              "  0.8172772501130711,\n",
              "  0.8190863862505654,\n",
              "  0.8181818181818182,\n",
              "  0.819538670284939,\n",
              "  0.8190863862505654,\n",
              "  0.8190863862505654,\n",
              "  0.8172772501130711,\n",
              "  0.8172772501130711,\n",
              "  0.8186341022161918,\n",
              "  0.8186341022161918,\n",
              "  0.8186341022161918,\n",
              "  0.8190863862505654,\n",
              "  0.8177295341474446,\n",
              "  0.8186341022161918,\n",
              "  0.8190863862505654],\n",
              " 'train_loss_history': [0.5255812493601015,\n",
              "  0.5189058401479567,\n",
              "  0.5196117857798688,\n",
              "  0.5136635800363174,\n",
              "  0.511078853287356,\n",
              "  0.5066452539569455,\n",
              "  0.5061669523128526,\n",
              "  0.5061585214515096,\n",
              "  0.505924538618794,\n",
              "  0.5046394853484072,\n",
              "  0.49780358163687943,\n",
              "  0.49648602183738677,\n",
              "  0.49426760175993006,\n",
              "  0.48856817193100643,\n",
              "  0.4856082003971015,\n",
              "  0.4802427403967093,\n",
              "  0.4761680294680971,\n",
              "  0.4726672231782466,\n",
              "  0.45267861518054464,\n",
              "  0.45015497660810894,\n",
              "  0.44761054558738295,\n",
              "  0.4475403791496358,\n",
              "  0.4455881414689179,\n",
              "  0.44686221677967053,\n",
              "  0.4464404605688886,\n",
              "  0.44137776695541747,\n",
              "  0.43765925994510935,\n",
              "  0.44090245516610593,\n",
              "  0.4378055025094014,\n",
              "  0.43432712177733285,\n",
              "  0.4345081162103391,\n",
              "  0.43262435256867054,\n",
              "  0.4309556796473584,\n",
              "  0.4301641889351881,\n",
              "  0.4291518803566161,\n",
              "  0.43004122737204287,\n",
              "  0.4292550231744888,\n",
              "  0.4294251049934911,\n",
              "  0.4285170827281953,\n",
              "  0.4319054544765593,\n",
              "  0.4294977796409105,\n",
              "  0.4293549304805116,\n",
              "  0.42954191152952914,\n",
              "  0.42844797202082613,\n",
              "  0.4286194997314331,\n",
              "  0.4298475047790415,\n",
              "  0.4295591248435819,\n",
              "  0.4290919458757874,\n",
              "  0.42880028272085513,\n",
              "  0.42881110682606227,\n",
              "  0.42687960804209363,\n",
              "  0.4318341112862018,\n",
              "  0.42514191430349896,\n",
              "  0.42774855383298743,\n",
              "  0.43118089745286564,\n",
              "  0.42864123634439105,\n",
              "  0.42875377129501674,\n",
              "  0.42901167987243133,\n",
              "  0.43019482296666395,\n",
              "  0.4270660256311479],\n",
              " 'dev_loss_history': [0.513359546661377,\n",
              "  0.5047157406806946,\n",
              "  0.510646402835846,\n",
              "  0.49383673071861267,\n",
              "  0.5003040432929993,\n",
              "  0.49548476934432983,\n",
              "  0.4903302788734436,\n",
              "  0.4739281237125397,\n",
              "  0.49135535955429077,\n",
              "  0.4716068208217621,\n",
              "  0.49658164381980896,\n",
              "  0.47278791666030884,\n",
              "  0.47078296542167664,\n",
              "  0.4879070222377777,\n",
              "  0.44620633125305176,\n",
              "  0.45766204595565796,\n",
              "  0.44940853118896484,\n",
              "  0.44978994131088257,\n",
              "  0.4410528242588043,\n",
              "  0.4361001253128052,\n",
              "  0.44146642088890076,\n",
              "  0.4248441159725189,\n",
              "  0.42817750573158264,\n",
              "  0.4282483756542206,\n",
              "  0.4312303960323334,\n",
              "  0.42057371139526367,\n",
              "  0.42626386880874634,\n",
              "  0.42646095156669617,\n",
              "  0.42079195380210876,\n",
              "  0.424318790435791,\n",
              "  0.42279312014579773,\n",
              "  0.4188425838947296,\n",
              "  0.41827893257141113,\n",
              "  0.42004600167274475,\n",
              "  0.41801196336746216,\n",
              "  0.4195702075958252,\n",
              "  0.41919171810150146,\n",
              "  0.4179878234863281,\n",
              "  0.41711634397506714,\n",
              "  0.4162313938140869,\n",
              "  0.4153900742530823,\n",
              "  0.4193614721298218,\n",
              "  0.41735711693763733,\n",
              "  0.4193620979785919,\n",
              "  0.4170915186405182,\n",
              "  0.4189716875553131,\n",
              "  0.41747692227363586,\n",
              "  0.4164004921913147,\n",
              "  0.41703277826309204,\n",
              "  0.41687554121017456,\n",
              "  0.4169236421585083,\n",
              "  0.4176273047924042,\n",
              "  0.4172888994216919,\n",
              "  0.41732069849967957,\n",
              "  0.4170987010002136,\n",
              "  0.41708436608314514,\n",
              "  0.4167451560497284,\n",
              "  0.41684049367904663,\n",
              "  0.4168710708618164,\n",
              "  0.4168577492237091]}"
            ]
          },
          "metadata": {},
          "execution_count": 16
        }
      ]
    },
    {
      "cell_type": "markdown",
      "source": [
        "## Model Inference"
      ],
      "metadata": {
        "id": "NZDUm_RBca5Y"
      }
    },
    {
      "cell_type": "code",
      "source": [
        "sent1 = \"Suche nach ähm geöffneten Elektronikläden.\"\n",
        "sent2 = \"Statistik meiner meiner Herzfrequenz aufrufen.\"\n",
        "sent3 = \"Zahle meine Strom meine Stromrechnung.\"\n",
        "sent4 = \"Gesundheitsdaten zeige mir die Gesundheitsdaten.\"\n",
        "sent5 = \"Könnten Sie eine Erinnerungsmail machen.\"\n",
        "sentences = []\n",
        "sentences.append(sent1)\n",
        "sentences.append(sent2)\n",
        "sentences.append(sent3)\n",
        "sentences.append(sent4)\n",
        "sentences.append(sent5)"
      ],
      "metadata": {
        "id": "vi-sm3BHOD1k"
      },
      "execution_count": null,
      "outputs": []
    },
    {
      "cell_type": "code",
      "source": [
        "from flair.data import Sentence\n",
        "from flair.models import SequenceTagger\n",
        "# load the trained model\n",
        "model = SequenceTagger.load(save_dir+'/best-model.pt')\n",
        "# create example sentence\n",
        "for x in sentences:\n",
        "  sentence = Sentence(x)\n",
        "  # predict the tags\n",
        "  model.predict(sentence)\n",
        "  print(sentence.to_tagged_string())"
      ],
      "metadata": {
        "id": "ucUvxKKA_sWk",
        "colab": {
          "base_uri": "https://localhost:8080/"
        },
        "outputId": "84b59c21-7f3a-4024-bc12-48613726c3cc"
      },
      "execution_count": null,
      "outputs": [
        {
          "output_type": "stream",
          "name": "stdout",
          "text": [
            "2023-06-16 13:27:16,914 SequenceTagger predicts: Dictionary with 2 tags: 0, 1\n",
            "Sentence[6]: \"Suche nach ähm geöffneten Elektronikläden.\" → [\"Suche\"/0, \"nach\"/1, \"ähm\"/1, \"geöffneten\"/0, \"Elektronikläden\"/0, \".\"/0]\n",
            "Sentence[6]: \"Statistik meiner meiner Herzfrequenz aufrufen.\" → [\"Statistik\"/0, \"meiner\"/0, \"meiner\"/0, \"Herzfrequenz\"/0, \"aufrufen\"/0, \".\"/0]\n",
            "Sentence[6]: \"Zahle meine Strom meine Stromrechnung.\" → [\"Zahle\"/0, \"meine\"/0, \"Strom\"/0, \"meine\"/0, \"Stromrechnung\"/0, \".\"/0]\n",
            "Sentence[6]: \"Gesundheitsdaten zeige mir die Gesundheitsdaten.\" → [\"Gesundheitsdaten\"/0, \"zeige\"/0, \"mir\"/0, \"die\"/0, \"Gesundheitsdaten\"/0, \".\"/0]\n",
            "Sentence[6]: \"Könnten Sie eine Erinnerungsmail machen.\" → [\"Könnten\"/0, \"Sie\"/0, \"eine\"/0, \"Erinnerungsmail\"/0, \"machen\"/0, \".\"/0]\n"
          ]
        }
      ]
    },
    {
      "cell_type": "code",
      "source": [],
      "metadata": {
        "id": "L9wf9OdehbNA"
      },
      "execution_count": null,
      "outputs": []
    }
  ]
}